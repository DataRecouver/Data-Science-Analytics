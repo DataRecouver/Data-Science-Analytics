{
  "nbformat": 4,
  "nbformat_minor": 0,
  "metadata": {
    "colab": {
      "name": "Cópia de Exercicios_numpy.ipynb",
      "provenance": [],
      "collapsed_sections": []
    },
    "kernelspec": {
      "name": "python3",
      "display_name": "Python 3"
    }
  },
  "cells": [
    {
      "cell_type": "markdown",
      "metadata": {
        "id": "iywq-R4pxEnp"
      },
      "source": [
        "#Exercícios Numpy\n"
      ]
    },
    {
      "cell_type": "markdown",
      "metadata": {
        "id": "aErQL-LLxuEl"
      },
      "source": [
        "1 - Importe a biblioteca numpy com o alias \"np\""
      ]
    },
    {
      "cell_type": "code",
      "metadata": {
        "id": "BMYOQDFi1XgR"
      },
      "source": [
        "import numpy as np"
      ],
      "execution_count": 2,
      "outputs": []
    },
    {
      "cell_type": "markdown",
      "metadata": {
        "id": "BgXpGrIfxIrd"
      },
      "source": [
        "2 - Crie um array qualquer e informe o tamanho deste vetor em memória."
      ]
    },
    {
      "cell_type": "code",
      "source": [
        "a = np.arange(1)\n",
        "a.dtype"
      ],
      "metadata": {
        "colab": {
          "base_uri": "https://localhost:8080/"
        },
        "id": "j7w_Mz6ZEhRh",
        "outputId": "8ab86c66-04aa-4767-b3e1-e78ce7aac6a7"
      },
      "execution_count": 3,
      "outputs": [
        {
          "output_type": "execute_result",
          "data": {
            "text/plain": [
              "dtype('int64')"
            ]
          },
          "metadata": {},
          "execution_count": 3
        }
      ]
    },
    {
      "cell_type": "markdown",
      "metadata": {
        "id": "6EqpIbdXx7t4"
      },
      "source": [
        "3 - Reduza o tamanho do array anterior em memória sem alterar ou excluir nenhum dado e exiba o novo tamanho do array."
      ]
    },
    {
      "cell_type": "code",
      "source": [
        "a.astype('int16')"
      ],
      "metadata": {
        "colab": {
          "base_uri": "https://localhost:8080/"
        },
        "id": "pIYsSCoKEh3J",
        "outputId": "c129209b-89b7-4e20-bbf4-c0056ea792c5"
      },
      "execution_count": 4,
      "outputs": [
        {
          "output_type": "execute_result",
          "data": {
            "text/plain": [
              "array([0], dtype=int16)"
            ]
          },
          "metadata": {},
          "execution_count": 4
        }
      ]
    },
    {
      "cell_type": "markdown",
      "metadata": {
        "id": "oDUkaPs5xT32"
      },
      "source": [
        "4 - Crie um vetor com valores de 10 a 49"
      ]
    },
    {
      "cell_type": "code",
      "source": [
        "a = np.arange(10,50)\n",
        "a"
      ],
      "metadata": {
        "colab": {
          "base_uri": "https://localhost:8080/"
        },
        "id": "r-DOyQmfEiV4",
        "outputId": "8d2fded2-0aaf-41b1-f934-3c257a71d2d5"
      },
      "execution_count": 5,
      "outputs": [
        {
          "output_type": "execute_result",
          "data": {
            "text/plain": [
              "array([10, 11, 12, 13, 14, 15, 16, 17, 18, 19, 20, 21, 22, 23, 24, 25, 26,\n",
              "       27, 28, 29, 30, 31, 32, 33, 34, 35, 36, 37, 38, 39, 40, 41, 42, 43,\n",
              "       44, 45, 46, 47, 48, 49])"
            ]
          },
          "metadata": {},
          "execution_count": 5
        }
      ]
    },
    {
      "cell_type": "markdown",
      "metadata": {
        "id": "Tg6QYeiVyhIx"
      },
      "source": [
        "5 - Inverta o vetor anterior"
      ]
    },
    {
      "cell_type": "code",
      "source": [
        "a[::-1]"
      ],
      "metadata": {
        "colab": {
          "base_uri": "https://localhost:8080/"
        },
        "id": "F1pf8hsoEiyf",
        "outputId": "54f4d868-d51e-4f23-8573-a9d4a7ee884c"
      },
      "execution_count": 6,
      "outputs": [
        {
          "output_type": "execute_result",
          "data": {
            "text/plain": [
              "array([49, 48, 47, 46, 45, 44, 43, 42, 41, 40, 39, 38, 37, 36, 35, 34, 33,\n",
              "       32, 31, 30, 29, 28, 27, 26, 25, 24, 23, 22, 21, 20, 19, 18, 17, 16,\n",
              "       15, 14, 13, 12, 11, 10])"
            ]
          },
          "metadata": {},
          "execution_count": 6
        }
      ]
    },
    {
      "cell_type": "markdown",
      "metadata": {
        "id": "4tUyjQmey6OY"
      },
      "source": [
        "6- Crie uma matriz 3x3 com valores que variam de 0 a 8"
      ]
    },
    {
      "cell_type": "code",
      "source": [
        "a = np.zeros((3,3))\n",
        "a = np.arange(9)\n",
        "a = np.resize(a,(3,3))\n",
        "a"
      ],
      "metadata": {
        "colab": {
          "base_uri": "https://localhost:8080/"
        },
        "id": "nr191VHIEjNl",
        "outputId": "ba869a51-8ee1-4f8b-b2e4-434da510159c"
      },
      "execution_count": 7,
      "outputs": [
        {
          "output_type": "execute_result",
          "data": {
            "text/plain": [
              "array([[0, 1, 2],\n",
              "       [3, 4, 5],\n",
              "       [6, 7, 8]])"
            ]
          },
          "metadata": {},
          "execution_count": 7
        }
      ]
    },
    {
      "cell_type": "markdown",
      "metadata": {
        "id": "M4TmxfoKzJ5D"
      },
      "source": [
        "7- Encontre índices de elementos diferentes de zero de [1,2,0,0,4,0] (dica: tem função pronta para isso)"
      ]
    },
    {
      "cell_type": "code",
      "source": [
        "x = np.array([1,2,0,0,4,0])\n",
        "np.nonzero(x)"
      ],
      "metadata": {
        "colab": {
          "base_uri": "https://localhost:8080/"
        },
        "id": "HM7sIrp7Ejk-",
        "outputId": "737e672a-cf76-4de6-b98a-cac7ccaa1fe2"
      },
      "execution_count": 8,
      "outputs": [
        {
          "output_type": "execute_result",
          "data": {
            "text/plain": [
              "(array([0, 1, 4]),)"
            ]
          },
          "metadata": {},
          "execution_count": 8
        }
      ]
    },
    {
      "cell_type": "markdown",
      "metadata": {
        "id": "UlaIfAnl1MCt"
      },
      "source": [
        "8 - Crie uma matriz 10x10 com valores aleatórios e encontre os valores mínimo, máximo, média, moda e desvio padrão."
      ]
    },
    {
      "cell_type": "code",
      "source": [
        "from scipy import stats\n",
        "\n",
        "a = np.random.rand(10,10)\n",
        "print(\"Max - \"+str(np.max(a)))\n",
        "print(\"min - \"+str(np.min(a)))\n",
        "print(\"mean - \"+str(np.mean(a)))\n",
        "print(\"median - \"+str(np.median(a)))\n",
        "vals,counts = np.unique(a, return_counts=True)\n",
        "index = np.argmax(counts)\n",
        "print(\"mode - \"+str(vals[index]))\n",
        "print(\"std - \"+str(np.std(a)))\n"
      ],
      "metadata": {
        "colab": {
          "base_uri": "https://localhost:8080/"
        },
        "id": "dt9FSfW0Ej6f",
        "outputId": "19d7b4f0-c486-4cb8-ffd2-67fd1120d009"
      },
      "execution_count": 9,
      "outputs": [
        {
          "output_type": "stream",
          "name": "stdout",
          "text": [
            "Max - 0.9986107950941664\n",
            "min - 0.013577757847544114\n",
            "mean - 0.4421814486127995\n",
            "median - 0.3803382951725688\n",
            "mode - 0.013577757847544114\n",
            "std - 0.28580244509839636\n"
          ]
        }
      ]
    },
    {
      "cell_type": "markdown",
      "metadata": {
        "id": "X8AHaSC53LJa"
      },
      "source": [
        "9 - Dada uma matriz 1D, multiplique por 10 todos os elementos que estão entre 3 e 8."
      ]
    },
    {
      "cell_type": "code",
      "source": [
        "a = np.arange(10)\n",
        "a[(a>3) & (a<8)] *= 10\n",
        "a\n"
      ],
      "metadata": {
        "colab": {
          "base_uri": "https://localhost:8080/"
        },
        "id": "cI2caX9lEkPd",
        "outputId": "8dba71b3-b107-4aab-b18e-87d9a05b61c6"
      },
      "execution_count": 10,
      "outputs": [
        {
          "output_type": "execute_result",
          "data": {
            "text/plain": [
              "array([ 0,  1,  2,  3, 40, 50, 60, 70,  8,  9])"
            ]
          },
          "metadata": {},
          "execution_count": 10
        }
      ]
    },
    {
      "cell_type": "markdown",
      "metadata": {
        "id": "9bhK8QwQ9GhN"
      },
      "source": [
        "10 - Crie uma matriz 5x5 com valores de linha variando de 0 a 4"
      ]
    },
    {
      "cell_type": "code",
      "source": [
        "np.random.rand(5,5)*4"
      ],
      "metadata": {
        "colab": {
          "base_uri": "https://localhost:8080/"
        },
        "id": "eQcFBJ1zEkjV",
        "outputId": "f0ef952b-a927-448a-83e1-a3a382dde87d"
      },
      "execution_count": 11,
      "outputs": [
        {
          "output_type": "execute_result",
          "data": {
            "text/plain": [
              "array([[0.79127505, 0.86795937, 1.72617676, 2.69081591, 0.01604605],\n",
              "       [0.03651621, 1.95968654, 3.26032924, 0.16957188, 1.77566026],\n",
              "       [3.71040686, 3.16445617, 2.98995463, 2.70310637, 1.27389454],\n",
              "       [0.6336402 , 0.0170095 , 3.49134839, 0.89898851, 3.80420407],\n",
              "       [1.45820498, 1.05130336, 2.95920084, 0.71145603, 0.14575089]])"
            ]
          },
          "metadata": {},
          "execution_count": 11
        }
      ]
    },
    {
      "cell_type": "markdown",
      "metadata": {
        "id": "D56KlRkr9N3h"
      },
      "source": [
        "11 - Crie um vetor de inteiros aleatório de tamanho 10 e ordene-o"
      ]
    },
    {
      "cell_type": "code",
      "source": [
        "np.random.seed(1)\n",
        "a = np.random.random(10)\n",
        "np.sort(a)"
      ],
      "metadata": {
        "colab": {
          "base_uri": "https://localhost:8080/"
        },
        "id": "fFZnsIsxEk3k",
        "outputId": "8c5ef838-1cb2-4ab2-8ea3-8badb398f185"
      },
      "execution_count": 12,
      "outputs": [
        {
          "output_type": "execute_result",
          "data": {
            "text/plain": [
              "array([1.14374817e-04, 9.23385948e-02, 1.46755891e-01, 1.86260211e-01,\n",
              "       3.02332573e-01, 3.45560727e-01, 3.96767474e-01, 4.17022005e-01,\n",
              "       5.38816734e-01, 7.20324493e-01])"
            ]
          },
          "metadata": {},
          "execution_count": 12
        }
      ]
    },
    {
      "cell_type": "markdown",
      "metadata": {
        "id": "3eNkXerL9eA4"
      },
      "source": [
        "12 - Crie o mesmo vetor da questão anterior (com o mesmo seed) e exiba a ordem de seus índices (função argsort)"
      ]
    },
    {
      "cell_type": "code",
      "source": [
        "np.random.seed(1)\n",
        "a = np.random.random(10)\n",
        "a.argsort()"
      ],
      "metadata": {
        "colab": {
          "base_uri": "https://localhost:8080/"
        },
        "id": "tr4KolRTElPn",
        "outputId": "296195cf-90d6-496d-cbc6-d42ca5d3981f"
      },
      "execution_count": 13,
      "outputs": [
        {
          "output_type": "execute_result",
          "data": {
            "text/plain": [
              "array([2, 5, 4, 6, 3, 7, 8, 0, 9, 1])"
            ]
          },
          "metadata": {},
          "execution_count": 13
        }
      ]
    },
    {
      "cell_type": "markdown",
      "metadata": {
        "id": "JYEzKYQa--M_"
      },
      "source": [
        "13 - Crie um vetor aleatório de tamanho 10 e substitua o valor máximo por 0"
      ]
    },
    {
      "cell_type": "code",
      "source": [
        "a[np.argmax(a)] = 0\n",
        "a"
      ],
      "metadata": {
        "colab": {
          "base_uri": "https://localhost:8080/"
        },
        "id": "dwD3qo3pElkn",
        "outputId": "f5510d3b-5a80-4737-eb9b-4ce03ea07445"
      },
      "execution_count": 14,
      "outputs": [
        {
          "output_type": "execute_result",
          "data": {
            "text/plain": [
              "array([4.17022005e-01, 0.00000000e+00, 1.14374817e-04, 3.02332573e-01,\n",
              "       1.46755891e-01, 9.23385948e-02, 1.86260211e-01, 3.45560727e-01,\n",
              "       3.96767474e-01, 5.38816734e-01])"
            ]
          },
          "metadata": {},
          "execution_count": 14
        }
      ]
    },
    {
      "cell_type": "markdown",
      "metadata": {
        "id": "1iDJBx-o_ger"
      },
      "source": [
        "14 - Crie uma matriz 3x3 e exiba o índice e o valor de cada posição. (dica: consulte as funções np.ndenumerate e np.ndindex)"
      ]
    },
    {
      "cell_type": "code",
      "source": [
        "a = np.random.rand(3,3)\n",
        "for index, x in np.ndenumerate(a):\n",
        "    print(index, x)\n",
        "print(\"\")\n",
        "for index, x in np.ndindex(3,3):\n",
        "    print(index, x)"
      ],
      "metadata": {
        "colab": {
          "base_uri": "https://localhost:8080/"
        },
        "id": "oJD01YtKEl63",
        "outputId": "0ab2b21b-33d7-49b3-b6ea-e2a69936390b"
      },
      "execution_count": 15,
      "outputs": [
        {
          "output_type": "stream",
          "name": "stdout",
          "text": [
            "(0, 0) 0.4191945144032948\n",
            "(0, 1) 0.6852195003967595\n",
            "(0, 2) 0.20445224973151743\n",
            "(1, 0) 0.8781174363909454\n",
            "(1, 1) 0.027387593197926163\n",
            "(1, 2) 0.6704675101784022\n",
            "(2, 0) 0.41730480236712697\n",
            "(2, 1) 0.5586898284457517\n",
            "(2, 2) 0.14038693859523377\n",
            "\n",
            "0 0\n",
            "0 1\n",
            "0 2\n",
            "1 0\n",
            "1 1\n",
            "1 2\n",
            "2 0\n",
            "2 1\n",
            "2 2\n"
          ]
        }
      ]
    },
    {
      "cell_type": "markdown",
      "metadata": {
        "id": "28Ntqd9xBG3N"
      },
      "source": [
        "15- Como ordenar uma matriz pela enésima coluna?"
      ]
    },
    {
      "cell_type": "code",
      "source": [
        "col = 1\n",
        "\n",
        "\n",
        "\n",
        "col += -1\n",
        "a = np.random.rand(3,3)\n",
        "print(a)\n",
        "np.sort(a[:,col])[::-1]\n"
      ],
      "metadata": {
        "colab": {
          "base_uri": "https://localhost:8080/"
        },
        "id": "gRLHclDzEmRM",
        "outputId": "6b1650d3-4e81-420a-9471-dca10a19ed98"
      },
      "execution_count": 23,
      "outputs": [
        {
          "output_type": "stream",
          "name": "stdout",
          "text": [
            "[[0.04995346 0.53589641 0.66379465]\n",
            " [0.51488911 0.94459476 0.58655504]\n",
            " [0.90340192 0.1374747  0.13927635]]\n"
          ]
        },
        {
          "output_type": "execute_result",
          "data": {
            "text/plain": [
              "array([0.90340192, 0.51488911, 0.04995346])"
            ]
          },
          "metadata": {},
          "execution_count": 23
        }
      ]
    },
    {
      "cell_type": "code",
      "source": [
        ""
      ],
      "metadata": {
        "id": "GefkM57OgOUQ"
      },
      "execution_count": null,
      "outputs": []
    }
  ]
}