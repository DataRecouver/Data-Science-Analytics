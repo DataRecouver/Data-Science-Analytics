{
  "nbformat": 4,
  "nbformat_minor": 0,
  "metadata": {
    "colab": {
      "name": "Numpy_intro.ipynb",
      "provenance": [],
      "collapsed_sections": []
    },
    "kernelspec": {
      "name": "python3",
      "display_name": "Python 3"
    }
  },
  "cells": [
    {
      "cell_type": "markdown",
      "metadata": {
        "id": "spW8gCTtqL_S"
      },
      "source": [
        "# Introdução à biblioteca Numpy\n",
        "\n",
        "\n",
        "Fontes: \n",
        "\n",
        "* https://numpy.org/devdocs/user/quickstart.html\n",
        "* https://medium.com/ensina-ai/entendendo-a-biblioteca-numpy-4858fde63355"
      ]
    },
    {
      "cell_type": "markdown",
      "metadata": {
        "id": "TOPGJ2THwWW4"
      },
      "source": [
        "O NumPy é uma poderosa biblioteca Python que é usada principalmente para realizar cálculos em Arrays Multidimensionais. \n",
        "\n",
        "O NumPy fornece um grande conjunto de funções e operações de biblioteca que ajudam os programadores a executar facilmente cálculos numéricos. Esses tipos de cálculos numéricos são amplamente utilizados em tarefas como:\n",
        "\n",
        "* **Modelos de Machine Learning:** ao escrever algoritmos de Machine Learning, supõe-se que se realize vários cálculos numéricos em Array. Por exemplo, multiplicação de Arrays, transposição, adição, etc. O NumPy fornece uma excelente biblioteca para cálculos fáceis (em termos de escrita de código) e rápidos (tempo de execução). Os Arrays NumPy são usados para armazenar os dados de treinamento, bem como os parâmetros dos modelos de Machine Learning.\n",
        "\n",
        "* **Processamento de Imagem e Computação Gráfica:** imagens no computador são representadas como Arrays Multidimensionais de números. NumPy torna-se a escolha mais natural para o mesmo. O NumPy, na verdade, fornece algumas excelentes funções de biblioteca para rápida manipulação de imagens. Alguns exemplos são o espelhamento de uma imagem, a rotação de uma imagem por um determinado ângulo etc.\n",
        "\n",
        "* **Tarefas matemáticas:** NumPy é bastante útil para executar várias tarefas matemáticas como integração numérica, diferenciação, interpolação, extrapolação e muitas outras. O NumPy possui também funções incorporadas para álgebra linear e geração de números aleatórios. É uma biblioteca que pode ser usada em conjuto do SciPy e Matplotlib. Substituindo o MATLAB quando se trata de tarefas matemáticas.\n",
        "\n",
        "\n",
        "Fonte: https://medium.com/ensina-ai/entendendo-a-biblioteca-numpy-4858fde63355"
      ]
    },
    {
      "cell_type": "markdown",
      "metadata": {
        "id": "1dQcnRz_1NxK"
      },
      "source": [
        "A classe de array do NumPy é a ndarray, e não deve ser confudida com a classe padrão de arrays do Python, a array.array, uma vez que essa só lida com vetores unidimensionais e possui muito menos funcionalidades.\n",
        "\n",
        "Os principais atributos da classe numpy.ndarray são:\n",
        "\n",
        "* **ndarray.ndim**: número de dimensões;\n",
        "* **ndarray.shape**: retorna uma tupla com tamanho das dimensões. Uma matriz com n linhas e m colunas vai ter o shape de (n,m). O tamanho da tupla é equivalente ao número de dimensões do array (ndarray.ndim);\n",
        "* **ndarray.size**: número total de elementos no array;\n",
        "* **ndarray.dtype**: retorna um objeto referente ao tipo dos elementos do array. Pode-se criar uma array com os tipos pré-definidos do Python, mas a biblioteca NumPy possui seus próprios tipos de dados, como: numpy.int32, numpy.int16 e numpy.float64.\n",
        "* **ndarray.itemsize**: número de bytes de cada elemento do array;\n",
        "* **ndarray.data**: retorna os elementos do array.\n"
      ]
    },
    {
      "cell_type": "code",
      "metadata": {
        "id": "GUVf5LO21NDc",
        "colab": {
          "base_uri": "https://localhost:8080/"
        },
        "outputId": "3411b350-ae31-45ab-83cf-d0e91924d407"
      },
      "source": [
        "import numpy as np\n",
        "\n",
        "a = np.arange(15).reshape(3, 5)\n",
        "a"
      ],
      "execution_count": null,
      "outputs": [
        {
          "output_type": "execute_result",
          "data": {
            "text/plain": [
              "array([[ 0,  1,  2,  3,  4],\n",
              "       [ 5,  6,  7,  8,  9],\n",
              "       [10, 11, 12, 13, 14]])"
            ]
          },
          "metadata": {},
          "execution_count": 6
        }
      ]
    },
    {
      "cell_type": "code",
      "source": [
        "np.arange(15)"
      ],
      "metadata": {
        "colab": {
          "base_uri": "https://localhost:8080/"
        },
        "id": "jTUCdtbm1CCr",
        "outputId": "1a3de0df-49c0-4bd5-a7ad-98bbc63f3afe"
      },
      "execution_count": null,
      "outputs": [
        {
          "output_type": "execute_result",
          "data": {
            "text/plain": [
              "array([ 0,  1,  2,  3,  4,  5,  6,  7,  8,  9, 10, 11, 12, 13, 14])"
            ]
          },
          "metadata": {},
          "execution_count": 4
        }
      ]
    },
    {
      "cell_type": "code",
      "metadata": {
        "colab": {
          "base_uri": "https://localhost:8080/"
        },
        "id": "oZ6RitsqWV-j",
        "outputId": "fd24ff5c-18fb-49c8-be98-7843c89f6f26"
      },
      "source": [
        "print(\"shape: {}\".format(a.shape))\n",
        "\n",
        "print(\"ndim: {}\".format(a.ndim))\n",
        "\n",
        "print(\"itemsize: {}\".format(a.itemsize))\n",
        "\n",
        "print(\"size: {}\".format(a.size))\n",
        "\n",
        "print(\"dtype: {}\".format(a.dtype.name))\n",
        "\n",
        "print(\"type: {}\".format(type(a)))"
      ],
      "execution_count": null,
      "outputs": [
        {
          "output_type": "stream",
          "name": "stdout",
          "text": [
            "shape: (3, 5)\n",
            "ndim: 2\n",
            "itemsize: 8\n",
            "size: 15\n",
            "dtype: int64\n",
            "type: <class 'numpy.ndarray'>\n"
          ]
        }
      ]
    },
    {
      "cell_type": "markdown",
      "metadata": {
        "id": "gNAuqfL_8ce8"
      },
      "source": [
        "O NumPy converte todos os elementos do array para o tipo mais geral entre os seus elementos"
      ]
    },
    {
      "cell_type": "code",
      "metadata": {
        "id": "9Sk6DNv_wVs6",
        "colab": {
          "base_uri": "https://localhost:8080/"
        },
        "outputId": "43653d58-cb1a-450b-c162-0ef0398043cf"
      },
      "source": [
        "b = np.array([6, 7, 8])\n",
        "print(b)\n",
        "print(b.dtype.name)\n",
        "\n",
        "b = np.array([6.1, 7, 8])\n",
        "print(b)\n",
        "print(b.dtype.name)\n",
        "\n",
        "b = np.array([6.1, '7', 8])\n",
        "print(b)\n",
        "print(b.dtype.name)\n",
        "\n",
        "b = np.array([6.1, 'Pós-graduação em Data Science & Analytics', 8])\n",
        "print(b)\n",
        "print(b.dtype.name)\n",
        "\n",
        "b = np.array([6.1, 7, 'Lorem ipsum dolor sit amet, consectetur adipiscing elit, sed do eiusmod tempor incididunt ut labore et dolore magna aliqua. Ut enim ad minim veniam, quis nostrud exercitation ullamco laboris nisi ut aliquip ex ea commodo consequat. Duis aute irure dolor in reprehenderit in voluptate velit esse cillum dolore eu fugiat nulla pariatur. Excepteur sint occaecat cupidatat non proident, sunt in culpa qui officia deserunt mollit anim id est laborum.'])\n",
        "print(b)\n",
        "print(b.dtype.name)"
      ],
      "execution_count": null,
      "outputs": [
        {
          "output_type": "stream",
          "name": "stdout",
          "text": [
            "[6 7 8]\n",
            "int64\n",
            "[6.1 7.  8. ]\n",
            "float64\n",
            "['6.1' '7' '8']\n",
            "str1024\n",
            "['6.1' 'Pós-graduação em Data Science & Analytics' '8']\n",
            "str1312\n",
            "['6.1' '7'\n",
            " 'Lorem ipsum dolor sit amet, consectetur adipiscing elit, sed do eiusmod tempor incididunt ut labore et dolore magna aliqua. Ut enim ad minim veniam, quis nostrud exercitation ullamco laboris nisi ut aliquip ex ea commodo consequat. Duis aute irure dolor in reprehenderit in voluptate velit esse cillum dolore eu fugiat nulla pariatur. Excepteur sint occaecat cupidatat non proident, sunt in culpa qui officia deserunt mollit anim id est laborum.']\n",
            "str14240\n"
          ]
        }
      ]
    },
    {
      "cell_type": "markdown",
      "metadata": {
        "id": "VRDAvTBN32jn"
      },
      "source": [
        "O tipo nulo do Numpy: numpy.nan"
      ]
    },
    {
      "cell_type": "code",
      "metadata": {
        "id": "YkcKVksQ36X6",
        "colab": {
          "base_uri": "https://localhost:8080/"
        },
        "outputId": "f35a3f07-9c17-494a-fef9-eea690b5340a"
      },
      "source": [
        "print(0 * np.nan)\n",
        "print(np.nan == np.nan)\n",
        "print(np.nan is np.nan)\n",
        "print(np.nan - np.nan)\n",
        "print(np.nan in set([np.nan]))"
      ],
      "execution_count": null,
      "outputs": [
        {
          "output_type": "stream",
          "name": "stdout",
          "text": [
            "nan\n",
            "False\n",
            "True\n",
            "nan\n",
            "True\n"
          ]
        }
      ]
    },
    {
      "cell_type": "markdown",
      "metadata": {
        "id": "MYAa9zR_08q0"
      },
      "source": [
        "## Criação de arrays"
      ]
    },
    {
      "cell_type": "markdown",
      "metadata": {
        "id": "ZnU7kUcTAHAQ"
      },
      "source": [
        "Existem diversas formas de criar arrays NumPy. Uma delas é a partir da conversão de outras estruturas de dados como listas, tuplas e dicionários. "
      ]
    },
    {
      "cell_type": "code",
      "metadata": {
        "id": "udmBVTuIqGnK",
        "colab": {
          "base_uri": "https://localhost:8080/"
        },
        "outputId": "4b0802f9-beb7-4f08-9e7c-f4aa84459659"
      },
      "source": [
        "lista = [1,2,3,4,5]\n",
        "tupla = (1,2)\n",
        "dicionario = {'a':1, 'b':2, 'c':3}\n",
        "\n",
        "array_lista = np.array(lista)\n",
        "array_tupla = np.array(tupla)\n",
        "array_dicionario = np.array(list(dicionario.items()))\n",
        "\n",
        "print('lista: {} ndarray:{}'.format(lista, array_lista))\n",
        "print('tupla: {} ndarray:{}'.format(tupla, array_tupla))\n",
        "print('dicionário: {} ndarray:{}'.format(dicionario, array_dicionario))\n"
      ],
      "execution_count": null,
      "outputs": [
        {
          "output_type": "stream",
          "name": "stdout",
          "text": [
            "lista: [1, 2, 3, 4, 5] ndarray:[1 2 3 4 5]\n",
            "tupla: (1, 2) ndarray:[1 2]\n",
            "dicionário: {'a': 1, 'b': 2, 'c': 3} ndarray:[['a' '1']\n",
            " ['b' '2']\n",
            " ['c' '3']]\n"
          ]
        }
      ]
    },
    {
      "cell_type": "markdown",
      "metadata": {
        "id": "QQ7BmnxeAqCT"
      },
      "source": [
        "Também pode-se criar arrays bidimensionais a partir de sequências de dados."
      ]
    },
    {
      "cell_type": "code",
      "metadata": {
        "id": "_GScno7eAo34",
        "colab": {
          "base_uri": "https://localhost:8080/"
        },
        "outputId": "b7388592-6a06-4374-d900-9a6f8821d593"
      },
      "source": [
        "b = np.array([(1.5,2,3), (4,5,6), (4,5,0)])\n",
        "b"
      ],
      "execution_count": null,
      "outputs": [
        {
          "output_type": "execute_result",
          "data": {
            "text/plain": [
              "array([[1.5, 2. , 3. ],\n",
              "       [4. , 5. , 6. ],\n",
              "       [4. , 5. , 0. ]])"
            ]
          },
          "metadata": {},
          "execution_count": 21
        }
      ]
    },
    {
      "cell_type": "markdown",
      "metadata": {
        "id": "5mTVA85gBbmJ"
      },
      "source": [
        "Lembrando que não se pode criar arrays com múltiplos argumentos numéricos."
      ]
    },
    {
      "cell_type": "code",
      "metadata": {
        "id": "eg-qLjaJAF8O",
        "colab": {
          "base_uri": "https://localhost:8080/",
          "height": 200
        },
        "outputId": "8043d541-8d1f-4632-cc48-6cb34b5ade5b"
      },
      "source": [
        "#forma errada\n",
        "b = np.array(1,2,3)\n",
        "b"
      ],
      "execution_count": null,
      "outputs": [
        {
          "output_type": "error",
          "ename": "TypeError",
          "evalue": "ignored",
          "traceback": [
            "\u001b[0;31m---------------------------------------------------------------------------\u001b[0m",
            "\u001b[0;31mTypeError\u001b[0m                                 Traceback (most recent call last)",
            "\u001b[0;32m<ipython-input-24-57d4cbdd4890>\u001b[0m in \u001b[0;36m<module>\u001b[0;34m()\u001b[0m\n\u001b[1;32m      1\u001b[0m \u001b[0;31m#forma errada\u001b[0m\u001b[0;34m\u001b[0m\u001b[0;34m\u001b[0m\u001b[0;34m\u001b[0m\u001b[0m\n\u001b[0;32m----> 2\u001b[0;31m \u001b[0mb\u001b[0m \u001b[0;34m=\u001b[0m \u001b[0mnp\u001b[0m\u001b[0;34m.\u001b[0m\u001b[0marray\u001b[0m\u001b[0;34m(\u001b[0m\u001b[0;36m1\u001b[0m\u001b[0;34m,\u001b[0m\u001b[0;36m2\u001b[0m\u001b[0;34m,\u001b[0m\u001b[0;36m3\u001b[0m\u001b[0;34m)\u001b[0m\u001b[0;34m\u001b[0m\u001b[0;34m\u001b[0m\u001b[0m\n\u001b[0m\u001b[1;32m      3\u001b[0m \u001b[0mb\u001b[0m\u001b[0;34m\u001b[0m\u001b[0;34m\u001b[0m\u001b[0m\n",
            "\u001b[0;31mTypeError\u001b[0m: array() takes from 1 to 2 positional arguments but 3 were given"
          ]
        }
      ]
    },
    {
      "cell_type": "code",
      "metadata": {
        "id": "FhYEhC1sBay-",
        "colab": {
          "base_uri": "https://localhost:8080/"
        },
        "outputId": "2d1d4dbd-fda5-48a5-ab1c-e5ca3fb63706"
      },
      "source": [
        "#forma correta\n",
        "a = np.array([1,2,3])\n",
        "a"
      ],
      "execution_count": null,
      "outputs": [
        {
          "output_type": "execute_result",
          "data": {
            "text/plain": [
              "array([1, 2, 3])"
            ]
          },
          "metadata": {},
          "execution_count": 25
        }
      ]
    },
    {
      "cell_type": "markdown",
      "metadata": {
        "id": "iMczdO6MB81D"
      },
      "source": [
        "O tipo do array também pode ser especificado explicitamente\n",
        "\n"
      ]
    },
    {
      "cell_type": "code",
      "metadata": {
        "id": "WvKSXZqUB5Yz",
        "colab": {
          "base_uri": "https://localhost:8080/"
        },
        "outputId": "d4bac0d2-ac90-437f-bca3-bdb618647a09"
      },
      "source": [
        "print(np.array([1,2,3], dtype=complex))"
      ],
      "execution_count": null,
      "outputs": [
        {
          "output_type": "stream",
          "text": [
            "[1.+0.j 2.+0.j 3.+0.j]\n"
          ],
          "name": "stdout"
        }
      ]
    },
    {
      "cell_type": "code",
      "metadata": {
        "id": "leLxcPDXSQV9",
        "colab": {
          "base_uri": "https://localhost:8080/"
        },
        "outputId": "bb7e0513-1ee7-4e38-d777-7fa4ae89323a"
      },
      "source": [
        "a = np.array([1,2,3], dtype=complex)\n",
        "b = np.array([1,2,3], dtype=np.int16)\n",
        "c = np.array([1,2,3], dtype=np.int64)\n",
        "\n",
        "print(a.itemsize, b.itemsize, c.itemsize)"
      ],
      "execution_count": null,
      "outputs": [
        {
          "output_type": "stream",
          "name": "stdout",
          "text": [
            "16 2 8\n"
          ]
        }
      ]
    },
    {
      "cell_type": "markdown",
      "metadata": {
        "id": "gAeqDHk_ExAq"
      },
      "source": [
        "É possível criar arrays vazios, com zeros, uns e com números não inicializados."
      ]
    },
    {
      "cell_type": "code",
      "metadata": {
        "id": "mZr8BbgyFEKB",
        "cellView": "both",
        "colab": {
          "base_uri": "https://localhost:8080/"
        },
        "outputId": "c8a998f7-dda9-4398-a2e7-dea20cf20c68"
      },
      "source": [
        "print(np.zeros( (2,4,2) ),  end='\\n\\n')\n",
        "print(np.ones( (2,4) ), end='\\n\\n')\n",
        "print(np.random.random(size=(2,3)), end='\\n\\n')\n",
        "print(np.empty((3,4)))"
      ],
      "execution_count": null,
      "outputs": [
        {
          "output_type": "stream",
          "name": "stdout",
          "text": [
            "[[[0. 0.]\n",
            "  [0. 0.]\n",
            "  [0. 0.]\n",
            "  [0. 0.]]\n",
            "\n",
            " [[0. 0.]\n",
            "  [0. 0.]\n",
            "  [0. 0.]\n",
            "  [0. 0.]]]\n",
            "\n",
            "[[1. 1. 1. 1.]\n",
            " [1. 1. 1. 1.]]\n",
            "\n",
            "[[0.61306285 0.58008737 0.66964358]\n",
            " [0.64739167 0.0081891  0.08031978]]\n",
            "\n",
            "[[3.88787767e-316 6.79038653e-313 2.37663529e-312 2.05833592e-312]\n",
            " [2.41907520e-312 2.56761491e-312 1.03977794e-312 1.06099790e-312]\n",
            " [1.08221785e-312 2.02566915e-322 0.00000000e+000 0.00000000e+000]]\n"
          ]
        }
      ]
    },
    {
      "cell_type": "code",
      "source": [
        "print(np.zeros( (2,4,3) ),  end='\\n\\n')"
      ],
      "metadata": {
        "colab": {
          "base_uri": "https://localhost:8080/"
        },
        "id": "G5if7Drq5-zT",
        "outputId": "a620f375-e574-4203-c024-a852a7288972"
      },
      "execution_count": null,
      "outputs": [
        {
          "output_type": "stream",
          "name": "stdout",
          "text": [
            "[[[0. 0. 0.]\n",
            "  [0. 0. 0.]\n",
            "  [0. 0. 0.]\n",
            "  [0. 0. 0.]]\n",
            "\n",
            " [[0. 0. 0.]\n",
            "  [0. 0. 0.]\n",
            "  [0. 0. 0.]\n",
            "  [0. 0. 0.]]]\n",
            "\n"
          ]
        }
      ]
    },
    {
      "cell_type": "markdown",
      "metadata": {
        "id": "9ssABOU8cCNc"
      },
      "source": [
        "Sobre os aleatórios em específico, é importante definir um seed"
      ]
    },
    {
      "cell_type": "code",
      "metadata": {
        "id": "0Sps9f0BcA-p",
        "colab": {
          "base_uri": "https://localhost:8080/"
        },
        "outputId": "3cb49781-5b43-4208-bd6d-e91a6644a209"
      },
      "source": [
        "np.random.seed(0)\n",
        "print(np.random.random(5), end='\\n\\n')\n",
        "\n",
        "np.random.seed(1)\n",
        "print(np.random.random(5), end='\\n\\n')\n",
        "\n",
        "np.random.seed(0)\n",
        "print(np.random.random(5), end='\\n\\n')"
      ],
      "execution_count": null,
      "outputs": [
        {
          "output_type": "stream",
          "name": "stdout",
          "text": [
            "[0.5488135  0.71518937 0.60276338 0.54488318 0.4236548 ]\n",
            "\n",
            "[4.17022005e-01 7.20324493e-01 1.14374817e-04 3.02332573e-01\n",
            " 1.46755891e-01]\n",
            "\n",
            "[0.5488135  0.71518937 0.60276338 0.54488318 0.4236548 ]\n",
            "\n"
          ]
        }
      ]
    },
    {
      "cell_type": "markdown",
      "metadata": {
        "id": "hzeVlhjuddlb"
      },
      "source": [
        "Nesse [link](https://docs.scipy.org/doc/numpy-1.15.1/reference/routines.random.html) você encontra diversas outras funções que a biblioteca Numpy oferece para geração de sequências de números aleatórios seguindo os mais diversos padrões."
      ]
    },
    {
      "cell_type": "markdown",
      "metadata": {
        "id": "FHGsNYOmFS8L"
      },
      "source": [
        "O NumPy também possui a função **arange()** para gerar sequências numéricas de forma análoga à função **range()**, mas que retorna um array ao invés de uma lista."
      ]
    },
    {
      "cell_type": "code",
      "metadata": {
        "id": "KLyfxMaCFSLw",
        "colab": {
          "base_uri": "https://localhost:8080/"
        },
        "outputId": "51593735-bb65-48e8-8e0f-edb7d140c633"
      },
      "source": [
        "print(np.arange( 10, 30, 1 ))\n",
        "print(np.arange( 10, 30, .5 ))"
      ],
      "execution_count": null,
      "outputs": [
        {
          "output_type": "stream",
          "name": "stdout",
          "text": [
            "[10 11 12 13 14 15 16 17 18 19 20 21 22 23 24 25 26 27 28 29]\n",
            "[10.  10.5 11.  11.5 12.  12.5 13.  13.5 14.  14.5 15.  15.5 16.  16.5\n",
            " 17.  17.5 18.  18.5 19.  19.5 20.  20.5 21.  21.5 22.  22.5 23.  23.5\n",
            " 24.  24.5 25.  25.5 26.  26.5 27.  27.5 28.  28.5 29.  29.5]\n"
          ]
        }
      ]
    },
    {
      "cell_type": "markdown",
      "metadata": {
        "id": "8XWJBN0vIjcL"
      },
      "source": [
        "Também é possível criar arrays multidimensionais a partir de sequências numéricas usando a função **reshape()**."
      ]
    },
    {
      "cell_type": "code",
      "metadata": {
        "id": "_JrLjJGUIYNa",
        "colab": {
          "base_uri": "https://localhost:8080/"
        },
        "outputId": "66576c77-739b-4e50-8f72-df21202f244e"
      },
      "source": [
        "print(\"1-D\")\n",
        "print(np.arange(6),end='\\n\\n')\n",
        "\n",
        "print(\"2-D\")\n",
        "print(np.arange(12).reshape(4,3),end='\\n\\n')\n",
        "\n",
        "print(\"3-D\")\n",
        "print(np.arange(24).reshape(2,3,4),end='\\n\\n')\n",
        "\n",
        "print(\"4-D\")\n",
        "print(np.arange(48).reshape(2,2,3,4),end='\\n\\n')"
      ],
      "execution_count": null,
      "outputs": [
        {
          "output_type": "stream",
          "name": "stdout",
          "text": [
            "1-D\n",
            "[0 1 2 3 4 5]\n",
            "\n",
            "2-D\n",
            "[[ 0  1  2]\n",
            " [ 3  4  5]\n",
            " [ 6  7  8]\n",
            " [ 9 10 11]]\n",
            "\n",
            "3-D\n",
            "[[[ 0  1  2  3]\n",
            "  [ 4  5  6  7]\n",
            "  [ 8  9 10 11]]\n",
            "\n",
            " [[12 13 14 15]\n",
            "  [16 17 18 19]\n",
            "  [20 21 22 23]]]\n",
            "\n",
            "4-D\n",
            "[[[[ 0  1  2  3]\n",
            "   [ 4  5  6  7]\n",
            "   [ 8  9 10 11]]\n",
            "\n",
            "  [[12 13 14 15]\n",
            "   [16 17 18 19]\n",
            "   [20 21 22 23]]]\n",
            "\n",
            "\n",
            " [[[24 25 26 27]\n",
            "   [28 29 30 31]\n",
            "   [32 33 34 35]]\n",
            "\n",
            "  [[36 37 38 39]\n",
            "   [40 41 42 43]\n",
            "   [44 45 46 47]]]]\n",
            "\n"
          ]
        }
      ]
    },
    {
      "cell_type": "markdown",
      "metadata": {
        "id": "z3seDHcZF0mX"
      },
      "source": [
        "Outra forma de gerar arrays de sequências numéricas cujo passo é um float é utilizando a função **linspace()** , esta que recebe como argumento o número de elementos que queremos, em vez do passo."
      ]
    },
    {
      "cell_type": "code",
      "metadata": {
        "id": "uw3N3kLMGfmA",
        "colab": {
          "base_uri": "https://localhost:8080/"
        },
        "outputId": "9b02e930-34ef-48ac-d1e8-d7b6b05ec2cb"
      },
      "source": [
        "print(np.linspace(0, 10, 5), end='\\n\\n')\n",
        "\n",
        "print(np.linspace(0, np.pi*2, 10))"
      ],
      "execution_count": null,
      "outputs": [
        {
          "output_type": "stream",
          "name": "stdout",
          "text": [
            "[ 0.   2.5  5.   7.5 10. ]\n",
            "\n",
            "[0.         0.6981317  1.3962634  2.0943951  2.7925268  3.4906585\n",
            " 4.1887902  4.88692191 5.58505361 6.28318531]\n"
          ]
        }
      ]
    },
    {
      "cell_type": "markdown",
      "metadata": {
        "id": "Xv2sbUYuHXzL"
      },
      "source": [
        "## Operações básicas"
      ]
    },
    {
      "cell_type": "markdown",
      "metadata": {
        "id": "nVNhnbx3MHwL"
      },
      "source": [
        "O NumPy permite a realização de operações aritméticas entre dois arrays como se fossem valores escalares.\n",
        "\n",
        "Internamente, a biblioteca aplica a operação matemática a cada elemento do array, gerando num novo array com os valores resultantes."
      ]
    },
    {
      "cell_type": "code",
      "metadata": {
        "id": "rzzTQL6YL32i",
        "colab": {
          "base_uri": "https://localhost:8080/"
        },
        "outputId": "e59145d3-1038-4721-e2fb-cfae30ddcd8f"
      },
      "source": [
        "a = np.array( [20,30,40,50] )\n",
        "\n",
        "b = np.arange( 4 )\n",
        "\n",
        "c = a-b\n",
        "\n",
        "print('A: {}'.format(a), end='\\n\\n')\n",
        "print('B: {}'.format(b), end='\\n\\n')\n",
        "print('C: {}'.format(a-b), end='\\n\\n')\n",
        "print('A*B: {}'.format(a*b), end='\\n\\n')\n",
        "print('B**2: {}'.format(b**2), end='\\n\\n')\n",
        "print('10*sin(B): {}'.format(10*np.sin(a)), end='\\n\\n')\n",
        "print('A<35: {}'.format(a<35))"
      ],
      "execution_count": null,
      "outputs": [
        {
          "output_type": "stream",
          "name": "stdout",
          "text": [
            "A: [20 30 40 50]\n",
            "\n",
            "B: [0 1 2 3]\n",
            "\n",
            "C: [20 29 38 47]\n",
            "\n",
            "A*B: [  0  30  80 150]\n",
            "\n",
            "B**2: [0 1 4 9]\n",
            "\n",
            "10*sin(B): [ 9.12945251 -9.88031624  7.4511316  -2.62374854]\n",
            "\n",
            "A<35: [ True  True False False]\n"
          ]
        }
      ]
    },
    {
      "cell_type": "markdown",
      "metadata": {
        "id": "KcXvbAciT2sl"
      },
      "source": [
        "Observe que A * B não resulta no produto entre matrizes. O produto entre matrizes é obtido através do perador **@** ou com a função **dot()**"
      ]
    },
    {
      "cell_type": "code",
      "metadata": {
        "id": "Xw4jU2wUULVY",
        "colab": {
          "base_uri": "https://localhost:8080/"
        },
        "outputId": "9659a3fe-6e19-4542-d406-ed582e9afe98"
      },
      "source": [
        "a = np.array( [[1,1],[0,1]] )\n",
        "b = np.array( [[2,0],[3,4]] )\n",
        "\n",
        "print ('A * B:\\n{}'.format(a * b), end='\\n\\n')\n",
        "\n",
        "print ('A @ B:\\n{}'.format(a @ b), end='\\n\\n')\n",
        "\n",
        "print ('A @ B:\\n{}'.format(a.dot(b)))"
      ],
      "execution_count": null,
      "outputs": [
        {
          "output_type": "stream",
          "name": "stdout",
          "text": [
            "A * B:\n",
            "[[2 0]\n",
            " [0 4]]\n",
            "\n",
            "A @ B:\n",
            "[[5 4]\n",
            " [3 4]]\n",
            "\n",
            "A @ B:\n",
            "[[5 4]\n",
            " [3 4]]\n"
          ]
        }
      ]
    },
    {
      "cell_type": "markdown",
      "metadata": {
        "id": "O2NN2lHcYb3K"
      },
      "source": [
        "Também é possível utilizar operadores de atribuição com Python, como +=, -=, //=, etc. "
      ]
    },
    {
      "cell_type": "code",
      "metadata": {
        "id": "xATT8_3OYa7x",
        "colab": {
          "base_uri": "https://localhost:8080/"
        },
        "outputId": "9da329d6-0e73-4e72-e43c-10c01c465b2a"
      },
      "source": [
        "a = np.ones((2,3), dtype=int)\n",
        "b = np.random.randint(0,5, size=(2,3))\n",
        "print('a:', a, end='\\n\\n')\n",
        "print('b:', b, end='\\n\\n')\n",
        "\n",
        "a *= 3\n",
        "\n",
        "print('a *= 3:', a, end='\\n\\n')\n",
        "\n",
        "b += a\n",
        "\n",
        "print('b += a: ', b, end='\\n\\n')\n",
        "\n",
        "a += b  \n",
        "\n",
        "print('a += b: ', b, end='\\n\\n')"
      ],
      "execution_count": null,
      "outputs": [
        {
          "output_type": "stream",
          "name": "stdout",
          "text": [
            "a: [[1 1 1]\n",
            " [1 1 1]]\n",
            "\n",
            "b: [[2 4 1]\n",
            " [4 4 2]]\n",
            "\n",
            "a *= 3: [[3 3 3]\n",
            " [3 3 3]]\n",
            "\n",
            "b += a:  [[5 7 4]\n",
            " [7 7 5]]\n",
            "\n",
            "a += b:  [[5 7 4]\n",
            " [7 7 5]]\n",
            "\n"
          ]
        }
      ]
    },
    {
      "cell_type": "markdown",
      "metadata": {
        "id": "-G5aQgA6OVcG"
      },
      "source": [
        "E se os arrays não tiverem o mesmo número de elementos/dimensões?\n",
        "\n",
        "**O que funciona:**"
      ]
    },
    {
      "cell_type": "code",
      "metadata": {
        "id": "UwpB05nVPqoG",
        "colab": {
          "base_uri": "https://localhost:8080/"
        },
        "outputId": "cd1f333f-b5c7-480f-d08d-4582609386bd"
      },
      "source": [
        "a = np.array([[1,2],[3,4],[5,6],[7,8]])\n",
        "b = np.array([10])\n",
        "\n",
        "print(a)\n",
        "print('A*B:\\n {}'.format(a*b))"
      ],
      "execution_count": null,
      "outputs": [
        {
          "output_type": "stream",
          "name": "stdout",
          "text": [
            "[[1 2]\n",
            " [3 4]\n",
            " [5 6]\n",
            " [7 8]]\n",
            "A*B:\n",
            " [[10 20]\n",
            " [30 40]\n",
            " [50 60]\n",
            " [70 80]]\n"
          ]
        }
      ]
    },
    {
      "cell_type": "code",
      "metadata": {
        "id": "fMe0gWdHOUU9",
        "colab": {
          "base_uri": "https://localhost:8080/"
        },
        "outputId": "0cbdc256-9c23-4d44-9600-61005c5f0dd5"
      },
      "source": [
        "a = np.array([[1,2],[3,4],[5,6],[7,8]])\n",
        "b = np.array([10,20])\n",
        "\n",
        "print('A*B:\\n {}'.format(a*b))\n",
        "print(b.shape, a.shape)"
      ],
      "execution_count": null,
      "outputs": [
        {
          "output_type": "stream",
          "name": "stdout",
          "text": [
            "A*B:\n",
            " [[ 10  40]\n",
            " [ 30  80]\n",
            " [ 50 120]\n",
            " [ 70 160]]\n",
            "(2,) (4, 2)\n"
          ]
        }
      ]
    },
    {
      "cell_type": "code",
      "metadata": {
        "id": "fwvs5emhP0nx",
        "colab": {
          "base_uri": "https://localhost:8080/"
        },
        "outputId": "d082714f-2b60-4fcd-a870-e1a3e75a3af3"
      },
      "source": [
        "a = np.array([[[1,2],[3,4]],[[5,6],[7,8]]])\n",
        "b = np.array([[10,20],[20,30]])\n",
        "\n",
        "print('A', a)\n",
        "print('\\n')\n",
        "print('B', b)\n",
        "print('\\n\\n')\n",
        "print('A*B:\\n {}'.format(a*b))\n",
        "print(a.shape, b.shape)"
      ],
      "execution_count": null,
      "outputs": [
        {
          "output_type": "stream",
          "name": "stdout",
          "text": [
            "A [[[1 2]\n",
            "  [3 4]]\n",
            "\n",
            " [[5 6]\n",
            "  [7 8]]]\n",
            "\n",
            "\n",
            "B [[10 20]\n",
            " [20 30]]\n",
            "\n",
            "\n",
            "\n",
            "A*B:\n",
            " [[[ 10  40]\n",
            "  [ 60 120]]\n",
            "\n",
            " [[ 50 120]\n",
            "  [140 240]]]\n",
            "(2, 2, 2) (2, 2)\n"
          ]
        }
      ]
    },
    {
      "cell_type": "markdown",
      "metadata": {
        "id": "uPrdKySeS9Ql"
      },
      "source": [
        "**O que não funciona:**"
      ]
    },
    {
      "cell_type": "code",
      "metadata": {
        "id": "mE5nHT30P5JW",
        "colab": {
          "base_uri": "https://localhost:8080/",
          "height": 200
        },
        "outputId": "e93aeb66-5bc2-477a-c53a-1585f76e7536"
      },
      "source": [
        "a = np.array([[1,2],[3,4],[5,6],[7,8]])\n",
        "b = np.array([10,20,30])\n",
        "\n",
        "print('A*B:\\n {}'.format(a*b))"
      ],
      "execution_count": null,
      "outputs": [
        {
          "output_type": "error",
          "ename": "ValueError",
          "evalue": "ignored",
          "traceback": [
            "\u001b[0;31m---------------------------------------------------------------------------\u001b[0m",
            "\u001b[0;31mValueError\u001b[0m                                Traceback (most recent call last)",
            "\u001b[0;32m<ipython-input-46-26a2895bae58>\u001b[0m in \u001b[0;36m<module>\u001b[0;34m()\u001b[0m\n\u001b[1;32m      2\u001b[0m \u001b[0mb\u001b[0m \u001b[0;34m=\u001b[0m \u001b[0mnp\u001b[0m\u001b[0;34m.\u001b[0m\u001b[0marray\u001b[0m\u001b[0;34m(\u001b[0m\u001b[0;34m[\u001b[0m\u001b[0;36m10\u001b[0m\u001b[0;34m,\u001b[0m\u001b[0;36m20\u001b[0m\u001b[0;34m,\u001b[0m\u001b[0;36m30\u001b[0m\u001b[0;34m]\u001b[0m\u001b[0;34m)\u001b[0m\u001b[0;34m\u001b[0m\u001b[0;34m\u001b[0m\u001b[0m\n\u001b[1;32m      3\u001b[0m \u001b[0;34m\u001b[0m\u001b[0m\n\u001b[0;32m----> 4\u001b[0;31m \u001b[0mprint\u001b[0m\u001b[0;34m(\u001b[0m\u001b[0;34m'A*B:\\n {}'\u001b[0m\u001b[0;34m.\u001b[0m\u001b[0mformat\u001b[0m\u001b[0;34m(\u001b[0m\u001b[0ma\u001b[0m\u001b[0;34m*\u001b[0m\u001b[0mb\u001b[0m\u001b[0;34m)\u001b[0m\u001b[0;34m)\u001b[0m\u001b[0;34m\u001b[0m\u001b[0;34m\u001b[0m\u001b[0m\n\u001b[0m",
            "\u001b[0;31mValueError\u001b[0m: operands could not be broadcast together with shapes (4,2) (3,) "
          ]
        }
      ]
    },
    {
      "cell_type": "code",
      "metadata": {
        "id": "h8m_ZN0NP5QV",
        "colab": {
          "base_uri": "https://localhost:8080/",
          "height": 321
        },
        "outputId": "b318f49f-719c-4722-b1b6-76ecfdb23b99"
      },
      "source": [
        "a = np.array([[1,2],[3,4],[5,6],[7,8]])\n",
        "b = np.array([[10,20],[30,40]])\n",
        "\n",
        "print(a)\n",
        "print(b)\n",
        "print(a.shape, b.shape)\n",
        "print('A*B:\\n {}'.format(a*b))\n"
      ],
      "execution_count": null,
      "outputs": [
        {
          "output_type": "stream",
          "name": "stdout",
          "text": [
            "[[1 2]\n",
            " [3 4]\n",
            " [5 6]\n",
            " [7 8]]\n",
            "[[10 20]\n",
            " [30 40]]\n",
            "(4, 2) (2, 2)\n"
          ]
        },
        {
          "output_type": "error",
          "ename": "ValueError",
          "evalue": "ignored",
          "traceback": [
            "\u001b[0;31m---------------------------------------------------------------------------\u001b[0m",
            "\u001b[0;31mValueError\u001b[0m                                Traceback (most recent call last)",
            "\u001b[0;32m<ipython-input-47-1355d15c1d88>\u001b[0m in \u001b[0;36m<module>\u001b[0;34m()\u001b[0m\n\u001b[1;32m      5\u001b[0m \u001b[0mprint\u001b[0m\u001b[0;34m(\u001b[0m\u001b[0mb\u001b[0m\u001b[0;34m)\u001b[0m\u001b[0;34m\u001b[0m\u001b[0;34m\u001b[0m\u001b[0m\n\u001b[1;32m      6\u001b[0m \u001b[0mprint\u001b[0m\u001b[0;34m(\u001b[0m\u001b[0ma\u001b[0m\u001b[0;34m.\u001b[0m\u001b[0mshape\u001b[0m\u001b[0;34m,\u001b[0m \u001b[0mb\u001b[0m\u001b[0;34m.\u001b[0m\u001b[0mshape\u001b[0m\u001b[0;34m)\u001b[0m\u001b[0;34m\u001b[0m\u001b[0;34m\u001b[0m\u001b[0m\n\u001b[0;32m----> 7\u001b[0;31m \u001b[0mprint\u001b[0m\u001b[0;34m(\u001b[0m\u001b[0;34m'A*B:\\n {}'\u001b[0m\u001b[0;34m.\u001b[0m\u001b[0mformat\u001b[0m\u001b[0;34m(\u001b[0m\u001b[0ma\u001b[0m\u001b[0;34m*\u001b[0m\u001b[0mb\u001b[0m\u001b[0;34m)\u001b[0m\u001b[0;34m)\u001b[0m\u001b[0;34m\u001b[0m\u001b[0;34m\u001b[0m\u001b[0m\n\u001b[0m",
            "\u001b[0;31mValueError\u001b[0m: operands could not be broadcast together with shapes (4,2) (2,2) "
          ]
        }
      ]
    },
    {
      "cell_type": "markdown",
      "metadata": {
        "id": "47NgqstqTAL2"
      },
      "source": [
        "Existem também funções da classe **ndarray** que permitem realizar operações internas com os valores do array."
      ]
    },
    {
      "cell_type": "code",
      "metadata": {
        "id": "oR2ENzXWixWZ",
        "colab": {
          "base_uri": "https://localhost:8080/"
        },
        "outputId": "dab25f0f-1709-4740-815c-73964a83998c"
      },
      "source": [
        "a = np.array([[1,2],[3,4]])\n",
        "print(a, end='\\n\\n')\n",
        "\n",
        "print('Somatório: {}'.format(a.sum()))\n",
        "print('Produto: {}'.format(a.prod()))\n",
        "print('Somatório acumulado: {}'.format(a.cumsum()))\n",
        "print('Mínimo: {}'.format(a.min()))\n",
        "print('Máximo: {}'.format(a.max()))\n",
        "print('Média: {}'.format(a.mean()))"
      ],
      "execution_count": null,
      "outputs": [
        {
          "output_type": "stream",
          "text": [
            "[[1 2]\n",
            " [3 4]]\n",
            "\n",
            "Somatório: 10\n",
            "Produto: 24\n",
            "Somatório acumulado: [ 1  3  6 10]\n",
            "Mínimo: 1\n",
            "Máximo: 4\n",
            "Média: 2.5\n"
          ],
          "name": "stdout"
        }
      ]
    },
    {
      "cell_type": "markdown",
      "metadata": {
        "id": "3o6GF8KllGtf"
      },
      "source": [
        "Além de poderem ser aplicadas a todos os dados do array, também é possível aplicar essas funções nos eixos do array."
      ]
    },
    {
      "cell_type": "code",
      "metadata": {
        "id": "tIg8onrpll1F",
        "colab": {
          "base_uri": "https://localhost:8080/"
        },
        "outputId": "d1dbb539-03d4-41fd-89f0-02f9b9c7d815"
      },
      "source": [
        "b = np.arange(12).reshape(3,4)\n",
        "print('Array \\n {}:'.format(b), end='\\n\\n')\n",
        "\n",
        "print('Somatório por coluna: {}'.format(b.sum(axis=0)))\n",
        "\n",
        "print('Mínimo por linha: {}'.format(b.min(axis=1)))\n",
        "\n",
        "print('Somatório acumulado por linha: \\n{}'.format(b.cumsum(axis=1)))"
      ],
      "execution_count": null,
      "outputs": [
        {
          "output_type": "stream",
          "text": [
            "Array \n",
            " [[ 0  1  2  3]\n",
            " [ 4  5  6  7]\n",
            " [ 8  9 10 11]]:\n",
            "\n",
            "Somatório por coluna: [12 15 18 21]\n",
            "Mínimo por linha: [0 4 8]\n",
            "Somatório acumulado por linha: \n",
            "[[ 0  1  3  6]\n",
            " [ 4  9 15 22]\n",
            " [ 8 17 27 38]]\n"
          ],
          "name": "stdout"
        }
      ]
    },
    {
      "cell_type": "code",
      "source": [
        ""
      ],
      "metadata": {
        "id": "xHodTo5p-tSV"
      },
      "execution_count": null,
      "outputs": []
    },
    {
      "cell_type": "markdown",
      "metadata": {
        "id": "C8XNpVvMiwR1"
      },
      "source": [
        "Para conhecer todos os atributos e funções da classe ndarray clique [aqui](https://docs.scipy.org/doc/numpy-1.14.0/reference/arrays.ndarray.html)."
      ]
    },
    {
      "cell_type": "markdown",
      "metadata": {
        "id": "jyREqxdbk2fm"
      },
      "source": [
        "## Funções universais"
      ]
    },
    {
      "cell_type": "markdown",
      "metadata": {
        "id": "bn3jEvCvk9gI"
      },
      "source": [
        "O NumPy traz um conjunto de funções universais que permitem a manipulação de arrays de diversas maneiras, como operações aritméticas, funções trigonométricas, comparação, etc. \n",
        "\n"
      ]
    },
    {
      "cell_type": "code",
      "metadata": {
        "id": "hKHT-frosxA3"
      },
      "source": [
        "a = np.random.randint(0, 20, 12).reshape((3,4))\n",
        "b = np.random.randint(0, 20, 12).reshape((3,4))"
      ],
      "execution_count": null,
      "outputs": []
    },
    {
      "cell_type": "code",
      "metadata": {
        "id": "WPejCNhpkxx0",
        "colab": {
          "base_uri": "https://localhost:8080/"
        },
        "outputId": "dac1fac5-aea4-4576-ee78-27e3d0950a29"
      },
      "source": [
        "print('Array A: \\n {}'.format(a))\n",
        "\n",
        "print('Raíz quadrada: \\n {}'.format(np.sqrt(a)))\n",
        "print('Log: \\n {}'.format(np.log(a)))\n"
      ],
      "execution_count": null,
      "outputs": [
        {
          "output_type": "stream",
          "text": [
            "Array A: \n",
            " [[ 1  6  7 14]\n",
            " [17  5 13  8]\n",
            " [ 9 19 16 19]]\n",
            "Raíz quadrada: \n",
            " [[1.         2.44948974 2.64575131 3.74165739]\n",
            " [4.12310563 2.23606798 3.60555128 2.82842712]\n",
            " [3.         4.35889894 4.         4.35889894]]\n",
            "Log: \n",
            " [[0.         1.79175947 1.94591015 2.63905733]\n",
            " [2.83321334 1.60943791 2.56494936 2.07944154]\n",
            " [2.19722458 2.94443898 2.77258872 2.94443898]]\n"
          ],
          "name": "stdout"
        }
      ]
    },
    {
      "cell_type": "code",
      "metadata": {
        "id": "9YT2O7VZrkcY",
        "colab": {
          "base_uri": "https://localhost:8080/"
        },
        "outputId": "43740ae9-11d6-471a-9849-330ba575f0e1"
      },
      "source": [
        "print('Array A: \\n {}'.format(a))\n",
        "\n",
        "print('Seno: \\n {}'.format(np.sin(a)))\n",
        "print('Cosseno: \\n {}'.format(np.cos(a)))\n",
        "\n",
        "print('Tangente: \\n {}'.format(np.tan(a)))"
      ],
      "execution_count": null,
      "outputs": [
        {
          "output_type": "stream",
          "text": [
            "Array A: \n",
            " [[ 1  6  7 14]\n",
            " [17  5 13  8]\n",
            " [ 9 19 16 19]]\n",
            "Seno: \n",
            " [[ 0.84147098 -0.2794155   0.6569866   0.99060736]\n",
            " [-0.96139749 -0.95892427  0.42016704  0.98935825]\n",
            " [ 0.41211849  0.14987721 -0.28790332  0.14987721]]\n",
            "Cosseno: \n",
            " [[ 0.54030231  0.96017029  0.75390225  0.13673722]\n",
            " [-0.27516334  0.28366219  0.90744678 -0.14550003]\n",
            " [-0.91113026  0.98870462 -0.95765948  0.98870462]]\n",
            "Tangente: \n",
            " [[ 1.55740772 -0.29100619  0.87144798  7.24460662]\n",
            " [ 3.49391565 -3.38051501  0.46302113 -6.79971146]\n",
            " [-0.45231566  0.15158947  0.30063224  0.15158947]]\n"
          ],
          "name": "stdout"
        }
      ]
    },
    {
      "cell_type": "code",
      "metadata": {
        "id": "mOvTPuY3rqBe",
        "colab": {
          "base_uri": "https://localhost:8080/"
        },
        "outputId": "3cb0f79c-d275-4e51-ea15-8399a90dc136"
      },
      "source": [
        "print('Array A: \\n {}'.format(a))\n",
        "print('Array B: \\n {}'.format(b))\n",
        "\n",
        "\n",
        "print('Maior que: \\n {}'.format(np.greater(a,b)))\n",
        "print('Menor ou igual: \\n {}'.format(np.less_equal(a,b)))\n",
        "print('Igual: \\n {}'.format(np.equal(a,b)))"
      ],
      "execution_count": null,
      "outputs": [
        {
          "output_type": "stream",
          "text": [
            "Array A: \n",
            " [[ 1  6  7 14]\n",
            " [17  5 13  8]\n",
            " [ 9 19 16 19]]\n",
            "Array B: \n",
            " [[ 5 15 15  0]\n",
            " [18  3 17 19]\n",
            " [19 19 14  7]]\n",
            "Maior que: \n",
            " [[False False False  True]\n",
            " [False  True False False]\n",
            " [False False  True  True]]\n",
            "Menor ou igual: \n",
            " [[ True  True  True False]\n",
            " [ True False  True  True]\n",
            " [ True  True False False]]\n",
            "Igual: \n",
            " [[False False False False]\n",
            " [False False False False]\n",
            " [False  True False False]]\n"
          ],
          "name": "stdout"
        }
      ]
    },
    {
      "cell_type": "code",
      "metadata": {
        "id": "d_I3SpXsuMUo",
        "colab": {
          "base_uri": "https://localhost:8080/"
        },
        "outputId": "2218f4f2-2b0e-4409-c3ae-e41f79ca7333"
      },
      "source": [
        "a = np.linspace(1, 10, 12)\n",
        "\n",
        "print('Array A: \\n {}'.format(a))\n",
        "\n",
        "print('Próximo inteiro: \\n {}'.format(np.ceil(a)))\n",
        "print('Inteiro anterior: \\n {}'.format(np.floor(a)))"
      ],
      "execution_count": null,
      "outputs": [
        {
          "output_type": "stream",
          "text": [
            "Array A: \n",
            " [ 1.          1.81818182  2.63636364  3.45454545  4.27272727  5.09090909\n",
            "  5.90909091  6.72727273  7.54545455  8.36363636  9.18181818 10.        ]\n",
            "Próximo inteiro: \n",
            " [ 1.  2.  3.  4.  5.  6.  6.  7.  8.  9. 10. 10.]\n",
            "Inteiro anterior: \n",
            " [ 1.  1.  2.  3.  4.  5.  5.  6.  7.  8.  9. 10.]\n"
          ],
          "name": "stdout"
        }
      ]
    },
    {
      "cell_type": "markdown",
      "metadata": {
        "id": "hcxLYDEGu6FI"
      },
      "source": [
        "Para conhecer todas as funções unversais da biblioteca Numpy clique [aqui](https://docs.scipy.org/doc/numpy-1.14.0/reference/ufuncs.html). "
      ]
    },
    {
      "cell_type": "markdown",
      "metadata": {
        "id": "aDrfuNF9vXec"
      },
      "source": [
        "## Indexação e fatiamento"
      ]
    },
    {
      "cell_type": "markdown",
      "metadata": {
        "id": "xJAlfr7n2MVn"
      },
      "source": [
        "Arrays de uma dimensão"
      ]
    },
    {
      "cell_type": "code",
      "metadata": {
        "id": "3PHI6SSi2K3P",
        "colab": {
          "base_uri": "https://localhost:8080/"
        },
        "outputId": "07e47b28-8af7-4b08-b45c-7bef254e403b"
      },
      "source": [
        "a = np.arange(10)**3\n",
        "print('Array: {}'.format(a))\n",
        "\n",
        "print('Terceiro elemento: {}'.format(a[2]))\n",
        "print('Elementos 3, 4 e 5: {}'.format(a[2:5]))\n",
        "\n",
        "a[:6:2] = -1000    # equivalente a a[0:6:2] = -1000\n",
        "\n",
        "print('Array editado: {}'.format(a))\n",
        "print('Vetor reverso: {}'.format(a[ : :-1] ))"
      ],
      "execution_count": null,
      "outputs": [
        {
          "output_type": "stream",
          "name": "stdout",
          "text": [
            "Array: [  0   1   8  27  64 125 216 343 512 729]\n",
            "Terceiro elemento: 8\n",
            "Elementos 3, 4 e 5: [ 8 27 64]\n",
            "Array editado: [-1000     1 -1000    27 -1000   125   216   343   512   729]\n",
            "Vetor reverso: [  729   512   343   216   125 -1000    27 -1000     1 -1000]\n"
          ]
        }
      ]
    },
    {
      "cell_type": "code",
      "metadata": {
        "id": "UNqmrNWR3TUe",
        "colab": {
          "base_uri": "https://localhost:8080/"
        },
        "outputId": "cd81b7e7-6c61-4ae3-99ed-cae8dcc8b940"
      },
      "source": [
        "print('Raíz cúbica de todos os elementos')\n",
        "\n",
        "for i in a:\n",
        "  print(i**(1/3.),end=\" \")\n",
        "\n",
        "print(\"\\n\")\n",
        "#De que outra forma podemos fazer essa operação?\n",
        "print(a**(1/3))"
      ],
      "execution_count": null,
      "outputs": [
        {
          "output_type": "stream",
          "name": "stdout",
          "text": [
            "Raíz cúbica de todos os elementos\n",
            "nan 1.0 nan 3.0 nan 4.999999999999999 5.999999999999999 6.999999999999999 7.999999999999999 8.999999999999998 \n",
            "\n",
            "[nan  1. nan  3. nan  5.  6.  7.  8.  9.]\n"
          ]
        },
        {
          "output_type": "stream",
          "name": "stderr",
          "text": [
            "/usr/local/lib/python3.7/dist-packages/ipykernel_launcher.py:4: RuntimeWarning: invalid value encountered in power\n",
            "  after removing the cwd from sys.path.\n",
            "/usr/local/lib/python3.7/dist-packages/ipykernel_launcher.py:8: RuntimeWarning: invalid value encountered in power\n",
            "  \n"
          ]
        }
      ]
    },
    {
      "cell_type": "markdown",
      "metadata": {
        "id": "m3E2VzNj2PHo"
      },
      "source": [
        "Arrays multidimensionais"
      ]
    },
    {
      "cell_type": "code",
      "metadata": {
        "id": "Xu0ufFxk1azT",
        "colab": {
          "base_uri": "https://localhost:8080/"
        },
        "outputId": "b819162c-5496-4544-f55e-d96dd659e481"
      },
      "source": [
        "b = np.random.randint(20, size=(5, 4))\n",
        "b"
      ],
      "execution_count": null,
      "outputs": [
        {
          "output_type": "execute_result",
          "data": {
            "text/plain": [
              "array([[ 8, 10,  6, 11],\n",
              "       [12, 11,  1,  6],\n",
              "       [18,  4, 16, 15],\n",
              "       [ 4,  4, 13,  0],\n",
              "       [15, 11, 14, 10]])"
            ]
          },
          "metadata": {},
          "execution_count": 50
        }
      ]
    },
    {
      "cell_type": "code",
      "metadata": {
        "id": "u6gpo7nd-EMz",
        "colab": {
          "base_uri": "https://localhost:8080/"
        },
        "outputId": "f46f3b38-bf57-4a98-fcf2-5139cee7feb5"
      },
      "source": [
        "print('Array: \\n{}'.format(b))\n",
        "\n",
        "print('Célula na linha 3 e coluna 4: {}'.format(b[2,3]))\n",
        "\n",
        "print('Coluna 2: {}'.format(b[0:5, 1] ))\n",
        "\n",
        "print('Coluna 2 (outra forma): {}'.format(b[ : ,1] ))\n",
        "\n",
        "print('Todas as linhas das colunas 2 e 3: \\n {}'.format(b[ : ,1:3] ))"
      ],
      "execution_count": null,
      "outputs": [
        {
          "output_type": "stream",
          "name": "stdout",
          "text": [
            "Array: \n",
            "[[ 8 10  6 11]\n",
            " [12 11  1  6]\n",
            " [18  4 16 15]\n",
            " [ 4  4 13  0]\n",
            " [15 11 14 10]]\n",
            "Célula na linha 3 e coluna 4: 15\n",
            "Coluna 2: [10 11  4  4 11]\n",
            "Coluna 2 (outra forma): [10 11  4  4 11]\n",
            "Todas as linhas das colunas 2 e 3: \n",
            " [[10  6]\n",
            " [11  1]\n",
            " [ 4 16]\n",
            " [ 4 13]\n",
            " [11 14]]\n"
          ]
        }
      ]
    },
    {
      "cell_type": "code",
      "source": [
        "print('Array: \\n{}'.format(b))"
      ],
      "metadata": {
        "colab": {
          "base_uri": "https://localhost:8080/"
        },
        "id": "XVkg6B-c_3Iu",
        "outputId": "1ccb0e54-827e-4047-e04b-33dd2ed83732"
      },
      "execution_count": null,
      "outputs": [
        {
          "output_type": "stream",
          "name": "stdout",
          "text": [
            "Array: \n",
            "[[ 8 10  6 11]\n",
            " [12 11  1  6]\n",
            " [18  4 16 15]\n",
            " [ 4  4 13  0]\n",
            " [15 11 14 10]]\n"
          ]
        }
      ]
    },
    {
      "cell_type": "code",
      "source": [
        "b[1,1:3]"
      ],
      "metadata": {
        "colab": {
          "base_uri": "https://localhost:8080/"
        },
        "id": "80Imi1Ev_4aM",
        "outputId": "7dfb840f-09cc-41e0-a5a7-edc89abcdea6"
      },
      "execution_count": null,
      "outputs": [
        {
          "output_type": "execute_result",
          "data": {
            "text/plain": [
              "array([11,  1])"
            ]
          },
          "metadata": {},
          "execution_count": 56
        }
      ]
    },
    {
      "cell_type": "markdown",
      "metadata": {
        "id": "Eak463Cz5HH2"
      },
      "source": [
        "Selecionar elementos por expressões lógicas"
      ]
    },
    {
      "cell_type": "code",
      "metadata": {
        "id": "2ULbIwmE5NBi",
        "colab": {
          "base_uri": "https://localhost:8080/"
        },
        "outputId": "1c435fd6-19d5-4916-97f5-6d2b5263a6c7"
      },
      "source": [
        "a = np.arange(11)\n",
        "\n",
        "print('Verificando elementos que atendem a uma condição lógica (a >= 8):',a >= 8, end=\"\\n\\n\")\n",
        "\n",
        "print('Filtrando elementos que atendem a uma condição lógica (a[a >= 8]):', a[a >= 8], end=\"\\n\\n\")\n",
        "\n",
        "a[(5 < a) & (a < 8)] *= -1\n",
        "print('Editando elementos que atendem a uma condição lógica (a[(5 < a) & (a < 8)] *= -1):', a, end=\"\\n\\n\")"
      ],
      "execution_count": null,
      "outputs": [
        {
          "output_type": "stream",
          "name": "stdout",
          "text": [
            "Verificando elementos que atendem a uma condição lógica (a >= 8): [False False False False False False False False  True  True  True]\n",
            "\n",
            "Filtrando elementos que atendem a uma condição lógica (a[a >= 8]): [ 8  9 10]\n",
            "\n",
            "Editando elementos que atendem a uma condição lógica (a[(5 < a) & (a < 8)] *= -1): [ 0  1  2  3  4  5 -6 -7  8  9 10]\n",
            "\n"
          ]
        }
      ]
    },
    {
      "cell_type": "code",
      "metadata": {
        "id": "FTZ-XSPpyNy-"
      },
      "source": [
        "a = np.arange(11)"
      ],
      "execution_count": null,
      "outputs": []
    },
    {
      "cell_type": "code",
      "metadata": {
        "id": "CpIRFcGtyh8a",
        "outputId": "e54affe7-6167-4c0b-ea08-898a8a9c7b9b",
        "colab": {
          "base_uri": "https://localhost:8080/"
        }
      },
      "source": [
        "a[(5 < a) & (a < 8)]"
      ],
      "execution_count": null,
      "outputs": [
        {
          "output_type": "execute_result",
          "data": {
            "text/plain": [
              "array([6, 7])"
            ]
          },
          "metadata": {},
          "execution_count": 30
        }
      ]
    },
    {
      "cell_type": "code",
      "metadata": {
        "colab": {
          "base_uri": "https://localhost:8080/"
        },
        "id": "Fjv9N-ixxeCj",
        "outputId": "7272d296-c2cf-4e0f-8b0b-af1a9398609e"
      },
      "source": [
        "a[(5 < a) & (a < 8)] *= -1\n",
        "a"
      ],
      "execution_count": null,
      "outputs": [
        {
          "output_type": "execute_result",
          "data": {
            "text/plain": [
              "array([ 0,  1,  2,  3,  4,  5, -6, -7,  8,  9, 10])"
            ]
          },
          "metadata": {},
          "execution_count": 28
        }
      ]
    },
    {
      "cell_type": "code",
      "metadata": {
        "colab": {
          "base_uri": "https://localhost:8080/"
        },
        "id": "mtckePXPxkkS",
        "outputId": "3205f1a0-bad4-46fd-f10a-cb9b30e46bd6"
      },
      "source": [
        "a = a[(5 < a) & (a < 8)] * -1\n",
        "a"
      ],
      "execution_count": null,
      "outputs": [
        {
          "output_type": "execute_result",
          "data": {
            "text/plain": [
              "array([-6, -7])"
            ]
          },
          "metadata": {},
          "execution_count": 25
        }
      ]
    }
  ]
}