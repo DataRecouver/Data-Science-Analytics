{
  "cells": [
    {
      "cell_type": "markdown",
      "metadata": {
        "id": "qJDIlut4P2So"
      },
      "source": [
        "http://pandas.pydata.org/pandas-docs/stable/10min.html"
      ]
    },
    {
      "cell_type": "markdown",
      "metadata": {
        "id": "ZdcaqnUrP2Sx"
      },
      "source": [
        "# Pandas em 10 minutos\n",
        "\n",
        "Essa é uma introdução curta ao Pandas, gera\n",
        "\n",
        "Esta é uma breve introdução aos pandas, voltada principalmente para novos usuários. Você pode ver instruções mais complexas no [Cookbook](http://pandas.pydata.org/pandas-docs/stable/cookbook.html#cookbook) "
      ]
    },
    {
      "cell_type": "markdown",
      "metadata": {
        "id": "2ZDkVwr5P2S1"
      },
      "source": [
        "##Importação"
      ]
    },
    {
      "cell_type": "code",
      "execution_count": null,
      "metadata": {
        "id": "Z5R3AS4fP2S5"
      },
      "outputs": [],
      "source": [
        "import pandas as pd\n",
        "import numpy as np\n",
        "import matplotlib.pyplot as plt"
      ]
    },
    {
      "cell_type": "code",
      "execution_count": null,
      "metadata": {
        "id": "02R-l2yRP2TM"
      },
      "outputs": [],
      "source": [
        "%matplotlib inline"
      ]
    },
    {
      "cell_type": "markdown",
      "metadata": {
        "id": "Tk6PkFT2P2Tc"
      },
      "source": [
        "## Criação de objetos\n"
      ]
    },
    {
      "cell_type": "markdown",
      "metadata": {
        "id": "La-B7kGTP2Th"
      },
      "source": [
        "Criar uma série passando uma lista de valores, permitindo que o pandas crie um índice inteiro padrão:"
      ]
    },
    {
      "cell_type": "code",
      "execution_count": null,
      "metadata": {
        "id": "7jX6sR9UP2Tm"
      },
      "outputs": [],
      "source": [
        "s = pd.Series([1,3,5,np.nan,6,8])"
      ]
    },
    {
      "cell_type": "code",
      "source": [
        "np.array([1,3,5,np.nan,6,8])"
      ],
      "metadata": {
        "colab": {
          "base_uri": "https://localhost:8080/"
        },
        "id": "WpIEUBYcyxER",
        "outputId": "187d19fc-0f1f-4391-fde2-6dfc0a80baec"
      },
      "execution_count": null,
      "outputs": [
        {
          "output_type": "execute_result",
          "data": {
            "text/plain": [
              "array([ 1.,  3.,  5., nan,  6.,  8.])"
            ]
          },
          "metadata": {},
          "execution_count": 5
        }
      ]
    },
    {
      "cell_type": "code",
      "execution_count": null,
      "metadata": {
        "colab": {
          "base_uri": "https://localhost:8080/"
        },
        "id": "Nzd5PvL_P2T3",
        "outputId": "a7a3398b-353d-4b02-a020-45636348a5ab"
      },
      "outputs": [
        {
          "output_type": "execute_result",
          "data": {
            "text/plain": [
              "0    1.0\n",
              "1    3.0\n",
              "2    5.0\n",
              "3    NaN\n",
              "4    6.0\n",
              "5    8.0\n",
              "dtype: float64"
            ]
          },
          "metadata": {},
          "execution_count": 4
        }
      ],
      "source": [
        "s"
      ]
    },
    {
      "cell_type": "markdown",
      "metadata": {
        "id": "nHfCax48P2Ue"
      },
      "source": [
        "Criação de um DataFrame passando uma matriz numpy com um índice datetime e colunas rotuladas:"
      ]
    },
    {
      "cell_type": "code",
      "execution_count": null,
      "metadata": {
        "id": "jpft4zrxP2Ul"
      },
      "outputs": [],
      "source": [
        "dates = pd.date_range(pd.to_datetime(\"2021-01-01\"), periods=6)"
      ]
    },
    {
      "cell_type": "code",
      "execution_count": null,
      "metadata": {
        "colab": {
          "base_uri": "https://localhost:8080/"
        },
        "id": "BMu0b_aBP2U5",
        "outputId": "95b40194-52d9-4eb1-8436-a2f8e2b57635"
      },
      "outputs": [
        {
          "output_type": "execute_result",
          "data": {
            "text/plain": [
              "DatetimeIndex(['2021-01-01', '2021-01-02', '2021-01-03', '2021-01-04',\n",
              "               '2021-01-05', '2021-01-06'],\n",
              "              dtype='datetime64[ns]', freq='D')"
            ]
          },
          "metadata": {},
          "execution_count": 17
        }
      ],
      "source": [
        "dates"
      ]
    },
    {
      "cell_type": "code",
      "execution_count": null,
      "metadata": {
        "colab": {
          "base_uri": "https://localhost:8080/",
          "height": 237
        },
        "id": "-jRAGw-RP2VN",
        "outputId": "1f8a0d24-caa0-4335-c877-43724bbb273c"
      },
      "outputs": [
        {
          "output_type": "execute_result",
          "data": {
            "text/plain": [
              "                   A         B         C         D\n",
              "2021-01-01  0.607472 -1.114383 -0.015869  0.093837\n",
              "2021-01-02 -0.152781 -2.742377  0.197817 -0.331538\n",
              "2021-01-03  1.301113 -0.176526 -0.169945 -1.289765\n",
              "2021-01-04 -1.764057 -0.193967  1.654969  0.270894\n",
              "2021-01-05  0.380441  0.910793  2.926295  0.568916\n",
              "2021-01-06 -0.188359  0.231448  1.044600 -1.303898"
            ],
            "text/html": [
              "\n",
              "  <div id=\"df-de88e649-8b11-4f2a-a0e4-80c6487e2db2\">\n",
              "    <div class=\"colab-df-container\">\n",
              "      <div>\n",
              "<style scoped>\n",
              "    .dataframe tbody tr th:only-of-type {\n",
              "        vertical-align: middle;\n",
              "    }\n",
              "\n",
              "    .dataframe tbody tr th {\n",
              "        vertical-align: top;\n",
              "    }\n",
              "\n",
              "    .dataframe thead th {\n",
              "        text-align: right;\n",
              "    }\n",
              "</style>\n",
              "<table border=\"1\" class=\"dataframe\">\n",
              "  <thead>\n",
              "    <tr style=\"text-align: right;\">\n",
              "      <th></th>\n",
              "      <th>A</th>\n",
              "      <th>B</th>\n",
              "      <th>C</th>\n",
              "      <th>D</th>\n",
              "    </tr>\n",
              "  </thead>\n",
              "  <tbody>\n",
              "    <tr>\n",
              "      <th>2021-01-01</th>\n",
              "      <td>0.607472</td>\n",
              "      <td>-1.114383</td>\n",
              "      <td>-0.015869</td>\n",
              "      <td>0.093837</td>\n",
              "    </tr>\n",
              "    <tr>\n",
              "      <th>2021-01-02</th>\n",
              "      <td>-0.152781</td>\n",
              "      <td>-2.742377</td>\n",
              "      <td>0.197817</td>\n",
              "      <td>-0.331538</td>\n",
              "    </tr>\n",
              "    <tr>\n",
              "      <th>2021-01-03</th>\n",
              "      <td>1.301113</td>\n",
              "      <td>-0.176526</td>\n",
              "      <td>-0.169945</td>\n",
              "      <td>-1.289765</td>\n",
              "    </tr>\n",
              "    <tr>\n",
              "      <th>2021-01-04</th>\n",
              "      <td>-1.764057</td>\n",
              "      <td>-0.193967</td>\n",
              "      <td>1.654969</td>\n",
              "      <td>0.270894</td>\n",
              "    </tr>\n",
              "    <tr>\n",
              "      <th>2021-01-05</th>\n",
              "      <td>0.380441</td>\n",
              "      <td>0.910793</td>\n",
              "      <td>2.926295</td>\n",
              "      <td>0.568916</td>\n",
              "    </tr>\n",
              "    <tr>\n",
              "      <th>2021-01-06</th>\n",
              "      <td>-0.188359</td>\n",
              "      <td>0.231448</td>\n",
              "      <td>1.044600</td>\n",
              "      <td>-1.303898</td>\n",
              "    </tr>\n",
              "  </tbody>\n",
              "</table>\n",
              "</div>\n",
              "      <button class=\"colab-df-convert\" onclick=\"convertToInteractive('df-de88e649-8b11-4f2a-a0e4-80c6487e2db2')\"\n",
              "              title=\"Convert this dataframe to an interactive table.\"\n",
              "              style=\"display:none;\">\n",
              "        \n",
              "  <svg xmlns=\"http://www.w3.org/2000/svg\" height=\"24px\"viewBox=\"0 0 24 24\"\n",
              "       width=\"24px\">\n",
              "    <path d=\"M0 0h24v24H0V0z\" fill=\"none\"/>\n",
              "    <path d=\"M18.56 5.44l.94 2.06.94-2.06 2.06-.94-2.06-.94-.94-2.06-.94 2.06-2.06.94zm-11 1L8.5 8.5l.94-2.06 2.06-.94-2.06-.94L8.5 2.5l-.94 2.06-2.06.94zm10 10l.94 2.06.94-2.06 2.06-.94-2.06-.94-.94-2.06-.94 2.06-2.06.94z\"/><path d=\"M17.41 7.96l-1.37-1.37c-.4-.4-.92-.59-1.43-.59-.52 0-1.04.2-1.43.59L10.3 9.45l-7.72 7.72c-.78.78-.78 2.05 0 2.83L4 21.41c.39.39.9.59 1.41.59.51 0 1.02-.2 1.41-.59l7.78-7.78 2.81-2.81c.8-.78.8-2.07 0-2.86zM5.41 20L4 18.59l7.72-7.72 1.47 1.35L5.41 20z\"/>\n",
              "  </svg>\n",
              "      </button>\n",
              "      \n",
              "  <style>\n",
              "    .colab-df-container {\n",
              "      display:flex;\n",
              "      flex-wrap:wrap;\n",
              "      gap: 12px;\n",
              "    }\n",
              "\n",
              "    .colab-df-convert {\n",
              "      background-color: #E8F0FE;\n",
              "      border: none;\n",
              "      border-radius: 50%;\n",
              "      cursor: pointer;\n",
              "      display: none;\n",
              "      fill: #1967D2;\n",
              "      height: 32px;\n",
              "      padding: 0 0 0 0;\n",
              "      width: 32px;\n",
              "    }\n",
              "\n",
              "    .colab-df-convert:hover {\n",
              "      background-color: #E2EBFA;\n",
              "      box-shadow: 0px 1px 2px rgba(60, 64, 67, 0.3), 0px 1px 3px 1px rgba(60, 64, 67, 0.15);\n",
              "      fill: #174EA6;\n",
              "    }\n",
              "\n",
              "    [theme=dark] .colab-df-convert {\n",
              "      background-color: #3B4455;\n",
              "      fill: #D2E3FC;\n",
              "    }\n",
              "\n",
              "    [theme=dark] .colab-df-convert:hover {\n",
              "      background-color: #434B5C;\n",
              "      box-shadow: 0px 1px 3px 1px rgba(0, 0, 0, 0.15);\n",
              "      filter: drop-shadow(0px 1px 2px rgba(0, 0, 0, 0.3));\n",
              "      fill: #FFFFFF;\n",
              "    }\n",
              "  </style>\n",
              "\n",
              "      <script>\n",
              "        const buttonEl =\n",
              "          document.querySelector('#df-de88e649-8b11-4f2a-a0e4-80c6487e2db2 button.colab-df-convert');\n",
              "        buttonEl.style.display =\n",
              "          google.colab.kernel.accessAllowed ? 'block' : 'none';\n",
              "\n",
              "        async function convertToInteractive(key) {\n",
              "          const element = document.querySelector('#df-de88e649-8b11-4f2a-a0e4-80c6487e2db2');\n",
              "          const dataTable =\n",
              "            await google.colab.kernel.invokeFunction('convertToInteractive',\n",
              "                                                     [key], {});\n",
              "          if (!dataTable) return;\n",
              "\n",
              "          const docLinkHtml = 'Like what you see? Visit the ' +\n",
              "            '<a target=\"_blank\" href=https://colab.research.google.com/notebooks/data_table.ipynb>data table notebook</a>'\n",
              "            + ' to learn more about interactive tables.';\n",
              "          element.innerHTML = '';\n",
              "          dataTable['output_type'] = 'display_data';\n",
              "          await google.colab.output.renderOutput(dataTable, element);\n",
              "          const docLink = document.createElement('div');\n",
              "          docLink.innerHTML = docLinkHtml;\n",
              "          element.appendChild(docLink);\n",
              "        }\n",
              "      </script>\n",
              "    </div>\n",
              "  </div>\n",
              "  "
            ]
          },
          "metadata": {},
          "execution_count": 18
        }
      ],
      "source": [
        "df = pd.DataFrame(np.random.randn(6,4), index=dates, columns=list(['A','B','C','D']))\n",
        "df"
      ]
    },
    {
      "cell_type": "markdown",
      "metadata": {
        "id": "HiOUHCl7P2V_"
      },
      "source": [
        "Criando um DataFrame passando um dicionário de objetos que podem ser convertidos para séries."
      ]
    },
    {
      "cell_type": "code",
      "execution_count": null,
      "metadata": {
        "colab": {
          "base_uri": "https://localhost:8080/",
          "height": 175
        },
        "id": "vsUuur1HP2WI",
        "outputId": "017af171-164c-4278-c69d-0ab3950947ce"
      },
      "outputs": [
        {
          "output_type": "execute_result",
          "data": {
            "text/plain": [
              "    C1         C2   C3  C4     C5   C6  Coluna 7\n",
              "0  1.0 2021-01-02  1.0   3   test  foo         2\n",
              "1  1.0 2021-01-02  1.0   3  train  foo         2\n",
              "2  1.0 2021-01-02  1.0   3   test  foo         2\n",
              "3  1.0 2021-01-02  1.0   3  train  foo         2"
            ],
            "text/html": [
              "\n",
              "  <div id=\"df-770d4b7a-0f73-45d2-b0cb-56ea3bcaca1d\">\n",
              "    <div class=\"colab-df-container\">\n",
              "      <div>\n",
              "<style scoped>\n",
              "    .dataframe tbody tr th:only-of-type {\n",
              "        vertical-align: middle;\n",
              "    }\n",
              "\n",
              "    .dataframe tbody tr th {\n",
              "        vertical-align: top;\n",
              "    }\n",
              "\n",
              "    .dataframe thead th {\n",
              "        text-align: right;\n",
              "    }\n",
              "</style>\n",
              "<table border=\"1\" class=\"dataframe\">\n",
              "  <thead>\n",
              "    <tr style=\"text-align: right;\">\n",
              "      <th></th>\n",
              "      <th>C1</th>\n",
              "      <th>C2</th>\n",
              "      <th>C3</th>\n",
              "      <th>C4</th>\n",
              "      <th>C5</th>\n",
              "      <th>C6</th>\n",
              "      <th>Coluna 7</th>\n",
              "    </tr>\n",
              "  </thead>\n",
              "  <tbody>\n",
              "    <tr>\n",
              "      <th>0</th>\n",
              "      <td>1.0</td>\n",
              "      <td>2021-01-02</td>\n",
              "      <td>1.0</td>\n",
              "      <td>3</td>\n",
              "      <td>test</td>\n",
              "      <td>foo</td>\n",
              "      <td>2</td>\n",
              "    </tr>\n",
              "    <tr>\n",
              "      <th>1</th>\n",
              "      <td>1.0</td>\n",
              "      <td>2021-01-02</td>\n",
              "      <td>1.0</td>\n",
              "      <td>3</td>\n",
              "      <td>train</td>\n",
              "      <td>foo</td>\n",
              "      <td>2</td>\n",
              "    </tr>\n",
              "    <tr>\n",
              "      <th>2</th>\n",
              "      <td>1.0</td>\n",
              "      <td>2021-01-02</td>\n",
              "      <td>1.0</td>\n",
              "      <td>3</td>\n",
              "      <td>test</td>\n",
              "      <td>foo</td>\n",
              "      <td>2</td>\n",
              "    </tr>\n",
              "    <tr>\n",
              "      <th>3</th>\n",
              "      <td>1.0</td>\n",
              "      <td>2021-01-02</td>\n",
              "      <td>1.0</td>\n",
              "      <td>3</td>\n",
              "      <td>train</td>\n",
              "      <td>foo</td>\n",
              "      <td>2</td>\n",
              "    </tr>\n",
              "  </tbody>\n",
              "</table>\n",
              "</div>\n",
              "      <button class=\"colab-df-convert\" onclick=\"convertToInteractive('df-770d4b7a-0f73-45d2-b0cb-56ea3bcaca1d')\"\n",
              "              title=\"Convert this dataframe to an interactive table.\"\n",
              "              style=\"display:none;\">\n",
              "        \n",
              "  <svg xmlns=\"http://www.w3.org/2000/svg\" height=\"24px\"viewBox=\"0 0 24 24\"\n",
              "       width=\"24px\">\n",
              "    <path d=\"M0 0h24v24H0V0z\" fill=\"none\"/>\n",
              "    <path d=\"M18.56 5.44l.94 2.06.94-2.06 2.06-.94-2.06-.94-.94-2.06-.94 2.06-2.06.94zm-11 1L8.5 8.5l.94-2.06 2.06-.94-2.06-.94L8.5 2.5l-.94 2.06-2.06.94zm10 10l.94 2.06.94-2.06 2.06-.94-2.06-.94-.94-2.06-.94 2.06-2.06.94z\"/><path d=\"M17.41 7.96l-1.37-1.37c-.4-.4-.92-.59-1.43-.59-.52 0-1.04.2-1.43.59L10.3 9.45l-7.72 7.72c-.78.78-.78 2.05 0 2.83L4 21.41c.39.39.9.59 1.41.59.51 0 1.02-.2 1.41-.59l7.78-7.78 2.81-2.81c.8-.78.8-2.07 0-2.86zM5.41 20L4 18.59l7.72-7.72 1.47 1.35L5.41 20z\"/>\n",
              "  </svg>\n",
              "      </button>\n",
              "      \n",
              "  <style>\n",
              "    .colab-df-container {\n",
              "      display:flex;\n",
              "      flex-wrap:wrap;\n",
              "      gap: 12px;\n",
              "    }\n",
              "\n",
              "    .colab-df-convert {\n",
              "      background-color: #E8F0FE;\n",
              "      border: none;\n",
              "      border-radius: 50%;\n",
              "      cursor: pointer;\n",
              "      display: none;\n",
              "      fill: #1967D2;\n",
              "      height: 32px;\n",
              "      padding: 0 0 0 0;\n",
              "      width: 32px;\n",
              "    }\n",
              "\n",
              "    .colab-df-convert:hover {\n",
              "      background-color: #E2EBFA;\n",
              "      box-shadow: 0px 1px 2px rgba(60, 64, 67, 0.3), 0px 1px 3px 1px rgba(60, 64, 67, 0.15);\n",
              "      fill: #174EA6;\n",
              "    }\n",
              "\n",
              "    [theme=dark] .colab-df-convert {\n",
              "      background-color: #3B4455;\n",
              "      fill: #D2E3FC;\n",
              "    }\n",
              "\n",
              "    [theme=dark] .colab-df-convert:hover {\n",
              "      background-color: #434B5C;\n",
              "      box-shadow: 0px 1px 3px 1px rgba(0, 0, 0, 0.15);\n",
              "      filter: drop-shadow(0px 1px 2px rgba(0, 0, 0, 0.3));\n",
              "      fill: #FFFFFF;\n",
              "    }\n",
              "  </style>\n",
              "\n",
              "      <script>\n",
              "        const buttonEl =\n",
              "          document.querySelector('#df-770d4b7a-0f73-45d2-b0cb-56ea3bcaca1d button.colab-df-convert');\n",
              "        buttonEl.style.display =\n",
              "          google.colab.kernel.accessAllowed ? 'block' : 'none';\n",
              "\n",
              "        async function convertToInteractive(key) {\n",
              "          const element = document.querySelector('#df-770d4b7a-0f73-45d2-b0cb-56ea3bcaca1d');\n",
              "          const dataTable =\n",
              "            await google.colab.kernel.invokeFunction('convertToInteractive',\n",
              "                                                     [key], {});\n",
              "          if (!dataTable) return;\n",
              "\n",
              "          const docLinkHtml = 'Like what you see? Visit the ' +\n",
              "            '<a target=\"_blank\" href=https://colab.research.google.com/notebooks/data_table.ipynb>data table notebook</a>'\n",
              "            + ' to learn more about interactive tables.';\n",
              "          element.innerHTML = '';\n",
              "          dataTable['output_type'] = 'display_data';\n",
              "          await google.colab.output.renderOutput(dataTable, element);\n",
              "          const docLink = document.createElement('div');\n",
              "          docLink.innerHTML = docLinkHtml;\n",
              "          element.appendChild(docLink);\n",
              "        }\n",
              "      </script>\n",
              "    </div>\n",
              "  </div>\n",
              "  "
            ]
          },
          "metadata": {},
          "execution_count": 31
        }
      ],
      "source": [
        "df2 = pd.DataFrame({'C1':1.,\n",
        "                   'C2':pd.Timestamp('20210102'),\n",
        "                   'C3':pd.Series(1,index=list(range(4)),dtype='float32'),\n",
        "                   'C4':np.array([3]*4,dtype='int32'),\n",
        "                   'C5':pd.Categorical([\"test\",\"train\",\"test\",\"train\"]),\n",
        "                   'C6':'foo',\n",
        "                   'Coluna 7': 2})\n",
        "\n",
        "df2"
      ]
    },
    {
      "cell_type": "markdown",
      "metadata": {
        "id": "7sk8ew4AP2Wr"
      },
      "source": [
        "Conheça outros dtypes [aqui](https://pandas.pydata.org/pandas-docs/stable/user_guide/basics.html#basics-dtypes)"
      ]
    },
    {
      "cell_type": "code",
      "execution_count": null,
      "metadata": {
        "colab": {
          "base_uri": "https://localhost:8080/"
        },
        "id": "dmvWr6LTP2Ww",
        "outputId": "9872ff1c-b230-4300-da91-47c921210595"
      },
      "outputs": [
        {
          "data": {
            "text/plain": [
              "C1           float64\n",
              "C2    datetime64[ns]\n",
              "C3           float32\n",
              "C4             int32\n",
              "C5          category\n",
              "C6            object\n",
              "dtype: object"
            ]
          },
          "execution_count": 21,
          "metadata": {},
          "output_type": "execute_result"
        }
      ],
      "source": [
        "df2.dtypes"
      ]
    },
    {
      "cell_type": "markdown",
      "metadata": {
        "id": "8uflVOy-P2XB"
      },
      "source": [
        "Se você estiver usando IPython, o preenchimento de tabulação para nomes de colunas (bem como atributos públicos) é habilitado automaticamente. Teste abaixo:"
      ]
    },
    {
      "cell_type": "code",
      "source": [
        "df2[\"Coluna 7\"]"
      ],
      "metadata": {
        "colab": {
          "base_uri": "https://localhost:8080/"
        },
        "id": "fvo43Qcv2FX7",
        "outputId": "978a633c-7d9e-4ff8-86a7-9816d913cf7e"
      },
      "execution_count": null,
      "outputs": [
        {
          "output_type": "execute_result",
          "data": {
            "text/plain": [
              "0    2\n",
              "1    2\n",
              "2    2\n",
              "3    2\n",
              "Name: Coluna 7, dtype: int64"
            ]
          },
          "metadata": {},
          "execution_count": 34
        }
      ]
    },
    {
      "cell_type": "code",
      "execution_count": null,
      "metadata": {
        "colab": {
          "base_uri": "https://localhost:8080/",
          "height": 172
        },
        "id": "VBHS3VcAP2XG",
        "outputId": "b290edf3-79ff-4598-d3a5-290e549a75e9"
      },
      "outputs": [
        {
          "data": {
            "text/html": [
              "<div>\n",
              "<style scoped>\n",
              "    .dataframe tbody tr th:only-of-type {\n",
              "        vertical-align: middle;\n",
              "    }\n",
              "\n",
              "    .dataframe tbody tr th {\n",
              "        vertical-align: top;\n",
              "    }\n",
              "\n",
              "    .dataframe thead th {\n",
              "        text-align: right;\n",
              "    }\n",
              "</style>\n",
              "<table border=\"1\" class=\"dataframe\">\n",
              "  <thead>\n",
              "    <tr style=\"text-align: right;\">\n",
              "      <th></th>\n",
              "      <th>C1</th>\n",
              "      <th>Coluna 7</th>\n",
              "    </tr>\n",
              "  </thead>\n",
              "  <tbody>\n",
              "    <tr>\n",
              "      <th>0</th>\n",
              "      <td>1.0</td>\n",
              "      <td>2</td>\n",
              "    </tr>\n",
              "    <tr>\n",
              "      <th>1</th>\n",
              "      <td>1.0</td>\n",
              "      <td>2</td>\n",
              "    </tr>\n",
              "    <tr>\n",
              "      <th>2</th>\n",
              "      <td>1.0</td>\n",
              "      <td>2</td>\n",
              "    </tr>\n",
              "    <tr>\n",
              "      <th>3</th>\n",
              "      <td>1.0</td>\n",
              "      <td>2</td>\n",
              "    </tr>\n",
              "  </tbody>\n",
              "</table>\n",
              "</div>"
            ],
            "text/plain": [
              "    C1  Coluna 7\n",
              "0  1.0         2\n",
              "1  1.0         2\n",
              "2  1.0         2\n",
              "3  1.0         2"
            ]
          },
          "execution_count": 30,
          "metadata": {},
          "output_type": "execute_result"
        }
      ],
      "source": [
        "# df2.<TAB> ou Ctrl + ESPAÇO no colab.\n",
        "df2.C1\n",
        "df2[['C1',\"Coluna 7\"]]"
      ]
    },
    {
      "cell_type": "markdown",
      "metadata": {
        "id": "Zb093FyQebUF"
      },
      "source": [
        "### Para mais detalhes sobre as estruturas de dados fornecidas pelo Pandas [ clique aqui](http://pandas.pydata.org/pandas-docs/stable/dsintro.html#dsintro)."
      ]
    },
    {
      "cell_type": "markdown",
      "metadata": {
        "id": "aeIiUXaNP2Xc"
      },
      "source": [
        "## Visualizando dados\n"
      ]
    },
    {
      "cell_type": "markdown",
      "metadata": {
        "id": "Bkgp72F7P2Xh"
      },
      "source": [
        "See the top & bottom rows of the frame"
      ]
    },
    {
      "cell_type": "code",
      "source": [
        "df.info()"
      ],
      "metadata": {
        "colab": {
          "base_uri": "https://localhost:8080/"
        },
        "id": "elemr4b15ofp",
        "outputId": "cb6a0f28-95b6-45e3-dc3d-2b62d2ad6877"
      },
      "execution_count": null,
      "outputs": [
        {
          "output_type": "stream",
          "name": "stdout",
          "text": [
            "<class 'pandas.core.frame.DataFrame'>\n",
            "DatetimeIndex: 6 entries, 2021-01-01 to 2021-01-06\n",
            "Freq: D\n",
            "Data columns (total 4 columns):\n",
            " #   Column  Non-Null Count  Dtype  \n",
            "---  ------  --------------  -----  \n",
            " 0   A       6 non-null      float64\n",
            " 1   B       6 non-null      float64\n",
            " 2   C       6 non-null      float64\n",
            " 3   D       6 non-null      float64\n",
            "dtypes: float64(4)\n",
            "memory usage: 240.0 bytes\n"
          ]
        }
      ]
    },
    {
      "cell_type": "code",
      "execution_count": null,
      "metadata": {
        "colab": {
          "base_uri": "https://localhost:8080/",
          "height": 206
        },
        "id": "Vq6Z-O2zP2Xm",
        "outputId": "78b12cbf-e531-48e0-8374-402f51c3d46b"
      },
      "outputs": [
        {
          "output_type": "execute_result",
          "data": {
            "text/plain": [
              "                   A         B         C         D\n",
              "2021-01-01  0.607472 -1.114383 -0.015869  0.093837\n",
              "2021-01-02 -0.152781 -2.742377  0.197817 -0.331538\n",
              "2021-01-03  1.301113 -0.176526 -0.169945 -1.289765\n",
              "2021-01-04 -1.764057 -0.193967  1.654969  0.270894\n",
              "2021-01-05  0.380441  0.910793  2.926295  0.568916"
            ],
            "text/html": [
              "\n",
              "  <div id=\"df-fb7c9ebf-8d5e-4434-8b31-34a7da1470bd\">\n",
              "    <div class=\"colab-df-container\">\n",
              "      <div>\n",
              "<style scoped>\n",
              "    .dataframe tbody tr th:only-of-type {\n",
              "        vertical-align: middle;\n",
              "    }\n",
              "\n",
              "    .dataframe tbody tr th {\n",
              "        vertical-align: top;\n",
              "    }\n",
              "\n",
              "    .dataframe thead th {\n",
              "        text-align: right;\n",
              "    }\n",
              "</style>\n",
              "<table border=\"1\" class=\"dataframe\">\n",
              "  <thead>\n",
              "    <tr style=\"text-align: right;\">\n",
              "      <th></th>\n",
              "      <th>A</th>\n",
              "      <th>B</th>\n",
              "      <th>C</th>\n",
              "      <th>D</th>\n",
              "    </tr>\n",
              "  </thead>\n",
              "  <tbody>\n",
              "    <tr>\n",
              "      <th>2021-01-01</th>\n",
              "      <td>0.607472</td>\n",
              "      <td>-1.114383</td>\n",
              "      <td>-0.015869</td>\n",
              "      <td>0.093837</td>\n",
              "    </tr>\n",
              "    <tr>\n",
              "      <th>2021-01-02</th>\n",
              "      <td>-0.152781</td>\n",
              "      <td>-2.742377</td>\n",
              "      <td>0.197817</td>\n",
              "      <td>-0.331538</td>\n",
              "    </tr>\n",
              "    <tr>\n",
              "      <th>2021-01-03</th>\n",
              "      <td>1.301113</td>\n",
              "      <td>-0.176526</td>\n",
              "      <td>-0.169945</td>\n",
              "      <td>-1.289765</td>\n",
              "    </tr>\n",
              "    <tr>\n",
              "      <th>2021-01-04</th>\n",
              "      <td>-1.764057</td>\n",
              "      <td>-0.193967</td>\n",
              "      <td>1.654969</td>\n",
              "      <td>0.270894</td>\n",
              "    </tr>\n",
              "    <tr>\n",
              "      <th>2021-01-05</th>\n",
              "      <td>0.380441</td>\n",
              "      <td>0.910793</td>\n",
              "      <td>2.926295</td>\n",
              "      <td>0.568916</td>\n",
              "    </tr>\n",
              "  </tbody>\n",
              "</table>\n",
              "</div>\n",
              "      <button class=\"colab-df-convert\" onclick=\"convertToInteractive('df-fb7c9ebf-8d5e-4434-8b31-34a7da1470bd')\"\n",
              "              title=\"Convert this dataframe to an interactive table.\"\n",
              "              style=\"display:none;\">\n",
              "        \n",
              "  <svg xmlns=\"http://www.w3.org/2000/svg\" height=\"24px\"viewBox=\"0 0 24 24\"\n",
              "       width=\"24px\">\n",
              "    <path d=\"M0 0h24v24H0V0z\" fill=\"none\"/>\n",
              "    <path d=\"M18.56 5.44l.94 2.06.94-2.06 2.06-.94-2.06-.94-.94-2.06-.94 2.06-2.06.94zm-11 1L8.5 8.5l.94-2.06 2.06-.94-2.06-.94L8.5 2.5l-.94 2.06-2.06.94zm10 10l.94 2.06.94-2.06 2.06-.94-2.06-.94-.94-2.06-.94 2.06-2.06.94z\"/><path d=\"M17.41 7.96l-1.37-1.37c-.4-.4-.92-.59-1.43-.59-.52 0-1.04.2-1.43.59L10.3 9.45l-7.72 7.72c-.78.78-.78 2.05 0 2.83L4 21.41c.39.39.9.59 1.41.59.51 0 1.02-.2 1.41-.59l7.78-7.78 2.81-2.81c.8-.78.8-2.07 0-2.86zM5.41 20L4 18.59l7.72-7.72 1.47 1.35L5.41 20z\"/>\n",
              "  </svg>\n",
              "      </button>\n",
              "      \n",
              "  <style>\n",
              "    .colab-df-container {\n",
              "      display:flex;\n",
              "      flex-wrap:wrap;\n",
              "      gap: 12px;\n",
              "    }\n",
              "\n",
              "    .colab-df-convert {\n",
              "      background-color: #E8F0FE;\n",
              "      border: none;\n",
              "      border-radius: 50%;\n",
              "      cursor: pointer;\n",
              "      display: none;\n",
              "      fill: #1967D2;\n",
              "      height: 32px;\n",
              "      padding: 0 0 0 0;\n",
              "      width: 32px;\n",
              "    }\n",
              "\n",
              "    .colab-df-convert:hover {\n",
              "      background-color: #E2EBFA;\n",
              "      box-shadow: 0px 1px 2px rgba(60, 64, 67, 0.3), 0px 1px 3px 1px rgba(60, 64, 67, 0.15);\n",
              "      fill: #174EA6;\n",
              "    }\n",
              "\n",
              "    [theme=dark] .colab-df-convert {\n",
              "      background-color: #3B4455;\n",
              "      fill: #D2E3FC;\n",
              "    }\n",
              "\n",
              "    [theme=dark] .colab-df-convert:hover {\n",
              "      background-color: #434B5C;\n",
              "      box-shadow: 0px 1px 3px 1px rgba(0, 0, 0, 0.15);\n",
              "      filter: drop-shadow(0px 1px 2px rgba(0, 0, 0, 0.3));\n",
              "      fill: #FFFFFF;\n",
              "    }\n",
              "  </style>\n",
              "\n",
              "      <script>\n",
              "        const buttonEl =\n",
              "          document.querySelector('#df-fb7c9ebf-8d5e-4434-8b31-34a7da1470bd button.colab-df-convert');\n",
              "        buttonEl.style.display =\n",
              "          google.colab.kernel.accessAllowed ? 'block' : 'none';\n",
              "\n",
              "        async function convertToInteractive(key) {\n",
              "          const element = document.querySelector('#df-fb7c9ebf-8d5e-4434-8b31-34a7da1470bd');\n",
              "          const dataTable =\n",
              "            await google.colab.kernel.invokeFunction('convertToInteractive',\n",
              "                                                     [key], {});\n",
              "          if (!dataTable) return;\n",
              "\n",
              "          const docLinkHtml = 'Like what you see? Visit the ' +\n",
              "            '<a target=\"_blank\" href=https://colab.research.google.com/notebooks/data_table.ipynb>data table notebook</a>'\n",
              "            + ' to learn more about interactive tables.';\n",
              "          element.innerHTML = '';\n",
              "          dataTable['output_type'] = 'display_data';\n",
              "          await google.colab.output.renderOutput(dataTable, element);\n",
              "          const docLink = document.createElement('div');\n",
              "          docLink.innerHTML = docLinkHtml;\n",
              "          element.appendChild(docLink);\n",
              "        }\n",
              "      </script>\n",
              "    </div>\n",
              "  </div>\n",
              "  "
            ]
          },
          "metadata": {},
          "execution_count": 41
        }
      ],
      "source": [
        "df.head()"
      ]
    },
    {
      "cell_type": "code",
      "execution_count": null,
      "metadata": {
        "colab": {
          "base_uri": "https://localhost:8080/",
          "height": 143
        },
        "id": "CI84slqQP2Xy",
        "outputId": "4830c3fc-5547-4e95-c287-20775a186ce2"
      },
      "outputs": [
        {
          "output_type": "execute_result",
          "data": {
            "text/plain": [
              "                   A         B         C         D\n",
              "2021-01-04 -1.764057 -0.193967  1.654969  0.270894\n",
              "2021-01-05  0.380441  0.910793  2.926295  0.568916\n",
              "2021-01-06 -0.188359  0.231448  1.044600 -1.303898"
            ],
            "text/html": [
              "\n",
              "  <div id=\"df-97e059a1-f6b1-4b26-9a1f-048ed2aec700\">\n",
              "    <div class=\"colab-df-container\">\n",
              "      <div>\n",
              "<style scoped>\n",
              "    .dataframe tbody tr th:only-of-type {\n",
              "        vertical-align: middle;\n",
              "    }\n",
              "\n",
              "    .dataframe tbody tr th {\n",
              "        vertical-align: top;\n",
              "    }\n",
              "\n",
              "    .dataframe thead th {\n",
              "        text-align: right;\n",
              "    }\n",
              "</style>\n",
              "<table border=\"1\" class=\"dataframe\">\n",
              "  <thead>\n",
              "    <tr style=\"text-align: right;\">\n",
              "      <th></th>\n",
              "      <th>A</th>\n",
              "      <th>B</th>\n",
              "      <th>C</th>\n",
              "      <th>D</th>\n",
              "    </tr>\n",
              "  </thead>\n",
              "  <tbody>\n",
              "    <tr>\n",
              "      <th>2021-01-04</th>\n",
              "      <td>-1.764057</td>\n",
              "      <td>-0.193967</td>\n",
              "      <td>1.654969</td>\n",
              "      <td>0.270894</td>\n",
              "    </tr>\n",
              "    <tr>\n",
              "      <th>2021-01-05</th>\n",
              "      <td>0.380441</td>\n",
              "      <td>0.910793</td>\n",
              "      <td>2.926295</td>\n",
              "      <td>0.568916</td>\n",
              "    </tr>\n",
              "    <tr>\n",
              "      <th>2021-01-06</th>\n",
              "      <td>-0.188359</td>\n",
              "      <td>0.231448</td>\n",
              "      <td>1.044600</td>\n",
              "      <td>-1.303898</td>\n",
              "    </tr>\n",
              "  </tbody>\n",
              "</table>\n",
              "</div>\n",
              "      <button class=\"colab-df-convert\" onclick=\"convertToInteractive('df-97e059a1-f6b1-4b26-9a1f-048ed2aec700')\"\n",
              "              title=\"Convert this dataframe to an interactive table.\"\n",
              "              style=\"display:none;\">\n",
              "        \n",
              "  <svg xmlns=\"http://www.w3.org/2000/svg\" height=\"24px\"viewBox=\"0 0 24 24\"\n",
              "       width=\"24px\">\n",
              "    <path d=\"M0 0h24v24H0V0z\" fill=\"none\"/>\n",
              "    <path d=\"M18.56 5.44l.94 2.06.94-2.06 2.06-.94-2.06-.94-.94-2.06-.94 2.06-2.06.94zm-11 1L8.5 8.5l.94-2.06 2.06-.94-2.06-.94L8.5 2.5l-.94 2.06-2.06.94zm10 10l.94 2.06.94-2.06 2.06-.94-2.06-.94-.94-2.06-.94 2.06-2.06.94z\"/><path d=\"M17.41 7.96l-1.37-1.37c-.4-.4-.92-.59-1.43-.59-.52 0-1.04.2-1.43.59L10.3 9.45l-7.72 7.72c-.78.78-.78 2.05 0 2.83L4 21.41c.39.39.9.59 1.41.59.51 0 1.02-.2 1.41-.59l7.78-7.78 2.81-2.81c.8-.78.8-2.07 0-2.86zM5.41 20L4 18.59l7.72-7.72 1.47 1.35L5.41 20z\"/>\n",
              "  </svg>\n",
              "      </button>\n",
              "      \n",
              "  <style>\n",
              "    .colab-df-container {\n",
              "      display:flex;\n",
              "      flex-wrap:wrap;\n",
              "      gap: 12px;\n",
              "    }\n",
              "\n",
              "    .colab-df-convert {\n",
              "      background-color: #E8F0FE;\n",
              "      border: none;\n",
              "      border-radius: 50%;\n",
              "      cursor: pointer;\n",
              "      display: none;\n",
              "      fill: #1967D2;\n",
              "      height: 32px;\n",
              "      padding: 0 0 0 0;\n",
              "      width: 32px;\n",
              "    }\n",
              "\n",
              "    .colab-df-convert:hover {\n",
              "      background-color: #E2EBFA;\n",
              "      box-shadow: 0px 1px 2px rgba(60, 64, 67, 0.3), 0px 1px 3px 1px rgba(60, 64, 67, 0.15);\n",
              "      fill: #174EA6;\n",
              "    }\n",
              "\n",
              "    [theme=dark] .colab-df-convert {\n",
              "      background-color: #3B4455;\n",
              "      fill: #D2E3FC;\n",
              "    }\n",
              "\n",
              "    [theme=dark] .colab-df-convert:hover {\n",
              "      background-color: #434B5C;\n",
              "      box-shadow: 0px 1px 3px 1px rgba(0, 0, 0, 0.15);\n",
              "      filter: drop-shadow(0px 1px 2px rgba(0, 0, 0, 0.3));\n",
              "      fill: #FFFFFF;\n",
              "    }\n",
              "  </style>\n",
              "\n",
              "      <script>\n",
              "        const buttonEl =\n",
              "          document.querySelector('#df-97e059a1-f6b1-4b26-9a1f-048ed2aec700 button.colab-df-convert');\n",
              "        buttonEl.style.display =\n",
              "          google.colab.kernel.accessAllowed ? 'block' : 'none';\n",
              "\n",
              "        async function convertToInteractive(key) {\n",
              "          const element = document.querySelector('#df-97e059a1-f6b1-4b26-9a1f-048ed2aec700');\n",
              "          const dataTable =\n",
              "            await google.colab.kernel.invokeFunction('convertToInteractive',\n",
              "                                                     [key], {});\n",
              "          if (!dataTable) return;\n",
              "\n",
              "          const docLinkHtml = 'Like what you see? Visit the ' +\n",
              "            '<a target=\"_blank\" href=https://colab.research.google.com/notebooks/data_table.ipynb>data table notebook</a>'\n",
              "            + ' to learn more about interactive tables.';\n",
              "          element.innerHTML = '';\n",
              "          dataTable['output_type'] = 'display_data';\n",
              "          await google.colab.output.renderOutput(dataTable, element);\n",
              "          const docLink = document.createElement('div');\n",
              "          docLink.innerHTML = docLinkHtml;\n",
              "          element.appendChild(docLink);\n",
              "        }\n",
              "      </script>\n",
              "    </div>\n",
              "  </div>\n",
              "  "
            ]
          },
          "metadata": {},
          "execution_count": 36
        }
      ],
      "source": [
        "df.tail(3)"
      ]
    },
    {
      "cell_type": "markdown",
      "metadata": {
        "id": "f1IwaoGmP2X9"
      },
      "source": [
        "Display the index, columns, and the underlying numpy data"
      ]
    },
    {
      "cell_type": "code",
      "execution_count": null,
      "metadata": {
        "id": "q_lTwkpbP2YA",
        "colab": {
          "base_uri": "https://localhost:8080/"
        },
        "outputId": "2455886d-80c4-4e7f-f3ad-b3477352e008"
      },
      "outputs": [
        {
          "output_type": "execute_result",
          "data": {
            "text/plain": [
              "DatetimeIndex(['2021-01-01', '2021-01-02', '2021-01-03', '2021-01-04',\n",
              "               '2021-01-05', '2021-01-06'],\n",
              "              dtype='datetime64[ns]', freq='D')"
            ]
          },
          "metadata": {},
          "execution_count": 42
        }
      ],
      "source": [
        "df.index"
      ]
    },
    {
      "cell_type": "code",
      "execution_count": null,
      "metadata": {
        "colab": {
          "base_uri": "https://localhost:8080/",
          "height": 234
        },
        "id": "Z6p2-3REP2YL",
        "outputId": "41fbacb9-0a71-416a-b37e-60fd88c289e6"
      },
      "outputs": [
        {
          "data": {
            "text/html": [
              "<div>\n",
              "<style scoped>\n",
              "    .dataframe tbody tr th:only-of-type {\n",
              "        vertical-align: middle;\n",
              "    }\n",
              "\n",
              "    .dataframe tbody tr th {\n",
              "        vertical-align: top;\n",
              "    }\n",
              "\n",
              "    .dataframe thead th {\n",
              "        text-align: right;\n",
              "    }\n",
              "</style>\n",
              "<table border=\"1\" class=\"dataframe\">\n",
              "  <thead>\n",
              "    <tr style=\"text-align: right;\">\n",
              "      <th></th>\n",
              "      <th>A</th>\n",
              "      <th>B</th>\n",
              "      <th>C</th>\n",
              "      <th>D</th>\n",
              "    </tr>\n",
              "  </thead>\n",
              "  <tbody>\n",
              "    <tr>\n",
              "      <th>1</th>\n",
              "      <td>-0.284214</td>\n",
              "      <td>-0.359876</td>\n",
              "      <td>0.034263</td>\n",
              "      <td>0.489893</td>\n",
              "    </tr>\n",
              "    <tr>\n",
              "      <th>2</th>\n",
              "      <td>1.523510</td>\n",
              "      <td>-1.237274</td>\n",
              "      <td>0.981602</td>\n",
              "      <td>-1.926444</td>\n",
              "    </tr>\n",
              "    <tr>\n",
              "      <th>3</th>\n",
              "      <td>1.312841</td>\n",
              "      <td>0.262637</td>\n",
              "      <td>-2.314506</td>\n",
              "      <td>0.331363</td>\n",
              "    </tr>\n",
              "    <tr>\n",
              "      <th>4</th>\n",
              "      <td>-0.796425</td>\n",
              "      <td>0.267239</td>\n",
              "      <td>0.427246</td>\n",
              "      <td>-0.937452</td>\n",
              "    </tr>\n",
              "    <tr>\n",
              "      <th>5</th>\n",
              "      <td>-1.097423</td>\n",
              "      <td>-0.448137</td>\n",
              "      <td>0.185382</td>\n",
              "      <td>-0.738703</td>\n",
              "    </tr>\n",
              "    <tr>\n",
              "      <th>6</th>\n",
              "      <td>-0.023116</td>\n",
              "      <td>-0.824322</td>\n",
              "      <td>0.757760</td>\n",
              "      <td>-0.099923</td>\n",
              "    </tr>\n",
              "  </tbody>\n",
              "</table>\n",
              "</div>"
            ],
            "text/plain": [
              "          A         B         C         D\n",
              "1 -0.284214 -0.359876  0.034263  0.489893\n",
              "2  1.523510 -1.237274  0.981602 -1.926444\n",
              "3  1.312841  0.262637 -2.314506  0.331363\n",
              "4 -0.796425  0.267239  0.427246 -0.937452\n",
              "5 -1.097423 -0.448137  0.185382 -0.738703\n",
              "6 -0.023116 -0.824322  0.757760 -0.099923"
            ]
          },
          "execution_count": 35,
          "metadata": {},
          "output_type": "execute_result"
        }
      ],
      "source": [
        "df.columns = ['A', 'B', 'C', 'D']\n",
        "df"
      ]
    },
    {
      "cell_type": "code",
      "execution_count": null,
      "metadata": {
        "colab": {
          "base_uri": "https://localhost:8080/"
        },
        "id": "vY1yRWdjP2Ym",
        "outputId": "e3dbb00d-e1f3-4720-b633-ae74d1be6229",
        "scrolled": true
      },
      "outputs": [
        {
          "data": {
            "text/plain": [
              "array([[ 0.32271443, -0.57216631,  0.46152423, -1.2940445 ],\n",
              "       [-0.17344256, -0.6778891 ,  0.84233112,  1.75192722],\n",
              "       [ 1.04096631, -0.04253173,  1.8867164 , -0.0079583 ],\n",
              "       [-1.25055618, -0.18851972, -0.64084143,  0.94877284],\n",
              "       [ 1.0565634 ,  2.09059104, -0.35088588, -1.53526585],\n",
              "       [-0.55377477,  1.083263  ,  0.92277124,  0.79531827]])"
            ]
          },
          "execution_count": 37,
          "metadata": {},
          "output_type": "execute_result"
        }
      ],
      "source": [
        "df.values"
      ]
    },
    {
      "cell_type": "markdown",
      "metadata": {
        "id": "pHfmL23OP2Y2"
      },
      "source": [
        "Describe shows a quick statistic summary of your data"
      ]
    },
    {
      "cell_type": "code",
      "execution_count": null,
      "metadata": {
        "colab": {
          "base_uri": "https://localhost:8080/"
        },
        "id": "J95nfFnwP2Y6",
        "outputId": "d9d44879-0989-404b-88d8-e21e24d38d54"
      },
      "outputs": [
        {
          "data": {
            "text/html": [
              "<div>\n",
              "<style scoped>\n",
              "    .dataframe tbody tr th:only-of-type {\n",
              "        vertical-align: middle;\n",
              "    }\n",
              "\n",
              "    .dataframe tbody tr th {\n",
              "        vertical-align: top;\n",
              "    }\n",
              "\n",
              "    .dataframe thead th {\n",
              "        text-align: right;\n",
              "    }\n",
              "</style>\n",
              "<table border=\"1\" class=\"dataframe\">\n",
              "  <thead>\n",
              "    <tr style=\"text-align: right;\">\n",
              "      <th></th>\n",
              "      <th>A</th>\n",
              "      <th>B</th>\n",
              "      <th>C</th>\n",
              "      <th>D</th>\n",
              "    </tr>\n",
              "  </thead>\n",
              "  <tbody>\n",
              "    <tr>\n",
              "      <th>count</th>\n",
              "      <td>6.000000</td>\n",
              "      <td>6.000000</td>\n",
              "      <td>6.000000</td>\n",
              "      <td>6.000000</td>\n",
              "    </tr>\n",
              "    <tr>\n",
              "      <th>mean</th>\n",
              "      <td>-0.560569</td>\n",
              "      <td>-0.260155</td>\n",
              "      <td>0.042856</td>\n",
              "      <td>-0.111459</td>\n",
              "    </tr>\n",
              "    <tr>\n",
              "      <th>std</th>\n",
              "      <td>0.960686</td>\n",
              "      <td>1.604088</td>\n",
              "      <td>1.023413</td>\n",
              "      <td>1.250456</td>\n",
              "    </tr>\n",
              "    <tr>\n",
              "      <th>min</th>\n",
              "      <td>-1.737754</td>\n",
              "      <td>-2.782568</td>\n",
              "      <td>-1.627366</td>\n",
              "      <td>-1.529945</td>\n",
              "    </tr>\n",
              "    <tr>\n",
              "      <th>25%</th>\n",
              "      <td>-1.326706</td>\n",
              "      <td>-1.059930</td>\n",
              "      <td>-0.332848</td>\n",
              "      <td>-1.074670</td>\n",
              "    </tr>\n",
              "    <tr>\n",
              "      <th>50%</th>\n",
              "      <td>-0.475772</td>\n",
              "      <td>-0.036480</td>\n",
              "      <td>0.115470</td>\n",
              "      <td>-0.276245</td>\n",
              "    </tr>\n",
              "    <tr>\n",
              "      <th>75%</th>\n",
              "      <td>0.311612</td>\n",
              "      <td>0.994159</td>\n",
              "      <td>0.631243</td>\n",
              "      <td>0.815652</td>\n",
              "    </tr>\n",
              "    <tr>\n",
              "      <th>max</th>\n",
              "      <td>0.362159</td>\n",
              "      <td>1.357975</td>\n",
              "      <td>1.332683</td>\n",
              "      <td>1.574877</td>\n",
              "    </tr>\n",
              "  </tbody>\n",
              "</table>\n",
              "</div>"
            ],
            "text/plain": [
              "              A         B         C         D\n",
              "count  6.000000  6.000000  6.000000  6.000000\n",
              "mean  -0.560569 -0.260155  0.042856 -0.111459\n",
              "std    0.960686  1.604088  1.023413  1.250456\n",
              "min   -1.737754 -2.782568 -1.627366 -1.529945\n",
              "25%   -1.326706 -1.059930 -0.332848 -1.074670\n",
              "50%   -0.475772 -0.036480  0.115470 -0.276245\n",
              "75%    0.311612  0.994159  0.631243  0.815652\n",
              "max    0.362159  1.357975  1.332683  1.574877"
            ]
          },
          "execution_count": 17,
          "metadata": {
            "tags": []
          },
          "output_type": "execute_result"
        }
      ],
      "source": [
        "df.describe()"
      ]
    },
    {
      "cell_type": "markdown",
      "metadata": {
        "id": "xQ8h_KneP2ZH"
      },
      "source": [
        "Transposing your data"
      ]
    },
    {
      "cell_type": "code",
      "execution_count": null,
      "metadata": {
        "colab": {
          "base_uri": "https://localhost:8080/",
          "height": 175
        },
        "id": "N51DacHKP2ZL",
        "outputId": "17ce0c86-082e-48bb-a105-f458af5496ad"
      },
      "outputs": [
        {
          "output_type": "execute_result",
          "data": {
            "text/plain": [
              "   2021-01-01  2021-01-02  2021-01-03  2021-01-04  2021-01-05  2021-01-06\n",
              "A    0.607472   -0.152781    1.301113   -1.764057    0.380441   -0.188359\n",
              "B   -1.114383   -2.742377   -0.176526   -0.193967    0.910793    0.231448\n",
              "C   -0.015869    0.197817   -0.169945    1.654969    2.926295    1.044600\n",
              "D    0.093837   -0.331538   -1.289765    0.270894    0.568916   -1.303898"
            ],
            "text/html": [
              "\n",
              "  <div id=\"df-2d2bdd06-1fb1-4d91-ab76-2dd8298a9c6f\">\n",
              "    <div class=\"colab-df-container\">\n",
              "      <div>\n",
              "<style scoped>\n",
              "    .dataframe tbody tr th:only-of-type {\n",
              "        vertical-align: middle;\n",
              "    }\n",
              "\n",
              "    .dataframe tbody tr th {\n",
              "        vertical-align: top;\n",
              "    }\n",
              "\n",
              "    .dataframe thead th {\n",
              "        text-align: right;\n",
              "    }\n",
              "</style>\n",
              "<table border=\"1\" class=\"dataframe\">\n",
              "  <thead>\n",
              "    <tr style=\"text-align: right;\">\n",
              "      <th></th>\n",
              "      <th>2021-01-01</th>\n",
              "      <th>2021-01-02</th>\n",
              "      <th>2021-01-03</th>\n",
              "      <th>2021-01-04</th>\n",
              "      <th>2021-01-05</th>\n",
              "      <th>2021-01-06</th>\n",
              "    </tr>\n",
              "  </thead>\n",
              "  <tbody>\n",
              "    <tr>\n",
              "      <th>A</th>\n",
              "      <td>0.607472</td>\n",
              "      <td>-0.152781</td>\n",
              "      <td>1.301113</td>\n",
              "      <td>-1.764057</td>\n",
              "      <td>0.380441</td>\n",
              "      <td>-0.188359</td>\n",
              "    </tr>\n",
              "    <tr>\n",
              "      <th>B</th>\n",
              "      <td>-1.114383</td>\n",
              "      <td>-2.742377</td>\n",
              "      <td>-0.176526</td>\n",
              "      <td>-0.193967</td>\n",
              "      <td>0.910793</td>\n",
              "      <td>0.231448</td>\n",
              "    </tr>\n",
              "    <tr>\n",
              "      <th>C</th>\n",
              "      <td>-0.015869</td>\n",
              "      <td>0.197817</td>\n",
              "      <td>-0.169945</td>\n",
              "      <td>1.654969</td>\n",
              "      <td>2.926295</td>\n",
              "      <td>1.044600</td>\n",
              "    </tr>\n",
              "    <tr>\n",
              "      <th>D</th>\n",
              "      <td>0.093837</td>\n",
              "      <td>-0.331538</td>\n",
              "      <td>-1.289765</td>\n",
              "      <td>0.270894</td>\n",
              "      <td>0.568916</td>\n",
              "      <td>-1.303898</td>\n",
              "    </tr>\n",
              "  </tbody>\n",
              "</table>\n",
              "</div>\n",
              "      <button class=\"colab-df-convert\" onclick=\"convertToInteractive('df-2d2bdd06-1fb1-4d91-ab76-2dd8298a9c6f')\"\n",
              "              title=\"Convert this dataframe to an interactive table.\"\n",
              "              style=\"display:none;\">\n",
              "        \n",
              "  <svg xmlns=\"http://www.w3.org/2000/svg\" height=\"24px\"viewBox=\"0 0 24 24\"\n",
              "       width=\"24px\">\n",
              "    <path d=\"M0 0h24v24H0V0z\" fill=\"none\"/>\n",
              "    <path d=\"M18.56 5.44l.94 2.06.94-2.06 2.06-.94-2.06-.94-.94-2.06-.94 2.06-2.06.94zm-11 1L8.5 8.5l.94-2.06 2.06-.94-2.06-.94L8.5 2.5l-.94 2.06-2.06.94zm10 10l.94 2.06.94-2.06 2.06-.94-2.06-.94-.94-2.06-.94 2.06-2.06.94z\"/><path d=\"M17.41 7.96l-1.37-1.37c-.4-.4-.92-.59-1.43-.59-.52 0-1.04.2-1.43.59L10.3 9.45l-7.72 7.72c-.78.78-.78 2.05 0 2.83L4 21.41c.39.39.9.59 1.41.59.51 0 1.02-.2 1.41-.59l7.78-7.78 2.81-2.81c.8-.78.8-2.07 0-2.86zM5.41 20L4 18.59l7.72-7.72 1.47 1.35L5.41 20z\"/>\n",
              "  </svg>\n",
              "      </button>\n",
              "      \n",
              "  <style>\n",
              "    .colab-df-container {\n",
              "      display:flex;\n",
              "      flex-wrap:wrap;\n",
              "      gap: 12px;\n",
              "    }\n",
              "\n",
              "    .colab-df-convert {\n",
              "      background-color: #E8F0FE;\n",
              "      border: none;\n",
              "      border-radius: 50%;\n",
              "      cursor: pointer;\n",
              "      display: none;\n",
              "      fill: #1967D2;\n",
              "      height: 32px;\n",
              "      padding: 0 0 0 0;\n",
              "      width: 32px;\n",
              "    }\n",
              "\n",
              "    .colab-df-convert:hover {\n",
              "      background-color: #E2EBFA;\n",
              "      box-shadow: 0px 1px 2px rgba(60, 64, 67, 0.3), 0px 1px 3px 1px rgba(60, 64, 67, 0.15);\n",
              "      fill: #174EA6;\n",
              "    }\n",
              "\n",
              "    [theme=dark] .colab-df-convert {\n",
              "      background-color: #3B4455;\n",
              "      fill: #D2E3FC;\n",
              "    }\n",
              "\n",
              "    [theme=dark] .colab-df-convert:hover {\n",
              "      background-color: #434B5C;\n",
              "      box-shadow: 0px 1px 3px 1px rgba(0, 0, 0, 0.15);\n",
              "      filter: drop-shadow(0px 1px 2px rgba(0, 0, 0, 0.3));\n",
              "      fill: #FFFFFF;\n",
              "    }\n",
              "  </style>\n",
              "\n",
              "      <script>\n",
              "        const buttonEl =\n",
              "          document.querySelector('#df-2d2bdd06-1fb1-4d91-ab76-2dd8298a9c6f button.colab-df-convert');\n",
              "        buttonEl.style.display =\n",
              "          google.colab.kernel.accessAllowed ? 'block' : 'none';\n",
              "\n",
              "        async function convertToInteractive(key) {\n",
              "          const element = document.querySelector('#df-2d2bdd06-1fb1-4d91-ab76-2dd8298a9c6f');\n",
              "          const dataTable =\n",
              "            await google.colab.kernel.invokeFunction('convertToInteractive',\n",
              "                                                     [key], {});\n",
              "          if (!dataTable) return;\n",
              "\n",
              "          const docLinkHtml = 'Like what you see? Visit the ' +\n",
              "            '<a target=\"_blank\" href=https://colab.research.google.com/notebooks/data_table.ipynb>data table notebook</a>'\n",
              "            + ' to learn more about interactive tables.';\n",
              "          element.innerHTML = '';\n",
              "          dataTable['output_type'] = 'display_data';\n",
              "          await google.colab.output.renderOutput(dataTable, element);\n",
              "          const docLink = document.createElement('div');\n",
              "          docLink.innerHTML = docLinkHtml;\n",
              "          element.appendChild(docLink);\n",
              "        }\n",
              "      </script>\n",
              "    </div>\n",
              "  </div>\n",
              "  "
            ]
          },
          "metadata": {},
          "execution_count": 54
        }
      ],
      "source": [
        "df.T"
      ]
    },
    {
      "cell_type": "markdown",
      "metadata": {
        "id": "_58tqT7gP2Zr"
      },
      "source": [
        "Sorting by value"
      ]
    },
    {
      "cell_type": "code",
      "execution_count": null,
      "metadata": {
        "colab": {
          "base_uri": "https://localhost:8080/",
          "height": 237
        },
        "id": "gAfS62YtP2Zu",
        "outputId": "cccec7fc-7ad8-4220-9d84-404f637c2b53"
      },
      "outputs": [
        {
          "output_type": "execute_result",
          "data": {
            "text/plain": [
              "                   A         B         C         D\n",
              "2021-01-02 -0.152781 -2.742377  0.197817 -0.331538\n",
              "2021-01-01  0.607472 -1.114383 -0.015869  0.093837\n",
              "2021-01-04 -1.764057 -0.193967  1.654969  0.270894\n",
              "2021-01-03  1.301113 -0.176526 -0.169945 -1.289765\n",
              "2021-01-06 -0.188359  0.231448  1.044600 -1.303898\n",
              "2021-01-05  0.380441  0.910793  2.926295  0.568916"
            ],
            "text/html": [
              "\n",
              "  <div id=\"df-6294a8c6-f843-49a6-b3ec-022959779f4f\">\n",
              "    <div class=\"colab-df-container\">\n",
              "      <div>\n",
              "<style scoped>\n",
              "    .dataframe tbody tr th:only-of-type {\n",
              "        vertical-align: middle;\n",
              "    }\n",
              "\n",
              "    .dataframe tbody tr th {\n",
              "        vertical-align: top;\n",
              "    }\n",
              "\n",
              "    .dataframe thead th {\n",
              "        text-align: right;\n",
              "    }\n",
              "</style>\n",
              "<table border=\"1\" class=\"dataframe\">\n",
              "  <thead>\n",
              "    <tr style=\"text-align: right;\">\n",
              "      <th></th>\n",
              "      <th>A</th>\n",
              "      <th>B</th>\n",
              "      <th>C</th>\n",
              "      <th>D</th>\n",
              "    </tr>\n",
              "  </thead>\n",
              "  <tbody>\n",
              "    <tr>\n",
              "      <th>2021-01-02</th>\n",
              "      <td>-0.152781</td>\n",
              "      <td>-2.742377</td>\n",
              "      <td>0.197817</td>\n",
              "      <td>-0.331538</td>\n",
              "    </tr>\n",
              "    <tr>\n",
              "      <th>2021-01-01</th>\n",
              "      <td>0.607472</td>\n",
              "      <td>-1.114383</td>\n",
              "      <td>-0.015869</td>\n",
              "      <td>0.093837</td>\n",
              "    </tr>\n",
              "    <tr>\n",
              "      <th>2021-01-04</th>\n",
              "      <td>-1.764057</td>\n",
              "      <td>-0.193967</td>\n",
              "      <td>1.654969</td>\n",
              "      <td>0.270894</td>\n",
              "    </tr>\n",
              "    <tr>\n",
              "      <th>2021-01-03</th>\n",
              "      <td>1.301113</td>\n",
              "      <td>-0.176526</td>\n",
              "      <td>-0.169945</td>\n",
              "      <td>-1.289765</td>\n",
              "    </tr>\n",
              "    <tr>\n",
              "      <th>2021-01-06</th>\n",
              "      <td>-0.188359</td>\n",
              "      <td>0.231448</td>\n",
              "      <td>1.044600</td>\n",
              "      <td>-1.303898</td>\n",
              "    </tr>\n",
              "    <tr>\n",
              "      <th>2021-01-05</th>\n",
              "      <td>0.380441</td>\n",
              "      <td>0.910793</td>\n",
              "      <td>2.926295</td>\n",
              "      <td>0.568916</td>\n",
              "    </tr>\n",
              "  </tbody>\n",
              "</table>\n",
              "</div>\n",
              "      <button class=\"colab-df-convert\" onclick=\"convertToInteractive('df-6294a8c6-f843-49a6-b3ec-022959779f4f')\"\n",
              "              title=\"Convert this dataframe to an interactive table.\"\n",
              "              style=\"display:none;\">\n",
              "        \n",
              "  <svg xmlns=\"http://www.w3.org/2000/svg\" height=\"24px\"viewBox=\"0 0 24 24\"\n",
              "       width=\"24px\">\n",
              "    <path d=\"M0 0h24v24H0V0z\" fill=\"none\"/>\n",
              "    <path d=\"M18.56 5.44l.94 2.06.94-2.06 2.06-.94-2.06-.94-.94-2.06-.94 2.06-2.06.94zm-11 1L8.5 8.5l.94-2.06 2.06-.94-2.06-.94L8.5 2.5l-.94 2.06-2.06.94zm10 10l.94 2.06.94-2.06 2.06-.94-2.06-.94-.94-2.06-.94 2.06-2.06.94z\"/><path d=\"M17.41 7.96l-1.37-1.37c-.4-.4-.92-.59-1.43-.59-.52 0-1.04.2-1.43.59L10.3 9.45l-7.72 7.72c-.78.78-.78 2.05 0 2.83L4 21.41c.39.39.9.59 1.41.59.51 0 1.02-.2 1.41-.59l7.78-7.78 2.81-2.81c.8-.78.8-2.07 0-2.86zM5.41 20L4 18.59l7.72-7.72 1.47 1.35L5.41 20z\"/>\n",
              "  </svg>\n",
              "      </button>\n",
              "      \n",
              "  <style>\n",
              "    .colab-df-container {\n",
              "      display:flex;\n",
              "      flex-wrap:wrap;\n",
              "      gap: 12px;\n",
              "    }\n",
              "\n",
              "    .colab-df-convert {\n",
              "      background-color: #E8F0FE;\n",
              "      border: none;\n",
              "      border-radius: 50%;\n",
              "      cursor: pointer;\n",
              "      display: none;\n",
              "      fill: #1967D2;\n",
              "      height: 32px;\n",
              "      padding: 0 0 0 0;\n",
              "      width: 32px;\n",
              "    }\n",
              "\n",
              "    .colab-df-convert:hover {\n",
              "      background-color: #E2EBFA;\n",
              "      box-shadow: 0px 1px 2px rgba(60, 64, 67, 0.3), 0px 1px 3px 1px rgba(60, 64, 67, 0.15);\n",
              "      fill: #174EA6;\n",
              "    }\n",
              "\n",
              "    [theme=dark] .colab-df-convert {\n",
              "      background-color: #3B4455;\n",
              "      fill: #D2E3FC;\n",
              "    }\n",
              "\n",
              "    [theme=dark] .colab-df-convert:hover {\n",
              "      background-color: #434B5C;\n",
              "      box-shadow: 0px 1px 3px 1px rgba(0, 0, 0, 0.15);\n",
              "      filter: drop-shadow(0px 1px 2px rgba(0, 0, 0, 0.3));\n",
              "      fill: #FFFFFF;\n",
              "    }\n",
              "  </style>\n",
              "\n",
              "      <script>\n",
              "        const buttonEl =\n",
              "          document.querySelector('#df-6294a8c6-f843-49a6-b3ec-022959779f4f button.colab-df-convert');\n",
              "        buttonEl.style.display =\n",
              "          google.colab.kernel.accessAllowed ? 'block' : 'none';\n",
              "\n",
              "        async function convertToInteractive(key) {\n",
              "          const element = document.querySelector('#df-6294a8c6-f843-49a6-b3ec-022959779f4f');\n",
              "          const dataTable =\n",
              "            await google.colab.kernel.invokeFunction('convertToInteractive',\n",
              "                                                     [key], {});\n",
              "          if (!dataTable) return;\n",
              "\n",
              "          const docLinkHtml = 'Like what you see? Visit the ' +\n",
              "            '<a target=\"_blank\" href=https://colab.research.google.com/notebooks/data_table.ipynb>data table notebook</a>'\n",
              "            + ' to learn more about interactive tables.';\n",
              "          element.innerHTML = '';\n",
              "          dataTable['output_type'] = 'display_data';\n",
              "          await google.colab.output.renderOutput(dataTable, element);\n",
              "          const docLink = document.createElement('div');\n",
              "          docLink.innerHTML = docLinkHtml;\n",
              "          element.appendChild(docLink);\n",
              "        }\n",
              "      </script>\n",
              "    </div>\n",
              "  </div>\n",
              "  "
            ]
          },
          "metadata": {},
          "execution_count": 55
        }
      ],
      "source": [
        "df.sort_values(by=['B'])"
      ]
    },
    {
      "cell_type": "code",
      "source": [
        "df.sort_values(by=['B','C'])"
      ],
      "metadata": {
        "colab": {
          "base_uri": "https://localhost:8080/",
          "height": 237
        },
        "id": "9lOpTJZr_SRh",
        "outputId": "d172d25b-04e1-4d02-e1df-c169e455af12"
      },
      "execution_count": null,
      "outputs": [
        {
          "output_type": "execute_result",
          "data": {
            "text/plain": [
              "                   A         B         C         D\n",
              "2021-01-02 -0.152781 -2.742377  0.197817 -0.331538\n",
              "2021-01-01  0.607472 -1.114383 -0.015869  0.093837\n",
              "2021-01-04 -1.764057 -0.193967  1.654969  0.270894\n",
              "2021-01-03  1.301113 -0.176526 -0.169945 -1.289765\n",
              "2021-01-06 -0.188359  0.231448  1.044600 -1.303898\n",
              "2021-01-05  0.380441  0.910793  2.926295  0.568916"
            ],
            "text/html": [
              "\n",
              "  <div id=\"df-a8a438c1-e976-43ec-99b8-a0085cfb3114\">\n",
              "    <div class=\"colab-df-container\">\n",
              "      <div>\n",
              "<style scoped>\n",
              "    .dataframe tbody tr th:only-of-type {\n",
              "        vertical-align: middle;\n",
              "    }\n",
              "\n",
              "    .dataframe tbody tr th {\n",
              "        vertical-align: top;\n",
              "    }\n",
              "\n",
              "    .dataframe thead th {\n",
              "        text-align: right;\n",
              "    }\n",
              "</style>\n",
              "<table border=\"1\" class=\"dataframe\">\n",
              "  <thead>\n",
              "    <tr style=\"text-align: right;\">\n",
              "      <th></th>\n",
              "      <th>A</th>\n",
              "      <th>B</th>\n",
              "      <th>C</th>\n",
              "      <th>D</th>\n",
              "    </tr>\n",
              "  </thead>\n",
              "  <tbody>\n",
              "    <tr>\n",
              "      <th>2021-01-02</th>\n",
              "      <td>-0.152781</td>\n",
              "      <td>-2.742377</td>\n",
              "      <td>0.197817</td>\n",
              "      <td>-0.331538</td>\n",
              "    </tr>\n",
              "    <tr>\n",
              "      <th>2021-01-01</th>\n",
              "      <td>0.607472</td>\n",
              "      <td>-1.114383</td>\n",
              "      <td>-0.015869</td>\n",
              "      <td>0.093837</td>\n",
              "    </tr>\n",
              "    <tr>\n",
              "      <th>2021-01-04</th>\n",
              "      <td>-1.764057</td>\n",
              "      <td>-0.193967</td>\n",
              "      <td>1.654969</td>\n",
              "      <td>0.270894</td>\n",
              "    </tr>\n",
              "    <tr>\n",
              "      <th>2021-01-03</th>\n",
              "      <td>1.301113</td>\n",
              "      <td>-0.176526</td>\n",
              "      <td>-0.169945</td>\n",
              "      <td>-1.289765</td>\n",
              "    </tr>\n",
              "    <tr>\n",
              "      <th>2021-01-06</th>\n",
              "      <td>-0.188359</td>\n",
              "      <td>0.231448</td>\n",
              "      <td>1.044600</td>\n",
              "      <td>-1.303898</td>\n",
              "    </tr>\n",
              "    <tr>\n",
              "      <th>2021-01-05</th>\n",
              "      <td>0.380441</td>\n",
              "      <td>0.910793</td>\n",
              "      <td>2.926295</td>\n",
              "      <td>0.568916</td>\n",
              "    </tr>\n",
              "  </tbody>\n",
              "</table>\n",
              "</div>\n",
              "      <button class=\"colab-df-convert\" onclick=\"convertToInteractive('df-a8a438c1-e976-43ec-99b8-a0085cfb3114')\"\n",
              "              title=\"Convert this dataframe to an interactive table.\"\n",
              "              style=\"display:none;\">\n",
              "        \n",
              "  <svg xmlns=\"http://www.w3.org/2000/svg\" height=\"24px\"viewBox=\"0 0 24 24\"\n",
              "       width=\"24px\">\n",
              "    <path d=\"M0 0h24v24H0V0z\" fill=\"none\"/>\n",
              "    <path d=\"M18.56 5.44l.94 2.06.94-2.06 2.06-.94-2.06-.94-.94-2.06-.94 2.06-2.06.94zm-11 1L8.5 8.5l.94-2.06 2.06-.94-2.06-.94L8.5 2.5l-.94 2.06-2.06.94zm10 10l.94 2.06.94-2.06 2.06-.94-2.06-.94-.94-2.06-.94 2.06-2.06.94z\"/><path d=\"M17.41 7.96l-1.37-1.37c-.4-.4-.92-.59-1.43-.59-.52 0-1.04.2-1.43.59L10.3 9.45l-7.72 7.72c-.78.78-.78 2.05 0 2.83L4 21.41c.39.39.9.59 1.41.59.51 0 1.02-.2 1.41-.59l7.78-7.78 2.81-2.81c.8-.78.8-2.07 0-2.86zM5.41 20L4 18.59l7.72-7.72 1.47 1.35L5.41 20z\"/>\n",
              "  </svg>\n",
              "      </button>\n",
              "      \n",
              "  <style>\n",
              "    .colab-df-container {\n",
              "      display:flex;\n",
              "      flex-wrap:wrap;\n",
              "      gap: 12px;\n",
              "    }\n",
              "\n",
              "    .colab-df-convert {\n",
              "      background-color: #E8F0FE;\n",
              "      border: none;\n",
              "      border-radius: 50%;\n",
              "      cursor: pointer;\n",
              "      display: none;\n",
              "      fill: #1967D2;\n",
              "      height: 32px;\n",
              "      padding: 0 0 0 0;\n",
              "      width: 32px;\n",
              "    }\n",
              "\n",
              "    .colab-df-convert:hover {\n",
              "      background-color: #E2EBFA;\n",
              "      box-shadow: 0px 1px 2px rgba(60, 64, 67, 0.3), 0px 1px 3px 1px rgba(60, 64, 67, 0.15);\n",
              "      fill: #174EA6;\n",
              "    }\n",
              "\n",
              "    [theme=dark] .colab-df-convert {\n",
              "      background-color: #3B4455;\n",
              "      fill: #D2E3FC;\n",
              "    }\n",
              "\n",
              "    [theme=dark] .colab-df-convert:hover {\n",
              "      background-color: #434B5C;\n",
              "      box-shadow: 0px 1px 3px 1px rgba(0, 0, 0, 0.15);\n",
              "      filter: drop-shadow(0px 1px 2px rgba(0, 0, 0, 0.3));\n",
              "      fill: #FFFFFF;\n",
              "    }\n",
              "  </style>\n",
              "\n",
              "      <script>\n",
              "        const buttonEl =\n",
              "          document.querySelector('#df-a8a438c1-e976-43ec-99b8-a0085cfb3114 button.colab-df-convert');\n",
              "        buttonEl.style.display =\n",
              "          google.colab.kernel.accessAllowed ? 'block' : 'none';\n",
              "\n",
              "        async function convertToInteractive(key) {\n",
              "          const element = document.querySelector('#df-a8a438c1-e976-43ec-99b8-a0085cfb3114');\n",
              "          const dataTable =\n",
              "            await google.colab.kernel.invokeFunction('convertToInteractive',\n",
              "                                                     [key], {});\n",
              "          if (!dataTable) return;\n",
              "\n",
              "          const docLinkHtml = 'Like what you see? Visit the ' +\n",
              "            '<a target=\"_blank\" href=https://colab.research.google.com/notebooks/data_table.ipynb>data table notebook</a>'\n",
              "            + ' to learn more about interactive tables.';\n",
              "          element.innerHTML = '';\n",
              "          dataTable['output_type'] = 'display_data';\n",
              "          await google.colab.output.renderOutput(dataTable, element);\n",
              "          const docLink = document.createElement('div');\n",
              "          docLink.innerHTML = docLinkHtml;\n",
              "          element.appendChild(docLink);\n",
              "        }\n",
              "      </script>\n",
              "    </div>\n",
              "  </div>\n",
              "  "
            ]
          },
          "metadata": {},
          "execution_count": 56
        }
      ]
    },
    {
      "cell_type": "markdown",
      "metadata": {
        "id": "sJHDFukveviv"
      },
      "source": [
        "### Conheça mais funções acessando na seção de [noções básicas do Pandas](http://pandas.pydata.org/pandas-docs/stable/basics.html#basics)."
      ]
    },
    {
      "cell_type": "markdown",
      "metadata": {
        "id": "rzwv706pP2Z5"
      },
      "source": [
        "## Selection"
      ]
    },
    {
      "cell_type": "markdown",
      "metadata": {
        "id": "gERVKOnzP2Z-"
      },
      "source": [
        "Observação: embora as expressões Python / Numpy padrão para seleção e configuração sejam intuitivas e úteis para trabalho interativo, para código de produção, os métodos de acesso de dados otimizados do pandas, .at, .iat, .loc, .iloc e .ix são mais recomendados."
      ]
    },
    {
      "cell_type": "markdown",
      "metadata": {
        "id": "EfOPc8_rP2aF"
      },
      "source": [
        "Veja as seções de indexação do pandas [Indexando e Selecionando Dados](http://pandas.pydata.org/pandas-docs/stable/indexing.html#indexing) e [Indexação Avançada](http://pandas.pydata.org/pandas-docs/stable/advanced.html#advanced)"
      ]
    },
    {
      "cell_type": "markdown",
      "metadata": {
        "id": "UVPw75X7P2aK"
      },
      "source": [
        "### Obtendo dados"
      ]
    },
    {
      "cell_type": "markdown",
      "metadata": {
        "id": "vQqFWpJwP2aO"
      },
      "source": [
        "Selecionar uma única coluna, o que resulta em uma série, equivalente a df.A"
      ]
    },
    {
      "cell_type": "code",
      "execution_count": null,
      "metadata": {
        "colab": {
          "base_uri": "https://localhost:8080/"
        },
        "id": "UTB58akMP2aT",
        "outputId": "6bd9a2b5-4cb4-455b-ce43-2f35a21468fc"
      },
      "outputs": [
        {
          "data": {
            "text/plain": [
              "2021-01-01    0.322714\n",
              "2021-01-02   -0.173443\n",
              "2021-01-03    1.040966\n",
              "2021-01-04   -1.250556\n",
              "2021-01-05    1.056563\n",
              "2021-01-06   -0.553775\n",
              "Freq: D, Name: A, dtype: float64"
            ]
          },
          "execution_count": 41,
          "metadata": {},
          "output_type": "execute_result"
        }
      ],
      "source": [
        "df['A']"
      ]
    },
    {
      "cell_type": "markdown",
      "metadata": {
        "id": "gDPFl5hLP2aj"
      },
      "source": [
        "Selecionando via []."
      ]
    },
    {
      "cell_type": "code",
      "execution_count": null,
      "metadata": {
        "colab": {
          "base_uri": "https://localhost:8080/"
        },
        "id": "x14O3A32P2an",
        "outputId": "6880930d-5680-4b88-d70a-c4923dab55dd"
      },
      "outputs": [
        {
          "data": {
            "text/html": [
              "<div>\n",
              "<style scoped>\n",
              "    .dataframe tbody tr th:only-of-type {\n",
              "        vertical-align: middle;\n",
              "    }\n",
              "\n",
              "    .dataframe tbody tr th {\n",
              "        vertical-align: top;\n",
              "    }\n",
              "\n",
              "    .dataframe thead th {\n",
              "        text-align: right;\n",
              "    }\n",
              "</style>\n",
              "<table border=\"1\" class=\"dataframe\">\n",
              "  <thead>\n",
              "    <tr style=\"text-align: right;\">\n",
              "      <th></th>\n",
              "      <th>A</th>\n",
              "      <th>B</th>\n",
              "      <th>C</th>\n",
              "      <th>D</th>\n",
              "    </tr>\n",
              "  </thead>\n",
              "  <tbody>\n",
              "    <tr>\n",
              "      <th>2021-01-01</th>\n",
              "      <td>0.362159</td>\n",
              "      <td>-1.140712</td>\n",
              "      <td>-1.627366</td>\n",
              "      <td>-1.166057</td>\n",
              "    </tr>\n",
              "    <tr>\n",
              "      <th>2021-01-02</th>\n",
              "      <td>-1.398138</td>\n",
              "      <td>1.357975</td>\n",
              "      <td>1.332683</td>\n",
              "      <td>-0.800510</td>\n",
              "    </tr>\n",
              "    <tr>\n",
              "      <th>2021-01-03</th>\n",
              "      <td>-1.112411</td>\n",
              "      <td>1.077338</td>\n",
              "      <td>0.279864</td>\n",
              "      <td>1.574877</td>\n",
              "    </tr>\n",
              "  </tbody>\n",
              "</table>\n",
              "</div>"
            ],
            "text/plain": [
              "                   A         B         C         D\n",
              "2021-01-01  0.362159 -1.140712 -1.627366 -1.166057\n",
              "2021-01-02 -1.398138  1.357975  1.332683 -0.800510\n",
              "2021-01-03 -1.112411  1.077338  0.279864  1.574877"
            ]
          },
          "execution_count": 21,
          "metadata": {
            "tags": []
          },
          "output_type": "execute_result"
        }
      ],
      "source": [
        "df[0:3]"
      ]
    },
    {
      "cell_type": "code",
      "execution_count": null,
      "metadata": {
        "colab": {
          "base_uri": "https://localhost:8080/",
          "height": 142
        },
        "id": "5TEe2QTkP2a_",
        "outputId": "e9316d91-3caa-486d-e9c9-0fde4930ffcd"
      },
      "outputs": [
        {
          "data": {
            "text/html": [
              "<div>\n",
              "<style scoped>\n",
              "    .dataframe tbody tr th:only-of-type {\n",
              "        vertical-align: middle;\n",
              "    }\n",
              "\n",
              "    .dataframe tbody tr th {\n",
              "        vertical-align: top;\n",
              "    }\n",
              "\n",
              "    .dataframe thead th {\n",
              "        text-align: right;\n",
              "    }\n",
              "</style>\n",
              "<table border=\"1\" class=\"dataframe\">\n",
              "  <thead>\n",
              "    <tr style=\"text-align: right;\">\n",
              "      <th></th>\n",
              "      <th>A</th>\n",
              "      <th>B</th>\n",
              "      <th>C</th>\n",
              "      <th>D</th>\n",
              "    </tr>\n",
              "  </thead>\n",
              "  <tbody>\n",
              "    <tr>\n",
              "      <th>2021-01-02</th>\n",
              "      <td>-0.173443</td>\n",
              "      <td>-0.677889</td>\n",
              "      <td>0.842331</td>\n",
              "      <td>1.751927</td>\n",
              "    </tr>\n",
              "    <tr>\n",
              "      <th>2021-01-03</th>\n",
              "      <td>1.040966</td>\n",
              "      <td>-0.042532</td>\n",
              "      <td>1.886716</td>\n",
              "      <td>-0.007958</td>\n",
              "    </tr>\n",
              "    <tr>\n",
              "      <th>2021-01-04</th>\n",
              "      <td>-1.250556</td>\n",
              "      <td>-0.188520</td>\n",
              "      <td>-0.640841</td>\n",
              "      <td>0.948773</td>\n",
              "    </tr>\n",
              "  </tbody>\n",
              "</table>\n",
              "</div>"
            ],
            "text/plain": [
              "                   A         B         C         D\n",
              "2021-01-02 -0.173443 -0.677889  0.842331  1.751927\n",
              "2021-01-03  1.040966 -0.042532  1.886716 -0.007958\n",
              "2021-01-04 -1.250556 -0.188520 -0.640841  0.948773"
            ]
          },
          "execution_count": 44,
          "metadata": {},
          "output_type": "execute_result"
        }
      ],
      "source": [
        "df['20210102':'20210104']"
      ]
    },
    {
      "cell_type": "markdown",
      "metadata": {
        "id": "H0FYEMpAP2bi"
      },
      "source": [
        "### Seleção por rótulo\n"
      ]
    },
    {
      "cell_type": "markdown",
      "metadata": {
        "id": "xtCiTN_OoTPs"
      },
      "source": [
        "Selecionando pelo índice da linha"
      ]
    },
    {
      "cell_type": "code",
      "execution_count": null,
      "metadata": {
        "colab": {
          "base_uri": "https://localhost:8080/"
        },
        "id": "QUhmTrcpoAsj",
        "outputId": "16471d12-0c6b-402f-bff2-b4ae9accafe8"
      },
      "outputs": [
        {
          "data": {
            "text/plain": [
              "Timestamp('2021-01-01 00:00:00', freq='D')"
            ]
          },
          "execution_count": 47,
          "metadata": {},
          "output_type": "execute_result"
        }
      ],
      "source": [
        "dates[0]"
      ]
    },
    {
      "cell_type": "code",
      "execution_count": null,
      "metadata": {
        "colab": {
          "base_uri": "https://localhost:8080/"
        },
        "id": "r9vkZyVcP2bw",
        "outputId": "e06f805c-d621-4882-e3a8-b33ed8273ec4"
      },
      "outputs": [
        {
          "data": {
            "text/plain": [
              "A    0.322714\n",
              "B   -0.572166\n",
              "C    0.461524\n",
              "D   -1.294045\n",
              "Name: 2021-01-01 00:00:00, dtype: float64"
            ]
          },
          "execution_count": 48,
          "metadata": {},
          "output_type": "execute_result"
        }
      ],
      "source": [
        "df.loc[dates[0]]"
      ]
    },
    {
      "cell_type": "markdown",
      "metadata": {
        "id": "D0M96gxeP2cA"
      },
      "source": [
        "Selecionando pelo rótulo da coluna"
      ]
    },
    {
      "cell_type": "code",
      "execution_count": null,
      "metadata": {
        "colab": {
          "base_uri": "https://localhost:8080/",
          "height": 234
        },
        "id": "b8QaDdCbP2cE",
        "outputId": "d8cede6e-1acc-46ae-938f-d4ae542bb201"
      },
      "outputs": [
        {
          "data": {
            "text/html": [
              "<div>\n",
              "<style scoped>\n",
              "    .dataframe tbody tr th:only-of-type {\n",
              "        vertical-align: middle;\n",
              "    }\n",
              "\n",
              "    .dataframe tbody tr th {\n",
              "        vertical-align: top;\n",
              "    }\n",
              "\n",
              "    .dataframe thead th {\n",
              "        text-align: right;\n",
              "    }\n",
              "</style>\n",
              "<table border=\"1\" class=\"dataframe\">\n",
              "  <thead>\n",
              "    <tr style=\"text-align: right;\">\n",
              "      <th></th>\n",
              "      <th>A</th>\n",
              "      <th>B</th>\n",
              "    </tr>\n",
              "  </thead>\n",
              "  <tbody>\n",
              "    <tr>\n",
              "      <th>2021-01-01</th>\n",
              "      <td>0.322714</td>\n",
              "      <td>-0.572166</td>\n",
              "    </tr>\n",
              "    <tr>\n",
              "      <th>2021-01-02</th>\n",
              "      <td>-0.173443</td>\n",
              "      <td>-0.677889</td>\n",
              "    </tr>\n",
              "    <tr>\n",
              "      <th>2021-01-03</th>\n",
              "      <td>1.040966</td>\n",
              "      <td>-0.042532</td>\n",
              "    </tr>\n",
              "    <tr>\n",
              "      <th>2021-01-04</th>\n",
              "      <td>-1.250556</td>\n",
              "      <td>-0.188520</td>\n",
              "    </tr>\n",
              "    <tr>\n",
              "      <th>2021-01-05</th>\n",
              "      <td>1.056563</td>\n",
              "      <td>2.090591</td>\n",
              "    </tr>\n",
              "    <tr>\n",
              "      <th>2021-01-06</th>\n",
              "      <td>-0.553775</td>\n",
              "      <td>1.083263</td>\n",
              "    </tr>\n",
              "  </tbody>\n",
              "</table>\n",
              "</div>"
            ],
            "text/plain": [
              "                   A         B\n",
              "2021-01-01  0.322714 -0.572166\n",
              "2021-01-02 -0.173443 -0.677889\n",
              "2021-01-03  1.040966 -0.042532\n",
              "2021-01-04 -1.250556 -0.188520\n",
              "2021-01-05  1.056563  2.090591\n",
              "2021-01-06 -0.553775  1.083263"
            ]
          },
          "execution_count": 51,
          "metadata": {},
          "output_type": "execute_result"
        }
      ],
      "source": [
        "df.loc[:,['A','B']]\n"
      ]
    },
    {
      "cell_type": "code",
      "execution_count": null,
      "metadata": {
        "colab": {
          "base_uri": "https://localhost:8080/"
        },
        "id": "eTvsxHztP2cg",
        "outputId": "1e546f51-3884-4b24-9514-829f1395a226"
      },
      "outputs": [
        {
          "data": {
            "text/html": [
              "<div>\n",
              "<style scoped>\n",
              "    .dataframe tbody tr th:only-of-type {\n",
              "        vertical-align: middle;\n",
              "    }\n",
              "\n",
              "    .dataframe tbody tr th {\n",
              "        vertical-align: top;\n",
              "    }\n",
              "\n",
              "    .dataframe thead th {\n",
              "        text-align: right;\n",
              "    }\n",
              "</style>\n",
              "<table border=\"1\" class=\"dataframe\">\n",
              "  <thead>\n",
              "    <tr style=\"text-align: right;\">\n",
              "      <th></th>\n",
              "      <th>A</th>\n",
              "      <th>B</th>\n",
              "    </tr>\n",
              "  </thead>\n",
              "  <tbody>\n",
              "    <tr>\n",
              "      <th>2021-01-02</th>\n",
              "      <td>-1.398138</td>\n",
              "      <td>1.357975</td>\n",
              "    </tr>\n",
              "    <tr>\n",
              "      <th>2021-01-03</th>\n",
              "      <td>-1.112411</td>\n",
              "      <td>1.077338</td>\n",
              "    </tr>\n",
              "    <tr>\n",
              "      <th>2021-01-04</th>\n",
              "      <td>0.160868</td>\n",
              "      <td>-0.817583</td>\n",
              "    </tr>\n",
              "  </tbody>\n",
              "</table>\n",
              "</div>"
            ],
            "text/plain": [
              "                   A         B\n",
              "2021-01-02 -1.398138  1.357975\n",
              "2021-01-03 -1.112411  1.077338\n",
              "2021-01-04  0.160868 -0.817583"
            ]
          },
          "execution_count": 26,
          "metadata": {
            "tags": []
          },
          "output_type": "execute_result"
        }
      ],
      "source": [
        "df.loc['20210102':'20210104',['A','B']]\n"
      ]
    },
    {
      "cell_type": "markdown",
      "metadata": {
        "id": "VTFKSS2VP2cv"
      },
      "source": [
        "Reduzindo as dimensões de uma instância"
      ]
    },
    {
      "cell_type": "code",
      "execution_count": null,
      "metadata": {
        "colab": {
          "base_uri": "https://localhost:8080/"
        },
        "id": "sgJMmi2lP2c9",
        "outputId": "3a06fc08-9990-4002-863a-b8472064090b"
      },
      "outputs": [
        {
          "data": {
            "text/plain": [
              "A   -1.398138\n",
              "B    1.357975\n",
              "Name: 2021-01-02 00:00:00, dtype: float64"
            ]
          },
          "execution_count": 27,
          "metadata": {
            "tags": []
          },
          "output_type": "execute_result"
        }
      ],
      "source": [
        "df.loc['20210102',['A','B']]"
      ]
    },
    {
      "cell_type": "markdown",
      "metadata": {
        "id": "So8-lQDWP2dl"
      },
      "source": [
        "Selecionando uma célula"
      ]
    },
    {
      "cell_type": "code",
      "execution_count": null,
      "metadata": {
        "colab": {
          "base_uri": "https://localhost:8080/"
        },
        "id": "ZkZHE-lVP2dr",
        "outputId": "e5b3f8e9-2e6a-4cfc-e50b-73bf0b376525"
      },
      "outputs": [
        {
          "data": {
            "text/plain": [
              "0.32271443062901695"
            ]
          },
          "execution_count": 52,
          "metadata": {},
          "output_type": "execute_result"
        }
      ],
      "source": [
        "df.loc[dates[0],'A']"
      ]
    },
    {
      "cell_type": "markdown",
      "metadata": {
        "id": "aAnDdLrDP2eH"
      },
      "source": [
        "### Seleção por posição"
      ]
    },
    {
      "cell_type": "code",
      "execution_count": null,
      "metadata": {
        "colab": {
          "base_uri": "https://localhost:8080/"
        },
        "id": "Jb9PWJZKP2eb",
        "outputId": "04c2029f-f3a9-4cb0-db11-255cff9f6be8"
      },
      "outputs": [
        {
          "data": {
            "text/plain": [
              "A   -1.250556\n",
              "B   -0.188520\n",
              "C   -0.640841\n",
              "D    0.948773\n",
              "Name: 2021-01-04 00:00:00, dtype: float64"
            ]
          },
          "execution_count": 53,
          "metadata": {},
          "output_type": "execute_result"
        }
      ],
      "source": [
        "df.iloc[3]"
      ]
    },
    {
      "cell_type": "code",
      "execution_count": null,
      "metadata": {
        "colab": {
          "base_uri": "https://localhost:8080/",
          "height": 110
        },
        "id": "mPm3drOgP2ew",
        "outputId": "21f545d1-be0d-438c-a23f-b894a8f8558c"
      },
      "outputs": [
        {
          "data": {
            "text/html": [
              "<div>\n",
              "<style scoped>\n",
              "    .dataframe tbody tr th:only-of-type {\n",
              "        vertical-align: middle;\n",
              "    }\n",
              "\n",
              "    .dataframe tbody tr th {\n",
              "        vertical-align: top;\n",
              "    }\n",
              "\n",
              "    .dataframe thead th {\n",
              "        text-align: right;\n",
              "    }\n",
              "</style>\n",
              "<table border=\"1\" class=\"dataframe\">\n",
              "  <thead>\n",
              "    <tr style=\"text-align: right;\">\n",
              "      <th></th>\n",
              "      <th>A</th>\n",
              "      <th>B</th>\n",
              "    </tr>\n",
              "  </thead>\n",
              "  <tbody>\n",
              "    <tr>\n",
              "      <th>2021-01-04</th>\n",
              "      <td>-1.250556</td>\n",
              "      <td>-0.188520</td>\n",
              "    </tr>\n",
              "    <tr>\n",
              "      <th>2021-01-05</th>\n",
              "      <td>1.056563</td>\n",
              "      <td>2.090591</td>\n",
              "    </tr>\n",
              "  </tbody>\n",
              "</table>\n",
              "</div>"
            ],
            "text/plain": [
              "                   A         B\n",
              "2021-01-04 -1.250556 -0.188520\n",
              "2021-01-05  1.056563  2.090591"
            ]
          },
          "execution_count": 54,
          "metadata": {},
          "output_type": "execute_result"
        }
      ],
      "source": [
        "df.iloc[3:5,0:2]"
      ]
    },
    {
      "cell_type": "code",
      "execution_count": null,
      "metadata": {
        "colab": {
          "base_uri": "https://localhost:8080/",
          "height": 142
        },
        "id": "d8Q8QB7oP2fK",
        "outputId": "5df70610-422c-45ba-9fa2-0c03dbe9fa53"
      },
      "outputs": [
        {
          "data": {
            "text/html": [
              "<div>\n",
              "<style scoped>\n",
              "    .dataframe tbody tr th:only-of-type {\n",
              "        vertical-align: middle;\n",
              "    }\n",
              "\n",
              "    .dataframe tbody tr th {\n",
              "        vertical-align: top;\n",
              "    }\n",
              "\n",
              "    .dataframe thead th {\n",
              "        text-align: right;\n",
              "    }\n",
              "</style>\n",
              "<table border=\"1\" class=\"dataframe\">\n",
              "  <thead>\n",
              "    <tr style=\"text-align: right;\">\n",
              "      <th></th>\n",
              "      <th>A</th>\n",
              "      <th>C</th>\n",
              "    </tr>\n",
              "  </thead>\n",
              "  <tbody>\n",
              "    <tr>\n",
              "      <th>2021-01-02</th>\n",
              "      <td>-0.173443</td>\n",
              "      <td>0.842331</td>\n",
              "    </tr>\n",
              "    <tr>\n",
              "      <th>2021-01-03</th>\n",
              "      <td>1.040966</td>\n",
              "      <td>1.886716</td>\n",
              "    </tr>\n",
              "    <tr>\n",
              "      <th>2021-01-05</th>\n",
              "      <td>1.056563</td>\n",
              "      <td>-0.350886</td>\n",
              "    </tr>\n",
              "  </tbody>\n",
              "</table>\n",
              "</div>"
            ],
            "text/plain": [
              "                   A         C\n",
              "2021-01-02 -0.173443  0.842331\n",
              "2021-01-03  1.040966  1.886716\n",
              "2021-01-05  1.056563 -0.350886"
            ]
          },
          "execution_count": 55,
          "metadata": {},
          "output_type": "execute_result"
        }
      ],
      "source": [
        "df.iloc[[1,2,4],[0,2]]"
      ]
    },
    {
      "cell_type": "code",
      "execution_count": null,
      "metadata": {
        "colab": {
          "base_uri": "https://localhost:8080/"
        },
        "id": "24Clx77NP2f6",
        "outputId": "5b26048f-469f-4088-f87f-e2a965931baf"
      },
      "outputs": [
        {
          "data": {
            "text/html": [
              "<div>\n",
              "<style scoped>\n",
              "    .dataframe tbody tr th:only-of-type {\n",
              "        vertical-align: middle;\n",
              "    }\n",
              "\n",
              "    .dataframe tbody tr th {\n",
              "        vertical-align: top;\n",
              "    }\n",
              "\n",
              "    .dataframe thead th {\n",
              "        text-align: right;\n",
              "    }\n",
              "</style>\n",
              "<table border=\"1\" class=\"dataframe\">\n",
              "  <thead>\n",
              "    <tr style=\"text-align: right;\">\n",
              "      <th></th>\n",
              "      <th>A</th>\n",
              "      <th>B</th>\n",
              "      <th>C</th>\n",
              "      <th>D</th>\n",
              "    </tr>\n",
              "  </thead>\n",
              "  <tbody>\n",
              "    <tr>\n",
              "      <th>2021-01-02</th>\n",
              "      <td>-1.398138</td>\n",
              "      <td>1.357975</td>\n",
              "      <td>1.332683</td>\n",
              "      <td>-0.800510</td>\n",
              "    </tr>\n",
              "    <tr>\n",
              "      <th>2021-01-03</th>\n",
              "      <td>-1.112411</td>\n",
              "      <td>1.077338</td>\n",
              "      <td>0.279864</td>\n",
              "      <td>1.574877</td>\n",
              "    </tr>\n",
              "  </tbody>\n",
              "</table>\n",
              "</div>"
            ],
            "text/plain": [
              "                   A         B         C         D\n",
              "2021-01-02 -1.398138  1.357975  1.332683 -0.800510\n",
              "2021-01-03 -1.112411  1.077338  0.279864  1.574877"
            ]
          },
          "execution_count": 32,
          "metadata": {
            "tags": []
          },
          "output_type": "execute_result"
        }
      ],
      "source": [
        "df.iloc[1:3,:]"
      ]
    },
    {
      "cell_type": "code",
      "execution_count": null,
      "metadata": {
        "colab": {
          "base_uri": "https://localhost:8080/"
        },
        "id": "N93JR8dJP2g4",
        "outputId": "347ab9bf-c9d4-44b8-9f14-bcd5d110d5a8"
      },
      "outputs": [
        {
          "data": {
            "text/html": [
              "<div>\n",
              "<style scoped>\n",
              "    .dataframe tbody tr th:only-of-type {\n",
              "        vertical-align: middle;\n",
              "    }\n",
              "\n",
              "    .dataframe tbody tr th {\n",
              "        vertical-align: top;\n",
              "    }\n",
              "\n",
              "    .dataframe thead th {\n",
              "        text-align: right;\n",
              "    }\n",
              "</style>\n",
              "<table border=\"1\" class=\"dataframe\">\n",
              "  <thead>\n",
              "    <tr style=\"text-align: right;\">\n",
              "      <th></th>\n",
              "      <th>B</th>\n",
              "      <th>C</th>\n",
              "    </tr>\n",
              "  </thead>\n",
              "  <tbody>\n",
              "    <tr>\n",
              "      <th>2021-01-01</th>\n",
              "      <td>-1.140712</td>\n",
              "      <td>-1.627366</td>\n",
              "    </tr>\n",
              "    <tr>\n",
              "      <th>2021-01-02</th>\n",
              "      <td>1.357975</td>\n",
              "      <td>1.332683</td>\n",
              "    </tr>\n",
              "    <tr>\n",
              "      <th>2021-01-03</th>\n",
              "      <td>1.077338</td>\n",
              "      <td>0.279864</td>\n",
              "    </tr>\n",
              "    <tr>\n",
              "      <th>2021-01-04</th>\n",
              "      <td>-0.817583</td>\n",
              "      <td>0.748370</td>\n",
              "    </tr>\n",
              "    <tr>\n",
              "      <th>2021-01-05</th>\n",
              "      <td>-2.782568</td>\n",
              "      <td>-0.048924</td>\n",
              "    </tr>\n",
              "    <tr>\n",
              "      <th>2021-01-06</th>\n",
              "      <td>0.744623</td>\n",
              "      <td>-0.427489</td>\n",
              "    </tr>\n",
              "  </tbody>\n",
              "</table>\n",
              "</div>"
            ],
            "text/plain": [
              "                   B         C\n",
              "2021-01-01 -1.140712 -1.627366\n",
              "2021-01-02  1.357975  1.332683\n",
              "2021-01-03  1.077338  0.279864\n",
              "2021-01-04 -0.817583  0.748370\n",
              "2021-01-05 -2.782568 -0.048924\n",
              "2021-01-06  0.744623 -0.427489"
            ]
          },
          "execution_count": 33,
          "metadata": {
            "tags": []
          },
          "output_type": "execute_result"
        }
      ],
      "source": [
        "df.iloc[:,1:3]"
      ]
    },
    {
      "cell_type": "code",
      "execution_count": null,
      "metadata": {
        "colab": {
          "base_uri": "https://localhost:8080/"
        },
        "id": "gsj2WFgjP2hO",
        "outputId": "8a7fa99b-c97f-4e1f-ae07-771f445cfedf"
      },
      "outputs": [
        {
          "data": {
            "text/plain": [
              "-0.677889102872932"
            ]
          },
          "execution_count": 57,
          "metadata": {},
          "output_type": "execute_result"
        }
      ],
      "source": [
        "df.iloc[1,1]"
      ]
    },
    {
      "cell_type": "code",
      "execution_count": null,
      "metadata": {
        "colab": {
          "base_uri": "https://localhost:8080/"
        },
        "id": "eZnfDmeaP2hg",
        "outputId": "95e51644-cacd-4bc3-ea05-8a046ccae2cf"
      },
      "outputs": [
        {
          "data": {
            "text/plain": [
              "-0.677889102872932"
            ]
          },
          "execution_count": 56,
          "metadata": {},
          "output_type": "execute_result"
        }
      ],
      "source": [
        "df.iat[1,1]"
      ]
    },
    {
      "cell_type": "markdown",
      "metadata": {
        "id": "13A3qu_frWLP"
      },
      "source": [
        "### Veja mais opções [aqui](http://pandas.pydata.org/pandas-docs/stable/indexing.html#indexing-integer)"
      ]
    },
    {
      "cell_type": "markdown",
      "metadata": {
        "id": "D6hq9880P2iY"
      },
      "source": [
        "## Indexação booleana"
      ]
    },
    {
      "cell_type": "code",
      "execution_count": null,
      "metadata": {
        "colab": {
          "base_uri": "https://localhost:8080/"
        },
        "id": "-NB2IEVeUf4s",
        "outputId": "e028532c-d926-4c9f-9d96-010a4a0a27c2"
      },
      "outputs": [
        {
          "data": {
            "text/html": [
              "<div>\n",
              "<style scoped>\n",
              "    .dataframe tbody tr th:only-of-type {\n",
              "        vertical-align: middle;\n",
              "    }\n",
              "\n",
              "    .dataframe tbody tr th {\n",
              "        vertical-align: top;\n",
              "    }\n",
              "\n",
              "    .dataframe thead th {\n",
              "        text-align: right;\n",
              "    }\n",
              "</style>\n",
              "<table border=\"1\" class=\"dataframe\">\n",
              "  <thead>\n",
              "    <tr style=\"text-align: right;\">\n",
              "      <th></th>\n",
              "      <th>A</th>\n",
              "      <th>B</th>\n",
              "      <th>C</th>\n",
              "      <th>D</th>\n",
              "    </tr>\n",
              "  </thead>\n",
              "  <tbody>\n",
              "    <tr>\n",
              "      <th>2021-01-01</th>\n",
              "      <td>0.362159</td>\n",
              "      <td>-1.140712</td>\n",
              "      <td>-1.627366</td>\n",
              "      <td>-1.166057</td>\n",
              "    </tr>\n",
              "    <tr>\n",
              "      <th>2021-01-02</th>\n",
              "      <td>-1.398138</td>\n",
              "      <td>1.357975</td>\n",
              "      <td>1.332683</td>\n",
              "      <td>-0.800510</td>\n",
              "    </tr>\n",
              "    <tr>\n",
              "      <th>2021-01-03</th>\n",
              "      <td>-1.112411</td>\n",
              "      <td>1.077338</td>\n",
              "      <td>0.279864</td>\n",
              "      <td>1.574877</td>\n",
              "    </tr>\n",
              "    <tr>\n",
              "      <th>2021-01-04</th>\n",
              "      <td>0.160868</td>\n",
              "      <td>-0.817583</td>\n",
              "      <td>0.748370</td>\n",
              "      <td>0.248021</td>\n",
              "    </tr>\n",
              "    <tr>\n",
              "      <th>2021-01-05</th>\n",
              "      <td>0.361861</td>\n",
              "      <td>-2.782568</td>\n",
              "      <td>-0.048924</td>\n",
              "      <td>-1.529945</td>\n",
              "    </tr>\n",
              "    <tr>\n",
              "      <th>2021-01-06</th>\n",
              "      <td>-1.737754</td>\n",
              "      <td>0.744623</td>\n",
              "      <td>-0.427489</td>\n",
              "      <td>1.004862</td>\n",
              "    </tr>\n",
              "  </tbody>\n",
              "</table>\n",
              "</div>"
            ],
            "text/plain": [
              "                   A         B         C         D\n",
              "2021-01-01  0.362159 -1.140712 -1.627366 -1.166057\n",
              "2021-01-02 -1.398138  1.357975  1.332683 -0.800510\n",
              "2021-01-03 -1.112411  1.077338  0.279864  1.574877\n",
              "2021-01-04  0.160868 -0.817583  0.748370  0.248021\n",
              "2021-01-05  0.361861 -2.782568 -0.048924 -1.529945\n",
              "2021-01-06 -1.737754  0.744623 -0.427489  1.004862"
            ]
          },
          "execution_count": 36,
          "metadata": {
            "tags": []
          },
          "output_type": "execute_result"
        }
      ],
      "source": [
        "df"
      ]
    },
    {
      "cell_type": "code",
      "execution_count": null,
      "metadata": {
        "id": "ZD3k0UT9tzzb"
      },
      "outputs": [],
      "source": [
        "df_tst = df.copy()"
      ]
    },
    {
      "cell_type": "code",
      "source": [
        "indices = df_tst.A < 0"
      ],
      "metadata": {
        "id": "xiV1GUpH_obW"
      },
      "execution_count": null,
      "outputs": []
    },
    {
      "cell_type": "code",
      "source": [
        "df_tst.A[df_tst.A < 0]"
      ],
      "metadata": {
        "colab": {
          "base_uri": "https://localhost:8080/"
        },
        "id": "WAogV3D9_0Il",
        "outputId": "688a4197-6f5d-45e3-d860-71bc381899c3"
      },
      "execution_count": null,
      "outputs": [
        {
          "output_type": "execute_result",
          "data": {
            "text/plain": [
              "2021-01-02   -0.152781\n",
              "2021-01-04   -1.764057\n",
              "2021-01-06   -0.188359\n",
              "Name: A, dtype: float64"
            ]
          },
          "metadata": {},
          "execution_count": 66
        }
      ]
    },
    {
      "cell_type": "code",
      "source": [
        "df_tst[df_tst.A < 0].A"
      ],
      "metadata": {
        "colab": {
          "base_uri": "https://localhost:8080/"
        },
        "id": "X514A1htAONZ",
        "outputId": "5b761176-dfd5-4b36-bbee-c84df7bf70d4"
      },
      "execution_count": null,
      "outputs": [
        {
          "output_type": "execute_result",
          "data": {
            "text/plain": [
              "2021-01-02   -0.152781\n",
              "2021-01-04   -1.764057\n",
              "2021-01-06   -0.188359\n",
              "Freq: 2D, Name: A, dtype: float64"
            ]
          },
          "metadata": {},
          "execution_count": 69
        }
      ]
    },
    {
      "cell_type": "code",
      "execution_count": null,
      "metadata": {
        "id": "CcnKL2tgtihx"
      },
      "outputs": [],
      "source": [
        "df_tst.A[df_tst.A < 0] = -df_tst[df_tst.A < 0].A"
      ]
    },
    {
      "cell_type": "code",
      "execution_count": null,
      "metadata": {
        "colab": {
          "base_uri": "https://localhost:8080/",
          "height": 237
        },
        "id": "CKuYi3Grt5dd",
        "outputId": "273d2985-c605-4338-a483-27fa2cbd2dd4"
      },
      "outputs": [
        {
          "output_type": "execute_result",
          "data": {
            "text/plain": [
              "                   A         B         C         D\n",
              "2021-01-01  0.607472 -1.114383 -0.015869  0.093837\n",
              "2021-01-02  0.152781 -2.742377  0.197817 -0.331538\n",
              "2021-01-03  1.301113 -0.176526 -0.169945 -1.289765\n",
              "2021-01-04  1.764057 -0.193967  1.654969  0.270894\n",
              "2021-01-05  0.380441  0.910793  2.926295  0.568916\n",
              "2021-01-06  0.188359  0.231448  1.044600 -1.303898"
            ],
            "text/html": [
              "\n",
              "  <div id=\"df-5b42c223-963e-42df-856e-da3bf0f56f0b\">\n",
              "    <div class=\"colab-df-container\">\n",
              "      <div>\n",
              "<style scoped>\n",
              "    .dataframe tbody tr th:only-of-type {\n",
              "        vertical-align: middle;\n",
              "    }\n",
              "\n",
              "    .dataframe tbody tr th {\n",
              "        vertical-align: top;\n",
              "    }\n",
              "\n",
              "    .dataframe thead th {\n",
              "        text-align: right;\n",
              "    }\n",
              "</style>\n",
              "<table border=\"1\" class=\"dataframe\">\n",
              "  <thead>\n",
              "    <tr style=\"text-align: right;\">\n",
              "      <th></th>\n",
              "      <th>A</th>\n",
              "      <th>B</th>\n",
              "      <th>C</th>\n",
              "      <th>D</th>\n",
              "    </tr>\n",
              "  </thead>\n",
              "  <tbody>\n",
              "    <tr>\n",
              "      <th>2021-01-01</th>\n",
              "      <td>0.607472</td>\n",
              "      <td>-1.114383</td>\n",
              "      <td>-0.015869</td>\n",
              "      <td>0.093837</td>\n",
              "    </tr>\n",
              "    <tr>\n",
              "      <th>2021-01-02</th>\n",
              "      <td>0.152781</td>\n",
              "      <td>-2.742377</td>\n",
              "      <td>0.197817</td>\n",
              "      <td>-0.331538</td>\n",
              "    </tr>\n",
              "    <tr>\n",
              "      <th>2021-01-03</th>\n",
              "      <td>1.301113</td>\n",
              "      <td>-0.176526</td>\n",
              "      <td>-0.169945</td>\n",
              "      <td>-1.289765</td>\n",
              "    </tr>\n",
              "    <tr>\n",
              "      <th>2021-01-04</th>\n",
              "      <td>1.764057</td>\n",
              "      <td>-0.193967</td>\n",
              "      <td>1.654969</td>\n",
              "      <td>0.270894</td>\n",
              "    </tr>\n",
              "    <tr>\n",
              "      <th>2021-01-05</th>\n",
              "      <td>0.380441</td>\n",
              "      <td>0.910793</td>\n",
              "      <td>2.926295</td>\n",
              "      <td>0.568916</td>\n",
              "    </tr>\n",
              "    <tr>\n",
              "      <th>2021-01-06</th>\n",
              "      <td>0.188359</td>\n",
              "      <td>0.231448</td>\n",
              "      <td>1.044600</td>\n",
              "      <td>-1.303898</td>\n",
              "    </tr>\n",
              "  </tbody>\n",
              "</table>\n",
              "</div>\n",
              "      <button class=\"colab-df-convert\" onclick=\"convertToInteractive('df-5b42c223-963e-42df-856e-da3bf0f56f0b')\"\n",
              "              title=\"Convert this dataframe to an interactive table.\"\n",
              "              style=\"display:none;\">\n",
              "        \n",
              "  <svg xmlns=\"http://www.w3.org/2000/svg\" height=\"24px\"viewBox=\"0 0 24 24\"\n",
              "       width=\"24px\">\n",
              "    <path d=\"M0 0h24v24H0V0z\" fill=\"none\"/>\n",
              "    <path d=\"M18.56 5.44l.94 2.06.94-2.06 2.06-.94-2.06-.94-.94-2.06-.94 2.06-2.06.94zm-11 1L8.5 8.5l.94-2.06 2.06-.94-2.06-.94L8.5 2.5l-.94 2.06-2.06.94zm10 10l.94 2.06.94-2.06 2.06-.94-2.06-.94-.94-2.06-.94 2.06-2.06.94z\"/><path d=\"M17.41 7.96l-1.37-1.37c-.4-.4-.92-.59-1.43-.59-.52 0-1.04.2-1.43.59L10.3 9.45l-7.72 7.72c-.78.78-.78 2.05 0 2.83L4 21.41c.39.39.9.59 1.41.59.51 0 1.02-.2 1.41-.59l7.78-7.78 2.81-2.81c.8-.78.8-2.07 0-2.86zM5.41 20L4 18.59l7.72-7.72 1.47 1.35L5.41 20z\"/>\n",
              "  </svg>\n",
              "      </button>\n",
              "      \n",
              "  <style>\n",
              "    .colab-df-container {\n",
              "      display:flex;\n",
              "      flex-wrap:wrap;\n",
              "      gap: 12px;\n",
              "    }\n",
              "\n",
              "    .colab-df-convert {\n",
              "      background-color: #E8F0FE;\n",
              "      border: none;\n",
              "      border-radius: 50%;\n",
              "      cursor: pointer;\n",
              "      display: none;\n",
              "      fill: #1967D2;\n",
              "      height: 32px;\n",
              "      padding: 0 0 0 0;\n",
              "      width: 32px;\n",
              "    }\n",
              "\n",
              "    .colab-df-convert:hover {\n",
              "      background-color: #E2EBFA;\n",
              "      box-shadow: 0px 1px 2px rgba(60, 64, 67, 0.3), 0px 1px 3px 1px rgba(60, 64, 67, 0.15);\n",
              "      fill: #174EA6;\n",
              "    }\n",
              "\n",
              "    [theme=dark] .colab-df-convert {\n",
              "      background-color: #3B4455;\n",
              "      fill: #D2E3FC;\n",
              "    }\n",
              "\n",
              "    [theme=dark] .colab-df-convert:hover {\n",
              "      background-color: #434B5C;\n",
              "      box-shadow: 0px 1px 3px 1px rgba(0, 0, 0, 0.15);\n",
              "      filter: drop-shadow(0px 1px 2px rgba(0, 0, 0, 0.3));\n",
              "      fill: #FFFFFF;\n",
              "    }\n",
              "  </style>\n",
              "\n",
              "      <script>\n",
              "        const buttonEl =\n",
              "          document.querySelector('#df-5b42c223-963e-42df-856e-da3bf0f56f0b button.colab-df-convert');\n",
              "        buttonEl.style.display =\n",
              "          google.colab.kernel.accessAllowed ? 'block' : 'none';\n",
              "\n",
              "        async function convertToInteractive(key) {\n",
              "          const element = document.querySelector('#df-5b42c223-963e-42df-856e-da3bf0f56f0b');\n",
              "          const dataTable =\n",
              "            await google.colab.kernel.invokeFunction('convertToInteractive',\n",
              "                                                     [key], {});\n",
              "          if (!dataTable) return;\n",
              "\n",
              "          const docLinkHtml = 'Like what you see? Visit the ' +\n",
              "            '<a target=\"_blank\" href=https://colab.research.google.com/notebooks/data_table.ipynb>data table notebook</a>'\n",
              "            + ' to learn more about interactive tables.';\n",
              "          element.innerHTML = '';\n",
              "          dataTable['output_type'] = 'display_data';\n",
              "          await google.colab.output.renderOutput(dataTable, element);\n",
              "          const docLink = document.createElement('div');\n",
              "          docLink.innerHTML = docLinkHtml;\n",
              "          element.appendChild(docLink);\n",
              "        }\n",
              "      </script>\n",
              "    </div>\n",
              "  </div>\n",
              "  "
            ]
          },
          "metadata": {},
          "execution_count": 71
        }
      ],
      "source": [
        "df_tst"
      ]
    },
    {
      "cell_type": "code",
      "execution_count": null,
      "metadata": {
        "colab": {
          "base_uri": "https://localhost:8080/"
        },
        "id": "IZBXCsPJUeEd",
        "outputId": "0afddeff-7d63-4d93-c947-4e48595c6b34"
      },
      "outputs": [
        {
          "data": {
            "text/plain": [
              "2021-01-01     True\n",
              "2021-01-02    False\n",
              "2021-01-03     True\n",
              "2021-01-04    False\n",
              "2021-01-05     True\n",
              "2021-01-06    False\n",
              "Freq: D, Name: A, dtype: bool"
            ]
          },
          "execution_count": 61,
          "metadata": {},
          "output_type": "execute_result"
        }
      ],
      "source": [
        "df.A > 0"
      ]
    },
    {
      "cell_type": "code",
      "execution_count": null,
      "metadata": {
        "colab": {
          "base_uri": "https://localhost:8080/"
        },
        "id": "JrE7laz4P2ig",
        "outputId": "358551b3-83f9-4b85-a06d-2abd3fe09b96",
        "scrolled": true
      },
      "outputs": [
        {
          "data": {
            "text/html": [
              "<div>\n",
              "<style scoped>\n",
              "    .dataframe tbody tr th:only-of-type {\n",
              "        vertical-align: middle;\n",
              "    }\n",
              "\n",
              "    .dataframe tbody tr th {\n",
              "        vertical-align: top;\n",
              "    }\n",
              "\n",
              "    .dataframe thead th {\n",
              "        text-align: right;\n",
              "    }\n",
              "</style>\n",
              "<table border=\"1\" class=\"dataframe\">\n",
              "  <thead>\n",
              "    <tr style=\"text-align: right;\">\n",
              "      <th></th>\n",
              "      <th>A</th>\n",
              "      <th>B</th>\n",
              "      <th>C</th>\n",
              "      <th>D</th>\n",
              "    </tr>\n",
              "  </thead>\n",
              "  <tbody>\n",
              "    <tr>\n",
              "      <th>2021-01-01</th>\n",
              "      <td>0.362159</td>\n",
              "      <td>-1.140712</td>\n",
              "      <td>-1.627366</td>\n",
              "      <td>-1.166057</td>\n",
              "    </tr>\n",
              "    <tr>\n",
              "      <th>2021-01-04</th>\n",
              "      <td>0.160868</td>\n",
              "      <td>-0.817583</td>\n",
              "      <td>0.748370</td>\n",
              "      <td>0.248021</td>\n",
              "    </tr>\n",
              "    <tr>\n",
              "      <th>2021-01-05</th>\n",
              "      <td>0.361861</td>\n",
              "      <td>-2.782568</td>\n",
              "      <td>-0.048924</td>\n",
              "      <td>-1.529945</td>\n",
              "    </tr>\n",
              "  </tbody>\n",
              "</table>\n",
              "</div>"
            ],
            "text/plain": [
              "                   A         B         C         D\n",
              "2021-01-01  0.362159 -1.140712 -1.627366 -1.166057\n",
              "2021-01-04  0.160868 -0.817583  0.748370  0.248021\n",
              "2021-01-05  0.361861 -2.782568 -0.048924 -1.529945"
            ]
          },
          "execution_count": 41,
          "metadata": {
            "tags": []
          },
          "output_type": "execute_result"
        }
      ],
      "source": [
        "df[df.A > 0]"
      ]
    },
    {
      "cell_type": "code",
      "execution_count": null,
      "metadata": {
        "colab": {
          "base_uri": "https://localhost:8080/"
        },
        "id": "xzZoq_iJVCLM",
        "outputId": "08d21df0-b601-46eb-bba9-d3911e17cb15"
      },
      "outputs": [
        {
          "data": {
            "text/html": [
              "<div>\n",
              "<style scoped>\n",
              "    .dataframe tbody tr th:only-of-type {\n",
              "        vertical-align: middle;\n",
              "    }\n",
              "\n",
              "    .dataframe tbody tr th {\n",
              "        vertical-align: top;\n",
              "    }\n",
              "\n",
              "    .dataframe thead th {\n",
              "        text-align: right;\n",
              "    }\n",
              "</style>\n",
              "<table border=\"1\" class=\"dataframe\">\n",
              "  <thead>\n",
              "    <tr style=\"text-align: right;\">\n",
              "      <th></th>\n",
              "      <th>A</th>\n",
              "      <th>B</th>\n",
              "      <th>C</th>\n",
              "      <th>D</th>\n",
              "    </tr>\n",
              "  </thead>\n",
              "  <tbody>\n",
              "    <tr>\n",
              "      <th>2021-01-01</th>\n",
              "      <td>True</td>\n",
              "      <td>False</td>\n",
              "      <td>False</td>\n",
              "      <td>False</td>\n",
              "    </tr>\n",
              "    <tr>\n",
              "      <th>2021-01-02</th>\n",
              "      <td>False</td>\n",
              "      <td>True</td>\n",
              "      <td>True</td>\n",
              "      <td>False</td>\n",
              "    </tr>\n",
              "    <tr>\n",
              "      <th>2021-01-03</th>\n",
              "      <td>False</td>\n",
              "      <td>True</td>\n",
              "      <td>True</td>\n",
              "      <td>True</td>\n",
              "    </tr>\n",
              "    <tr>\n",
              "      <th>2021-01-04</th>\n",
              "      <td>True</td>\n",
              "      <td>False</td>\n",
              "      <td>True</td>\n",
              "      <td>True</td>\n",
              "    </tr>\n",
              "    <tr>\n",
              "      <th>2021-01-05</th>\n",
              "      <td>True</td>\n",
              "      <td>False</td>\n",
              "      <td>False</td>\n",
              "      <td>False</td>\n",
              "    </tr>\n",
              "    <tr>\n",
              "      <th>2021-01-06</th>\n",
              "      <td>False</td>\n",
              "      <td>True</td>\n",
              "      <td>False</td>\n",
              "      <td>True</td>\n",
              "    </tr>\n",
              "  </tbody>\n",
              "</table>\n",
              "</div>"
            ],
            "text/plain": [
              "                A      B      C      D\n",
              "2021-01-01   True  False  False  False\n",
              "2021-01-02  False   True   True  False\n",
              "2021-01-03  False   True   True   True\n",
              "2021-01-04   True  False   True   True\n",
              "2021-01-05   True  False  False  False\n",
              "2021-01-06  False   True  False   True"
            ]
          },
          "execution_count": 42,
          "metadata": {
            "tags": []
          },
          "output_type": "execute_result"
        }
      ],
      "source": [
        "df > 0"
      ]
    },
    {
      "cell_type": "code",
      "execution_count": null,
      "metadata": {
        "colab": {
          "base_uri": "https://localhost:8080/"
        },
        "id": "TtJ4gdpIP2i7",
        "outputId": "c1c17474-2bbe-4fb7-9dac-6d958c7786d8"
      },
      "outputs": [
        {
          "data": {
            "text/html": [
              "<div>\n",
              "<style scoped>\n",
              "    .dataframe tbody tr th:only-of-type {\n",
              "        vertical-align: middle;\n",
              "    }\n",
              "\n",
              "    .dataframe tbody tr th {\n",
              "        vertical-align: top;\n",
              "    }\n",
              "\n",
              "    .dataframe thead th {\n",
              "        text-align: right;\n",
              "    }\n",
              "</style>\n",
              "<table border=\"1\" class=\"dataframe\">\n",
              "  <thead>\n",
              "    <tr style=\"text-align: right;\">\n",
              "      <th></th>\n",
              "      <th>A</th>\n",
              "      <th>B</th>\n",
              "      <th>C</th>\n",
              "      <th>D</th>\n",
              "    </tr>\n",
              "  </thead>\n",
              "  <tbody>\n",
              "    <tr>\n",
              "      <th>2021-01-01</th>\n",
              "      <td>0.362159</td>\n",
              "      <td>NaN</td>\n",
              "      <td>NaN</td>\n",
              "      <td>NaN</td>\n",
              "    </tr>\n",
              "    <tr>\n",
              "      <th>2021-01-02</th>\n",
              "      <td>NaN</td>\n",
              "      <td>1.357975</td>\n",
              "      <td>1.332683</td>\n",
              "      <td>NaN</td>\n",
              "    </tr>\n",
              "    <tr>\n",
              "      <th>2021-01-03</th>\n",
              "      <td>NaN</td>\n",
              "      <td>1.077338</td>\n",
              "      <td>0.279864</td>\n",
              "      <td>1.574877</td>\n",
              "    </tr>\n",
              "    <tr>\n",
              "      <th>2021-01-04</th>\n",
              "      <td>0.160868</td>\n",
              "      <td>NaN</td>\n",
              "      <td>0.748370</td>\n",
              "      <td>0.248021</td>\n",
              "    </tr>\n",
              "    <tr>\n",
              "      <th>2021-01-05</th>\n",
              "      <td>0.361861</td>\n",
              "      <td>NaN</td>\n",
              "      <td>NaN</td>\n",
              "      <td>NaN</td>\n",
              "    </tr>\n",
              "    <tr>\n",
              "      <th>2021-01-06</th>\n",
              "      <td>NaN</td>\n",
              "      <td>0.744623</td>\n",
              "      <td>NaN</td>\n",
              "      <td>1.004862</td>\n",
              "    </tr>\n",
              "  </tbody>\n",
              "</table>\n",
              "</div>"
            ],
            "text/plain": [
              "                   A         B         C         D\n",
              "2021-01-01  0.362159       NaN       NaN       NaN\n",
              "2021-01-02       NaN  1.357975  1.332683       NaN\n",
              "2021-01-03       NaN  1.077338  0.279864  1.574877\n",
              "2021-01-04  0.160868       NaN  0.748370  0.248021\n",
              "2021-01-05  0.361861       NaN       NaN       NaN\n",
              "2021-01-06       NaN  0.744623       NaN  1.004862"
            ]
          },
          "execution_count": 43,
          "metadata": {
            "tags": []
          },
          "output_type": "execute_result"
        }
      ],
      "source": [
        "df[df > 0]"
      ]
    },
    {
      "cell_type": "markdown",
      "metadata": {
        "id": "4An3wzedP2jG"
      },
      "source": [
        "Utilizando o operador isin()"
      ]
    },
    {
      "cell_type": "code",
      "execution_count": null,
      "metadata": {
        "id": "fxSQtcLeP2je",
        "scrolled": true
      },
      "outputs": [],
      "source": [
        "df2 = df.copy()"
      ]
    },
    {
      "cell_type": "code",
      "execution_count": null,
      "metadata": {
        "colab": {
          "background_save": true
        },
        "id": "oXow5BukP2js"
      },
      "outputs": [],
      "source": [
        "df2['E'] = ['one','one', 'two','three','four','three']"
      ]
    },
    {
      "cell_type": "code",
      "execution_count": null,
      "metadata": {
        "colab": {
          "base_uri": "https://localhost:8080/"
        },
        "id": "OlxgBClnP2j3",
        "outputId": "1a95bf5e-ac3e-4bd1-e599-4a45231f4900"
      },
      "outputs": [
        {
          "data": {
            "text/html": [
              "<div>\n",
              "<style scoped>\n",
              "    .dataframe tbody tr th:only-of-type {\n",
              "        vertical-align: middle;\n",
              "    }\n",
              "\n",
              "    .dataframe tbody tr th {\n",
              "        vertical-align: top;\n",
              "    }\n",
              "\n",
              "    .dataframe thead th {\n",
              "        text-align: right;\n",
              "    }\n",
              "</style>\n",
              "<table border=\"1\" class=\"dataframe\">\n",
              "  <thead>\n",
              "    <tr style=\"text-align: right;\">\n",
              "      <th></th>\n",
              "      <th>A</th>\n",
              "      <th>B</th>\n",
              "      <th>C</th>\n",
              "      <th>D</th>\n",
              "      <th>E</th>\n",
              "    </tr>\n",
              "  </thead>\n",
              "  <tbody>\n",
              "    <tr>\n",
              "      <th>2021-01-01</th>\n",
              "      <td>0.362159</td>\n",
              "      <td>-1.140712</td>\n",
              "      <td>-1.627366</td>\n",
              "      <td>-1.166057</td>\n",
              "      <td>one</td>\n",
              "    </tr>\n",
              "    <tr>\n",
              "      <th>2021-01-02</th>\n",
              "      <td>-1.398138</td>\n",
              "      <td>1.357975</td>\n",
              "      <td>1.332683</td>\n",
              "      <td>-0.800510</td>\n",
              "      <td>one</td>\n",
              "    </tr>\n",
              "    <tr>\n",
              "      <th>2021-01-03</th>\n",
              "      <td>-1.112411</td>\n",
              "      <td>1.077338</td>\n",
              "      <td>0.279864</td>\n",
              "      <td>1.574877</td>\n",
              "      <td>two</td>\n",
              "    </tr>\n",
              "    <tr>\n",
              "      <th>2021-01-04</th>\n",
              "      <td>0.160868</td>\n",
              "      <td>-0.817583</td>\n",
              "      <td>0.748370</td>\n",
              "      <td>0.248021</td>\n",
              "      <td>three</td>\n",
              "    </tr>\n",
              "    <tr>\n",
              "      <th>2021-01-05</th>\n",
              "      <td>0.361861</td>\n",
              "      <td>-2.782568</td>\n",
              "      <td>-0.048924</td>\n",
              "      <td>-1.529945</td>\n",
              "      <td>four</td>\n",
              "    </tr>\n",
              "    <tr>\n",
              "      <th>2021-01-06</th>\n",
              "      <td>-1.737754</td>\n",
              "      <td>0.744623</td>\n",
              "      <td>-0.427489</td>\n",
              "      <td>1.004862</td>\n",
              "      <td>three</td>\n",
              "    </tr>\n",
              "  </tbody>\n",
              "</table>\n",
              "</div>"
            ],
            "text/plain": [
              "                   A         B         C         D      E\n",
              "2021-01-01  0.362159 -1.140712 -1.627366 -1.166057    one\n",
              "2021-01-02 -1.398138  1.357975  1.332683 -0.800510    one\n",
              "2021-01-03 -1.112411  1.077338  0.279864  1.574877    two\n",
              "2021-01-04  0.160868 -0.817583  0.748370  0.248021  three\n",
              "2021-01-05  0.361861 -2.782568 -0.048924 -1.529945   four\n",
              "2021-01-06 -1.737754  0.744623 -0.427489  1.004862  three"
            ]
          },
          "execution_count": 46,
          "metadata": {
            "tags": []
          },
          "output_type": "execute_result"
        }
      ],
      "source": [
        "df2"
      ]
    },
    {
      "cell_type": "code",
      "execution_count": null,
      "metadata": {
        "colab": {
          "base_uri": "https://localhost:8080/"
        },
        "id": "XPQFFcv9P2kX",
        "outputId": "1fd84c46-0f31-4082-d952-ae3fe2bf9252"
      },
      "outputs": [
        {
          "data": {
            "text/html": [
              "<div>\n",
              "<style scoped>\n",
              "    .dataframe tbody tr th:only-of-type {\n",
              "        vertical-align: middle;\n",
              "    }\n",
              "\n",
              "    .dataframe tbody tr th {\n",
              "        vertical-align: top;\n",
              "    }\n",
              "\n",
              "    .dataframe thead th {\n",
              "        text-align: right;\n",
              "    }\n",
              "</style>\n",
              "<table border=\"1\" class=\"dataframe\">\n",
              "  <thead>\n",
              "    <tr style=\"text-align: right;\">\n",
              "      <th></th>\n",
              "      <th>A</th>\n",
              "      <th>B</th>\n",
              "      <th>C</th>\n",
              "      <th>D</th>\n",
              "      <th>E</th>\n",
              "    </tr>\n",
              "  </thead>\n",
              "  <tbody>\n",
              "    <tr>\n",
              "      <th>2021-01-03</th>\n",
              "      <td>-1.112411</td>\n",
              "      <td>1.077338</td>\n",
              "      <td>0.279864</td>\n",
              "      <td>1.574877</td>\n",
              "      <td>two</td>\n",
              "    </tr>\n",
              "    <tr>\n",
              "      <th>2021-01-05</th>\n",
              "      <td>0.361861</td>\n",
              "      <td>-2.782568</td>\n",
              "      <td>-0.048924</td>\n",
              "      <td>-1.529945</td>\n",
              "      <td>four</td>\n",
              "    </tr>\n",
              "  </tbody>\n",
              "</table>\n",
              "</div>"
            ],
            "text/plain": [
              "                   A         B         C         D     E\n",
              "2021-01-03 -1.112411  1.077338  0.279864  1.574877   two\n",
              "2021-01-05  0.361861 -2.782568 -0.048924 -1.529945  four"
            ]
          },
          "execution_count": 47,
          "metadata": {
            "tags": []
          },
          "output_type": "execute_result"
        }
      ],
      "source": [
        "df2[df2['E'].isin(['two','four'])]"
      ]
    },
    {
      "cell_type": "markdown",
      "metadata": {
        "id": "pIcY94_RP2ki"
      },
      "source": [
        "## Setting"
      ]
    },
    {
      "cell_type": "markdown",
      "metadata": {
        "id": "Bd5zApDIP2kl"
      },
      "source": [
        "Definir uma nova coluna alinha automaticamente os dados pelos índices"
      ]
    },
    {
      "cell_type": "code",
      "execution_count": null,
      "metadata": {
        "colab": {
          "background_save": true
        },
        "id": "r2Tsgq8NP2kr"
      },
      "outputs": [],
      "source": [
        "s1 = pd.Series([1,2,3,4,5,6], index=pd.date_range('20210102',periods=6))"
      ]
    },
    {
      "cell_type": "code",
      "execution_count": null,
      "metadata": {
        "colab": {
          "background_save": true,
          "base_uri": "https://localhost:8080/"
        },
        "id": "JUxtYuxLP2k5",
        "outputId": "c1b86081-5bad-4724-9646-34f0e8b8d43c"
      },
      "outputs": [
        {
          "data": {
            "text/plain": [
              "2021-01-02    1\n",
              "2021-01-03    2\n",
              "2021-01-04    3\n",
              "2021-01-05    4\n",
              "2021-01-06    5\n",
              "2021-01-07    6\n",
              "Freq: D, dtype: int64"
            ]
          },
          "execution_count": null,
          "metadata": {},
          "output_type": "execute_result"
        }
      ],
      "source": [
        "s1"
      ]
    },
    {
      "cell_type": "code",
      "execution_count": null,
      "metadata": {
        "colab": {
          "background_save": true
        },
        "id": "-IBtLsQQP2lE"
      },
      "outputs": [],
      "source": [
        "df['F'] = s1"
      ]
    },
    {
      "cell_type": "code",
      "execution_count": null,
      "metadata": {
        "colab": {
          "base_uri": "https://localhost:8080/"
        },
        "id": "KGnhVIfqXswV",
        "outputId": "29ad93b2-60f5-4c0d-f8d7-3990206e961a"
      },
      "outputs": [
        {
          "data": {
            "text/html": [
              "<div>\n",
              "<style scoped>\n",
              "    .dataframe tbody tr th:only-of-type {\n",
              "        vertical-align: middle;\n",
              "    }\n",
              "\n",
              "    .dataframe tbody tr th {\n",
              "        vertical-align: top;\n",
              "    }\n",
              "\n",
              "    .dataframe thead th {\n",
              "        text-align: right;\n",
              "    }\n",
              "</style>\n",
              "<table border=\"1\" class=\"dataframe\">\n",
              "  <thead>\n",
              "    <tr style=\"text-align: right;\">\n",
              "      <th></th>\n",
              "      <th>A</th>\n",
              "      <th>B</th>\n",
              "      <th>C</th>\n",
              "      <th>D</th>\n",
              "      <th>F</th>\n",
              "    </tr>\n",
              "  </thead>\n",
              "  <tbody>\n",
              "    <tr>\n",
              "      <th>2021-01-01</th>\n",
              "      <td>0.362159</td>\n",
              "      <td>-1.140712</td>\n",
              "      <td>-1.627366</td>\n",
              "      <td>-1.166057</td>\n",
              "      <td>NaN</td>\n",
              "    </tr>\n",
              "    <tr>\n",
              "      <th>2021-01-02</th>\n",
              "      <td>-1.398138</td>\n",
              "      <td>1.357975</td>\n",
              "      <td>1.332683</td>\n",
              "      <td>-0.800510</td>\n",
              "      <td>1.0</td>\n",
              "    </tr>\n",
              "    <tr>\n",
              "      <th>2021-01-03</th>\n",
              "      <td>-1.112411</td>\n",
              "      <td>1.077338</td>\n",
              "      <td>0.279864</td>\n",
              "      <td>1.574877</td>\n",
              "      <td>2.0</td>\n",
              "    </tr>\n",
              "    <tr>\n",
              "      <th>2021-01-04</th>\n",
              "      <td>0.160868</td>\n",
              "      <td>-0.817583</td>\n",
              "      <td>0.748370</td>\n",
              "      <td>0.248021</td>\n",
              "      <td>3.0</td>\n",
              "    </tr>\n",
              "    <tr>\n",
              "      <th>2021-01-05</th>\n",
              "      <td>0.361861</td>\n",
              "      <td>-2.782568</td>\n",
              "      <td>-0.048924</td>\n",
              "      <td>-1.529945</td>\n",
              "      <td>4.0</td>\n",
              "    </tr>\n",
              "    <tr>\n",
              "      <th>2021-01-06</th>\n",
              "      <td>-1.737754</td>\n",
              "      <td>0.744623</td>\n",
              "      <td>-0.427489</td>\n",
              "      <td>1.004862</td>\n",
              "      <td>5.0</td>\n",
              "    </tr>\n",
              "  </tbody>\n",
              "</table>\n",
              "</div>"
            ],
            "text/plain": [
              "                   A         B         C         D    F\n",
              "2021-01-01  0.362159 -1.140712 -1.627366 -1.166057  NaN\n",
              "2021-01-02 -1.398138  1.357975  1.332683 -0.800510  1.0\n",
              "2021-01-03 -1.112411  1.077338  0.279864  1.574877  2.0\n",
              "2021-01-04  0.160868 -0.817583  0.748370  0.248021  3.0\n",
              "2021-01-05  0.361861 -2.782568 -0.048924 -1.529945  4.0\n",
              "2021-01-06 -1.737754  0.744623 -0.427489  1.004862  5.0"
            ]
          },
          "execution_count": 51,
          "metadata": {
            "tags": []
          },
          "output_type": "execute_result"
        }
      ],
      "source": [
        "df"
      ]
    },
    {
      "cell_type": "markdown",
      "metadata": {
        "id": "6dpteAdyP2le"
      },
      "source": [
        "Definindo valores pelo rótulo"
      ]
    },
    {
      "cell_type": "code",
      "execution_count": null,
      "metadata": {
        "colab": {
          "base_uri": "https://localhost:8080/"
        },
        "id": "IgeTY8M0YvCk",
        "outputId": "0802f540-94cf-4420-e7c9-1a42757d8484"
      },
      "outputs": [
        {
          "data": {
            "text/plain": [
              "Timestamp('2021-01-01 00:00:00', freq='D')"
            ]
          },
          "execution_count": 52,
          "metadata": {
            "tags": []
          },
          "output_type": "execute_result"
        }
      ],
      "source": [
        "dates[0]"
      ]
    },
    {
      "cell_type": "code",
      "execution_count": null,
      "metadata": {
        "id": "qsXQ7YmmP2lg"
      },
      "outputs": [],
      "source": [
        "df.at[dates[0],'A'] = 0"
      ]
    },
    {
      "cell_type": "code",
      "execution_count": null,
      "metadata": {
        "colab": {
          "base_uri": "https://localhost:8080/"
        },
        "id": "KdY7MDk9YM9H",
        "outputId": "25717726-9ccf-49c3-dba0-7fda806422f9"
      },
      "outputs": [
        {
          "data": {
            "text/html": [
              "<div>\n",
              "<style scoped>\n",
              "    .dataframe tbody tr th:only-of-type {\n",
              "        vertical-align: middle;\n",
              "    }\n",
              "\n",
              "    .dataframe tbody tr th {\n",
              "        vertical-align: top;\n",
              "    }\n",
              "\n",
              "    .dataframe thead th {\n",
              "        text-align: right;\n",
              "    }\n",
              "</style>\n",
              "<table border=\"1\" class=\"dataframe\">\n",
              "  <thead>\n",
              "    <tr style=\"text-align: right;\">\n",
              "      <th></th>\n",
              "      <th>A</th>\n",
              "      <th>B</th>\n",
              "      <th>C</th>\n",
              "      <th>D</th>\n",
              "      <th>F</th>\n",
              "    </tr>\n",
              "  </thead>\n",
              "  <tbody>\n",
              "    <tr>\n",
              "      <th>2021-01-01</th>\n",
              "      <td>0.000000</td>\n",
              "      <td>-1.140712</td>\n",
              "      <td>-1.627366</td>\n",
              "      <td>-1.166057</td>\n",
              "      <td>NaN</td>\n",
              "    </tr>\n",
              "    <tr>\n",
              "      <th>2021-01-02</th>\n",
              "      <td>-1.398138</td>\n",
              "      <td>1.357975</td>\n",
              "      <td>1.332683</td>\n",
              "      <td>-0.800510</td>\n",
              "      <td>1.0</td>\n",
              "    </tr>\n",
              "    <tr>\n",
              "      <th>2021-01-03</th>\n",
              "      <td>-1.112411</td>\n",
              "      <td>1.077338</td>\n",
              "      <td>0.279864</td>\n",
              "      <td>1.574877</td>\n",
              "      <td>2.0</td>\n",
              "    </tr>\n",
              "    <tr>\n",
              "      <th>2021-01-04</th>\n",
              "      <td>0.160868</td>\n",
              "      <td>-0.817583</td>\n",
              "      <td>0.748370</td>\n",
              "      <td>0.248021</td>\n",
              "      <td>3.0</td>\n",
              "    </tr>\n",
              "    <tr>\n",
              "      <th>2021-01-05</th>\n",
              "      <td>0.361861</td>\n",
              "      <td>-2.782568</td>\n",
              "      <td>-0.048924</td>\n",
              "      <td>-1.529945</td>\n",
              "      <td>4.0</td>\n",
              "    </tr>\n",
              "    <tr>\n",
              "      <th>2021-01-06</th>\n",
              "      <td>-1.737754</td>\n",
              "      <td>0.744623</td>\n",
              "      <td>-0.427489</td>\n",
              "      <td>1.004862</td>\n",
              "      <td>5.0</td>\n",
              "    </tr>\n",
              "  </tbody>\n",
              "</table>\n",
              "</div>"
            ],
            "text/plain": [
              "                   A         B         C         D    F\n",
              "2021-01-01  0.000000 -1.140712 -1.627366 -1.166057  NaN\n",
              "2021-01-02 -1.398138  1.357975  1.332683 -0.800510  1.0\n",
              "2021-01-03 -1.112411  1.077338  0.279864  1.574877  2.0\n",
              "2021-01-04  0.160868 -0.817583  0.748370  0.248021  3.0\n",
              "2021-01-05  0.361861 -2.782568 -0.048924 -1.529945  4.0\n",
              "2021-01-06 -1.737754  0.744623 -0.427489  1.004862  5.0"
            ]
          },
          "execution_count": 54,
          "metadata": {
            "tags": []
          },
          "output_type": "execute_result"
        }
      ],
      "source": [
        "df"
      ]
    },
    {
      "cell_type": "markdown",
      "metadata": {
        "id": "R1Q1Y4PoP2lq"
      },
      "source": [
        "Definindo valores pela posição"
      ]
    },
    {
      "cell_type": "code",
      "execution_count": null,
      "metadata": {
        "id": "hXkisZBVP2ls"
      },
      "outputs": [],
      "source": [
        "df.iat[0,1] = 0"
      ]
    },
    {
      "cell_type": "markdown",
      "metadata": {
        "id": "Ly8fRHRjP2l5"
      },
      "source": [
        "Definir atribuindo com uma matriz numpy"
      ]
    },
    {
      "cell_type": "code",
      "execution_count": null,
      "metadata": {
        "colab": {
          "base_uri": "https://localhost:8080/"
        },
        "id": "h3fOwja3Zk2x",
        "outputId": "f6c7ca70-923d-44ce-9b29-1cedd3e18387"
      },
      "outputs": [
        {
          "name": "stdout",
          "output_type": "stream",
          "text": [
            "<class 'pandas.core.frame.DataFrame'>\n",
            "DatetimeIndex: 6 entries, 2021-01-01 to 2021-01-06\n",
            "Freq: D\n",
            "Data columns (total 5 columns):\n",
            "A    6 non-null float64\n",
            "B    6 non-null float64\n",
            "C    6 non-null float64\n",
            "D    6 non-null float64\n",
            "F    5 non-null float64\n",
            "dtypes: float64(5)\n",
            "memory usage: 448.0 bytes\n"
          ]
        }
      ],
      "source": [
        "df.info()"
      ]
    },
    {
      "cell_type": "code",
      "execution_count": null,
      "metadata": {
        "colab": {
          "background_save": true,
          "base_uri": "https://localhost:8080/"
        },
        "id": "3md5GiyEZSZS",
        "outputId": "0bc1e3ba-7715-4810-c05f-de51eb560354"
      },
      "outputs": [
        {
          "data": {
            "text/plain": [
              "array([5, 5, 5, 5, 5, 5])"
            ]
          },
          "execution_count": null,
          "metadata": {},
          "output_type": "execute_result"
        }
      ],
      "source": [
        "np.array([5] * len(df))"
      ]
    },
    {
      "cell_type": "code",
      "execution_count": null,
      "metadata": {
        "id": "aLSuJQGKP2l8"
      },
      "outputs": [],
      "source": [
        "df.loc[:,'D'] = np.array([5] * len(df))"
      ]
    },
    {
      "cell_type": "code",
      "execution_count": null,
      "metadata": {
        "colab": {
          "base_uri": "https://localhost:8080/"
        },
        "id": "sFmszF92ZHBJ",
        "outputId": "228eeab1-1930-406f-b1d7-0bcbbca4084c"
      },
      "outputs": [
        {
          "data": {
            "text/html": [
              "<div>\n",
              "<style scoped>\n",
              "    .dataframe tbody tr th:only-of-type {\n",
              "        vertical-align: middle;\n",
              "    }\n",
              "\n",
              "    .dataframe tbody tr th {\n",
              "        vertical-align: top;\n",
              "    }\n",
              "\n",
              "    .dataframe thead th {\n",
              "        text-align: right;\n",
              "    }\n",
              "</style>\n",
              "<table border=\"1\" class=\"dataframe\">\n",
              "  <thead>\n",
              "    <tr style=\"text-align: right;\">\n",
              "      <th></th>\n",
              "      <th>A</th>\n",
              "      <th>B</th>\n",
              "      <th>C</th>\n",
              "      <th>D</th>\n",
              "      <th>F</th>\n",
              "    </tr>\n",
              "  </thead>\n",
              "  <tbody>\n",
              "    <tr>\n",
              "      <th>2021-01-01</th>\n",
              "      <td>0.000000</td>\n",
              "      <td>0.000000</td>\n",
              "      <td>-1.627366</td>\n",
              "      <td>5</td>\n",
              "      <td>NaN</td>\n",
              "    </tr>\n",
              "    <tr>\n",
              "      <th>2021-01-02</th>\n",
              "      <td>-1.398138</td>\n",
              "      <td>1.357975</td>\n",
              "      <td>1.332683</td>\n",
              "      <td>5</td>\n",
              "      <td>1.0</td>\n",
              "    </tr>\n",
              "    <tr>\n",
              "      <th>2021-01-03</th>\n",
              "      <td>-1.112411</td>\n",
              "      <td>1.077338</td>\n",
              "      <td>0.279864</td>\n",
              "      <td>5</td>\n",
              "      <td>2.0</td>\n",
              "    </tr>\n",
              "    <tr>\n",
              "      <th>2021-01-04</th>\n",
              "      <td>0.160868</td>\n",
              "      <td>-0.817583</td>\n",
              "      <td>0.748370</td>\n",
              "      <td>5</td>\n",
              "      <td>3.0</td>\n",
              "    </tr>\n",
              "    <tr>\n",
              "      <th>2021-01-05</th>\n",
              "      <td>0.361861</td>\n",
              "      <td>-2.782568</td>\n",
              "      <td>-0.048924</td>\n",
              "      <td>5</td>\n",
              "      <td>4.0</td>\n",
              "    </tr>\n",
              "    <tr>\n",
              "      <th>2021-01-06</th>\n",
              "      <td>-1.737754</td>\n",
              "      <td>0.744623</td>\n",
              "      <td>-0.427489</td>\n",
              "      <td>5</td>\n",
              "      <td>5.0</td>\n",
              "    </tr>\n",
              "  </tbody>\n",
              "</table>\n",
              "</div>"
            ],
            "text/plain": [
              "                   A         B         C  D    F\n",
              "2021-01-01  0.000000  0.000000 -1.627366  5  NaN\n",
              "2021-01-02 -1.398138  1.357975  1.332683  5  1.0\n",
              "2021-01-03 -1.112411  1.077338  0.279864  5  2.0\n",
              "2021-01-04  0.160868 -0.817583  0.748370  5  3.0\n",
              "2021-01-05  0.361861 -2.782568 -0.048924  5  4.0\n",
              "2021-01-06 -1.737754  0.744623 -0.427489  5  5.0"
            ]
          },
          "execution_count": 59,
          "metadata": {
            "tags": []
          },
          "output_type": "execute_result"
        }
      ],
      "source": [
        "df"
      ]
    },
    {
      "cell_type": "markdown",
      "metadata": {
        "id": "M4aLHoMeP2mb"
      },
      "source": [
        "Definindo valores com expressões booleanas"
      ]
    },
    {
      "cell_type": "code",
      "execution_count": null,
      "metadata": {
        "id": "X40yCXI7P2me"
      },
      "outputs": [],
      "source": [
        "df2 = df.copy()"
      ]
    },
    {
      "cell_type": "code",
      "execution_count": null,
      "metadata": {
        "id": "qJcvFlm9P2mm"
      },
      "outputs": [],
      "source": [
        "df2[df2 > 0] = -df2"
      ]
    },
    {
      "cell_type": "code",
      "execution_count": null,
      "metadata": {
        "colab": {
          "base_uri": "https://localhost:8080/"
        },
        "id": "mbInkth4P2mv",
        "outputId": "b39a8196-8ade-4670-b526-2270c704557c"
      },
      "outputs": [
        {
          "data": {
            "text/html": [
              "<div>\n",
              "<style scoped>\n",
              "    .dataframe tbody tr th:only-of-type {\n",
              "        vertical-align: middle;\n",
              "    }\n",
              "\n",
              "    .dataframe tbody tr th {\n",
              "        vertical-align: top;\n",
              "    }\n",
              "\n",
              "    .dataframe thead th {\n",
              "        text-align: right;\n",
              "    }\n",
              "</style>\n",
              "<table border=\"1\" class=\"dataframe\">\n",
              "  <thead>\n",
              "    <tr style=\"text-align: right;\">\n",
              "      <th></th>\n",
              "      <th>A</th>\n",
              "      <th>B</th>\n",
              "      <th>C</th>\n",
              "      <th>D</th>\n",
              "      <th>F</th>\n",
              "    </tr>\n",
              "  </thead>\n",
              "  <tbody>\n",
              "    <tr>\n",
              "      <th>2021-01-01</th>\n",
              "      <td>0.000000</td>\n",
              "      <td>0.000000</td>\n",
              "      <td>-1.627366</td>\n",
              "      <td>-5</td>\n",
              "      <td>NaN</td>\n",
              "    </tr>\n",
              "    <tr>\n",
              "      <th>2021-01-02</th>\n",
              "      <td>-1.398138</td>\n",
              "      <td>-1.357975</td>\n",
              "      <td>-1.332683</td>\n",
              "      <td>-5</td>\n",
              "      <td>-1.0</td>\n",
              "    </tr>\n",
              "    <tr>\n",
              "      <th>2021-01-03</th>\n",
              "      <td>-1.112411</td>\n",
              "      <td>-1.077338</td>\n",
              "      <td>-0.279864</td>\n",
              "      <td>-5</td>\n",
              "      <td>-2.0</td>\n",
              "    </tr>\n",
              "    <tr>\n",
              "      <th>2021-01-04</th>\n",
              "      <td>-0.160868</td>\n",
              "      <td>-0.817583</td>\n",
              "      <td>-0.748370</td>\n",
              "      <td>-5</td>\n",
              "      <td>-3.0</td>\n",
              "    </tr>\n",
              "    <tr>\n",
              "      <th>2021-01-05</th>\n",
              "      <td>-0.361861</td>\n",
              "      <td>-2.782568</td>\n",
              "      <td>-0.048924</td>\n",
              "      <td>-5</td>\n",
              "      <td>-4.0</td>\n",
              "    </tr>\n",
              "    <tr>\n",
              "      <th>2021-01-06</th>\n",
              "      <td>-1.737754</td>\n",
              "      <td>-0.744623</td>\n",
              "      <td>-0.427489</td>\n",
              "      <td>-5</td>\n",
              "      <td>-5.0</td>\n",
              "    </tr>\n",
              "  </tbody>\n",
              "</table>\n",
              "</div>"
            ],
            "text/plain": [
              "                   A         B         C  D    F\n",
              "2021-01-01  0.000000  0.000000 -1.627366 -5  NaN\n",
              "2021-01-02 -1.398138 -1.357975 -1.332683 -5 -1.0\n",
              "2021-01-03 -1.112411 -1.077338 -0.279864 -5 -2.0\n",
              "2021-01-04 -0.160868 -0.817583 -0.748370 -5 -3.0\n",
              "2021-01-05 -0.361861 -2.782568 -0.048924 -5 -4.0\n",
              "2021-01-06 -1.737754 -0.744623 -0.427489 -5 -5.0"
            ]
          },
          "execution_count": 62,
          "metadata": {
            "tags": []
          },
          "output_type": "execute_result"
        }
      ],
      "source": [
        "df2"
      ]
    },
    {
      "cell_type": "code",
      "execution_count": null,
      "metadata": {
        "colab": {
          "base_uri": "https://localhost:8080/"
        },
        "id": "NDINHG88aYmx",
        "outputId": "89a6ca3d-bb22-4eed-ec7f-e8e871bb5cd1"
      },
      "outputs": [
        {
          "data": {
            "text/html": [
              "<div>\n",
              "<style scoped>\n",
              "    .dataframe tbody tr th:only-of-type {\n",
              "        vertical-align: middle;\n",
              "    }\n",
              "\n",
              "    .dataframe tbody tr th {\n",
              "        vertical-align: top;\n",
              "    }\n",
              "\n",
              "    .dataframe thead th {\n",
              "        text-align: right;\n",
              "    }\n",
              "</style>\n",
              "<table border=\"1\" class=\"dataframe\">\n",
              "  <thead>\n",
              "    <tr style=\"text-align: right;\">\n",
              "      <th></th>\n",
              "      <th>A</th>\n",
              "      <th>B</th>\n",
              "      <th>C</th>\n",
              "      <th>D</th>\n",
              "      <th>F</th>\n",
              "    </tr>\n",
              "  </thead>\n",
              "  <tbody>\n",
              "    <tr>\n",
              "      <th>2021-01-01</th>\n",
              "      <td>0.000000</td>\n",
              "      <td>0.000000</td>\n",
              "      <td>-1.627366</td>\n",
              "      <td>5</td>\n",
              "      <td>NaN</td>\n",
              "    </tr>\n",
              "    <tr>\n",
              "      <th>2021-01-02</th>\n",
              "      <td>-1.398138</td>\n",
              "      <td>1.357975</td>\n",
              "      <td>1.332683</td>\n",
              "      <td>5</td>\n",
              "      <td>1.0</td>\n",
              "    </tr>\n",
              "    <tr>\n",
              "      <th>2021-01-03</th>\n",
              "      <td>-1.112411</td>\n",
              "      <td>1.077338</td>\n",
              "      <td>0.279864</td>\n",
              "      <td>5</td>\n",
              "      <td>2.0</td>\n",
              "    </tr>\n",
              "    <tr>\n",
              "      <th>2021-01-04</th>\n",
              "      <td>0.160868</td>\n",
              "      <td>-0.817583</td>\n",
              "      <td>0.748370</td>\n",
              "      <td>5</td>\n",
              "      <td>3.0</td>\n",
              "    </tr>\n",
              "    <tr>\n",
              "      <th>2021-01-05</th>\n",
              "      <td>0.361861</td>\n",
              "      <td>-2.782568</td>\n",
              "      <td>-0.048924</td>\n",
              "      <td>5</td>\n",
              "      <td>4.0</td>\n",
              "    </tr>\n",
              "    <tr>\n",
              "      <th>2021-01-06</th>\n",
              "      <td>-1.737754</td>\n",
              "      <td>0.744623</td>\n",
              "      <td>-0.427489</td>\n",
              "      <td>5</td>\n",
              "      <td>5.0</td>\n",
              "    </tr>\n",
              "  </tbody>\n",
              "</table>\n",
              "</div>"
            ],
            "text/plain": [
              "                   A         B         C  D    F\n",
              "2021-01-01  0.000000  0.000000 -1.627366  5  NaN\n",
              "2021-01-02 -1.398138  1.357975  1.332683  5  1.0\n",
              "2021-01-03 -1.112411  1.077338  0.279864  5  2.0\n",
              "2021-01-04  0.160868 -0.817583  0.748370  5  3.0\n",
              "2021-01-05  0.361861 -2.782568 -0.048924  5  4.0\n",
              "2021-01-06 -1.737754  0.744623 -0.427489  5  5.0"
            ]
          },
          "execution_count": 63,
          "metadata": {
            "tags": []
          },
          "output_type": "execute_result"
        }
      ],
      "source": [
        "df.iat[0,0] = 0\n",
        "\n",
        "df"
      ]
    },
    {
      "cell_type": "code",
      "execution_count": null,
      "metadata": {
        "colab": {
          "base_uri": "https://localhost:8080/"
        },
        "id": "-PU8YuU4a1YM",
        "outputId": "56e374c0-e941-4a21-8dc0-7b82bfcb1120"
      },
      "outputs": [
        {
          "data": {
            "text/html": [
              "<div>\n",
              "<style scoped>\n",
              "    .dataframe tbody tr th:only-of-type {\n",
              "        vertical-align: middle;\n",
              "    }\n",
              "\n",
              "    .dataframe tbody tr th {\n",
              "        vertical-align: top;\n",
              "    }\n",
              "\n",
              "    .dataframe thead th {\n",
              "        text-align: right;\n",
              "    }\n",
              "</style>\n",
              "<table border=\"1\" class=\"dataframe\">\n",
              "  <thead>\n",
              "    <tr style=\"text-align: right;\">\n",
              "      <th></th>\n",
              "      <th>A</th>\n",
              "      <th>B</th>\n",
              "      <th>C</th>\n",
              "      <th>D</th>\n",
              "      <th>F</th>\n",
              "    </tr>\n",
              "  </thead>\n",
              "  <tbody>\n",
              "    <tr>\n",
              "      <th>2021-01-01</th>\n",
              "      <td>0.000000</td>\n",
              "      <td>0.000000</td>\n",
              "      <td>-1.627366</td>\n",
              "      <td>5</td>\n",
              "      <td>NaN</td>\n",
              "    </tr>\n",
              "    <tr>\n",
              "      <th>2021-01-02</th>\n",
              "      <td>-1.398138</td>\n",
              "      <td>1.357975</td>\n",
              "      <td>1.332683</td>\n",
              "      <td>5</td>\n",
              "      <td>1.0</td>\n",
              "    </tr>\n",
              "    <tr>\n",
              "      <th>2021-01-03</th>\n",
              "      <td>-1.112411</td>\n",
              "      <td>1.077338</td>\n",
              "      <td>0.279864</td>\n",
              "      <td>5</td>\n",
              "      <td>2.0</td>\n",
              "    </tr>\n",
              "    <tr>\n",
              "      <th>2021-01-04</th>\n",
              "      <td>0.160868</td>\n",
              "      <td>-0.817583</td>\n",
              "      <td>0.748370</td>\n",
              "      <td>5</td>\n",
              "      <td>3.0</td>\n",
              "    </tr>\n",
              "    <tr>\n",
              "      <th>2021-01-05</th>\n",
              "      <td>0.361861</td>\n",
              "      <td>-2.782568</td>\n",
              "      <td>-0.048924</td>\n",
              "      <td>5</td>\n",
              "      <td>4.0</td>\n",
              "    </tr>\n",
              "    <tr>\n",
              "      <th>2021-01-06</th>\n",
              "      <td>-1.737754</td>\n",
              "      <td>0.744623</td>\n",
              "      <td>-0.427489</td>\n",
              "      <td>5</td>\n",
              "      <td>5.0</td>\n",
              "    </tr>\n",
              "  </tbody>\n",
              "</table>\n",
              "</div>"
            ],
            "text/plain": [
              "                   A         B         C  D    F\n",
              "2021-01-01  0.000000  0.000000 -1.627366  5  NaN\n",
              "2021-01-02 -1.398138  1.357975  1.332683  5  1.0\n",
              "2021-01-03 -1.112411  1.077338  0.279864  5  2.0\n",
              "2021-01-04  0.160868 -0.817583  0.748370  5  3.0\n",
              "2021-01-05  0.361861 -2.782568 -0.048924  5  4.0\n",
              "2021-01-06 -1.737754  0.744623 -0.427489  5  5.0"
            ]
          },
          "execution_count": 64,
          "metadata": {
            "tags": []
          },
          "output_type": "execute_result"
        }
      ],
      "source": [
        "df[df < 0].A = -df[df < 0].A\n",
        "df"
      ]
    },
    {
      "cell_type": "markdown",
      "metadata": {
        "id": "vvcoq7YyP2nI"
      },
      "source": [
        "## Dados ausentes\n",
        "O pandas usa principalmente o valor np.nan para representar dados ausentes. Por padrão, ele não é incluído nos cálculos. "
      ]
    },
    {
      "cell_type": "markdown",
      "metadata": {
        "collapsed": true,
        "id": "Lf_gZf4cP2nL"
      },
      "source": [
        "A reindexação permite que você altere / adicione / exclua o índice em um eixo especificado. Isso retorna uma cópia dos dados."
      ]
    },
    {
      "cell_type": "code",
      "execution_count": null,
      "metadata": {
        "id": "kBIVGun7P2nO"
      },
      "outputs": [],
      "source": [
        "df1 = df.reindex(index=dates[0:4], columns=list(df.columns) + ['E'])"
      ]
    },
    {
      "cell_type": "code",
      "execution_count": null,
      "metadata": {
        "id": "_Ywl4IWEP2na"
      },
      "outputs": [],
      "source": [
        "df1.loc[dates[0]:dates[1],'E'] = 1"
      ]
    },
    {
      "cell_type": "code",
      "execution_count": null,
      "metadata": {
        "colab": {
          "background_save": true,
          "base_uri": "https://localhost:8080/"
        },
        "id": "qV3NIjiOP2ni",
        "outputId": "3aaf5dbd-0872-41b0-c3da-b9e99e8ff1e2"
      },
      "outputs": [
        {
          "data": {
            "text/html": [
              "<div>\n",
              "<style scoped>\n",
              "    .dataframe tbody tr th:only-of-type {\n",
              "        vertical-align: middle;\n",
              "    }\n",
              "\n",
              "    .dataframe tbody tr th {\n",
              "        vertical-align: top;\n",
              "    }\n",
              "\n",
              "    .dataframe thead th {\n",
              "        text-align: right;\n",
              "    }\n",
              "</style>\n",
              "<table border=\"1\" class=\"dataframe\">\n",
              "  <thead>\n",
              "    <tr style=\"text-align: right;\">\n",
              "      <th></th>\n",
              "      <th>A</th>\n",
              "      <th>B</th>\n",
              "      <th>C</th>\n",
              "      <th>D</th>\n",
              "      <th>F</th>\n",
              "      <th>E</th>\n",
              "    </tr>\n",
              "  </thead>\n",
              "  <tbody>\n",
              "    <tr>\n",
              "      <th>2021-01-01</th>\n",
              "      <td>0.322714</td>\n",
              "      <td>-0.572166</td>\n",
              "      <td>0.461524</td>\n",
              "      <td>5</td>\n",
              "      <td>NaN</td>\n",
              "      <td>1.0</td>\n",
              "    </tr>\n",
              "    <tr>\n",
              "      <th>2021-01-02</th>\n",
              "      <td>-0.173443</td>\n",
              "      <td>-0.677889</td>\n",
              "      <td>0.842331</td>\n",
              "      <td>5</td>\n",
              "      <td>1.0</td>\n",
              "      <td>1.0</td>\n",
              "    </tr>\n",
              "    <tr>\n",
              "      <th>2021-01-03</th>\n",
              "      <td>1.040966</td>\n",
              "      <td>-0.042532</td>\n",
              "      <td>1.886716</td>\n",
              "      <td>5</td>\n",
              "      <td>2.0</td>\n",
              "      <td>NaN</td>\n",
              "    </tr>\n",
              "    <tr>\n",
              "      <th>2021-01-04</th>\n",
              "      <td>-1.250556</td>\n",
              "      <td>-0.188520</td>\n",
              "      <td>-0.640841</td>\n",
              "      <td>5</td>\n",
              "      <td>3.0</td>\n",
              "      <td>NaN</td>\n",
              "    </tr>\n",
              "  </tbody>\n",
              "</table>\n",
              "</div>"
            ],
            "text/plain": [
              "                   A         B         C  D    F    E\n",
              "2021-01-01  0.322714 -0.572166  0.461524  5  NaN  1.0\n",
              "2021-01-02 -0.173443 -0.677889  0.842331  5  1.0  1.0\n",
              "2021-01-03  1.040966 -0.042532  1.886716  5  2.0  NaN\n",
              "2021-01-04 -1.250556 -0.188520 -0.640841  5  3.0  NaN"
            ]
          },
          "execution_count": null,
          "metadata": {},
          "output_type": "execute_result"
        }
      ],
      "source": [
        "df1"
      ]
    },
    {
      "cell_type": "markdown",
      "metadata": {
        "id": "qLxJt8uZP2nt"
      },
      "source": [
        "Deletar qualquer linha que possua dados ausentes."
      ]
    },
    {
      "cell_type": "code",
      "execution_count": null,
      "metadata": {
        "colab": {
          "base_uri": "https://localhost:8080/"
        },
        "id": "CWRgfnipP2nz",
        "outputId": "cfe80f02-61ef-476f-a497-fee6b7bab143"
      },
      "outputs": [
        {
          "data": {
            "text/html": [
              "<div>\n",
              "<style scoped>\n",
              "    .dataframe tbody tr th:only-of-type {\n",
              "        vertical-align: middle;\n",
              "    }\n",
              "\n",
              "    .dataframe tbody tr th {\n",
              "        vertical-align: top;\n",
              "    }\n",
              "\n",
              "    .dataframe thead th {\n",
              "        text-align: right;\n",
              "    }\n",
              "</style>\n",
              "<table border=\"1\" class=\"dataframe\">\n",
              "  <thead>\n",
              "    <tr style=\"text-align: right;\">\n",
              "      <th></th>\n",
              "      <th>A</th>\n",
              "      <th>B</th>\n",
              "      <th>C</th>\n",
              "      <th>D</th>\n",
              "      <th>F</th>\n",
              "      <th>E</th>\n",
              "    </tr>\n",
              "  </thead>\n",
              "  <tbody>\n",
              "    <tr>\n",
              "      <th>2021-01-02</th>\n",
              "      <td>-1.398138</td>\n",
              "      <td>1.357975</td>\n",
              "      <td>1.332683</td>\n",
              "      <td>5</td>\n",
              "      <td>1.0</td>\n",
              "      <td>1.0</td>\n",
              "    </tr>\n",
              "  </tbody>\n",
              "</table>\n",
              "</div>"
            ],
            "text/plain": [
              "                   A         B         C  D    F    E\n",
              "2021-01-02 -1.398138  1.357975  1.332683  5  1.0  1.0"
            ]
          },
          "execution_count": 68,
          "metadata": {
            "tags": []
          },
          "output_type": "execute_result"
        }
      ],
      "source": [
        "df1.dropna(how='any')"
      ]
    },
    {
      "cell_type": "code",
      "execution_count": null,
      "metadata": {
        "colab": {
          "base_uri": "https://localhost:8080/"
        },
        "id": "jQOK65u86rbO",
        "outputId": "02647626-922a-4d03-962c-d5fed2b51977"
      },
      "outputs": [
        {
          "data": {
            "text/html": [
              "<div>\n",
              "<style scoped>\n",
              "    .dataframe tbody tr th:only-of-type {\n",
              "        vertical-align: middle;\n",
              "    }\n",
              "\n",
              "    .dataframe tbody tr th {\n",
              "        vertical-align: top;\n",
              "    }\n",
              "\n",
              "    .dataframe thead th {\n",
              "        text-align: right;\n",
              "    }\n",
              "</style>\n",
              "<table border=\"1\" class=\"dataframe\">\n",
              "  <thead>\n",
              "    <tr style=\"text-align: right;\">\n",
              "      <th></th>\n",
              "      <th>A</th>\n",
              "      <th>B</th>\n",
              "      <th>C</th>\n",
              "      <th>D</th>\n",
              "      <th>F</th>\n",
              "      <th>E</th>\n",
              "    </tr>\n",
              "  </thead>\n",
              "  <tbody>\n",
              "    <tr>\n",
              "      <th>2021-01-01</th>\n",
              "      <td>0.000000</td>\n",
              "      <td>0.000000</td>\n",
              "      <td>-1.627366</td>\n",
              "      <td>5</td>\n",
              "      <td>NaN</td>\n",
              "      <td>1.0</td>\n",
              "    </tr>\n",
              "    <tr>\n",
              "      <th>2021-01-02</th>\n",
              "      <td>-1.398138</td>\n",
              "      <td>1.357975</td>\n",
              "      <td>1.332683</td>\n",
              "      <td>5</td>\n",
              "      <td>1.0</td>\n",
              "      <td>1.0</td>\n",
              "    </tr>\n",
              "    <tr>\n",
              "      <th>2021-01-03</th>\n",
              "      <td>-1.112411</td>\n",
              "      <td>1.077338</td>\n",
              "      <td>0.279864</td>\n",
              "      <td>5</td>\n",
              "      <td>2.0</td>\n",
              "      <td>NaN</td>\n",
              "    </tr>\n",
              "    <tr>\n",
              "      <th>2021-01-04</th>\n",
              "      <td>0.160868</td>\n",
              "      <td>-0.817583</td>\n",
              "      <td>0.748370</td>\n",
              "      <td>5</td>\n",
              "      <td>3.0</td>\n",
              "      <td>NaN</td>\n",
              "    </tr>\n",
              "  </tbody>\n",
              "</table>\n",
              "</div>"
            ],
            "text/plain": [
              "                   A         B         C  D    F    E\n",
              "2021-01-01  0.000000  0.000000 -1.627366  5  NaN  1.0\n",
              "2021-01-02 -1.398138  1.357975  1.332683  5  1.0  1.0\n",
              "2021-01-03 -1.112411  1.077338  0.279864  5  2.0  NaN\n",
              "2021-01-04  0.160868 -0.817583  0.748370  5  3.0  NaN"
            ]
          },
          "execution_count": 69,
          "metadata": {
            "tags": []
          },
          "output_type": "execute_result"
        }
      ],
      "source": [
        "df1"
      ]
    },
    {
      "cell_type": "markdown",
      "metadata": {
        "id": "EdXSfs8GP2oD"
      },
      "source": [
        "Preenchendo dados ausentes"
      ]
    },
    {
      "cell_type": "code",
      "execution_count": null,
      "metadata": {
        "colab": {
          "base_uri": "https://localhost:8080/"
        },
        "id": "Heij86YD7Qjb",
        "outputId": "2c8a446b-5b8c-4e49-f0cb-d1ed69ec4de5"
      },
      "outputs": [
        {
          "data": {
            "text/html": [
              "<div>\n",
              "<style scoped>\n",
              "    .dataframe tbody tr th:only-of-type {\n",
              "        vertical-align: middle;\n",
              "    }\n",
              "\n",
              "    .dataframe tbody tr th {\n",
              "        vertical-align: top;\n",
              "    }\n",
              "\n",
              "    .dataframe thead th {\n",
              "        text-align: right;\n",
              "    }\n",
              "</style>\n",
              "<table border=\"1\" class=\"dataframe\">\n",
              "  <thead>\n",
              "    <tr style=\"text-align: right;\">\n",
              "      <th></th>\n",
              "      <th>A</th>\n",
              "      <th>B</th>\n",
              "      <th>C</th>\n",
              "      <th>D</th>\n",
              "      <th>F</th>\n",
              "      <th>E</th>\n",
              "    </tr>\n",
              "  </thead>\n",
              "  <tbody>\n",
              "    <tr>\n",
              "      <th>2021-01-01</th>\n",
              "      <td>0.000000</td>\n",
              "      <td>0.000000</td>\n",
              "      <td>-1.627366</td>\n",
              "      <td>5</td>\n",
              "      <td>5.0</td>\n",
              "      <td>1.0</td>\n",
              "    </tr>\n",
              "    <tr>\n",
              "      <th>2021-01-02</th>\n",
              "      <td>-1.398138</td>\n",
              "      <td>1.357975</td>\n",
              "      <td>1.332683</td>\n",
              "      <td>5</td>\n",
              "      <td>1.0</td>\n",
              "      <td>1.0</td>\n",
              "    </tr>\n",
              "    <tr>\n",
              "      <th>2021-01-03</th>\n",
              "      <td>-1.112411</td>\n",
              "      <td>1.077338</td>\n",
              "      <td>0.279864</td>\n",
              "      <td>5</td>\n",
              "      <td>2.0</td>\n",
              "      <td>5.0</td>\n",
              "    </tr>\n",
              "    <tr>\n",
              "      <th>2021-01-04</th>\n",
              "      <td>0.160868</td>\n",
              "      <td>-0.817583</td>\n",
              "      <td>0.748370</td>\n",
              "      <td>5</td>\n",
              "      <td>3.0</td>\n",
              "      <td>5.0</td>\n",
              "    </tr>\n",
              "  </tbody>\n",
              "</table>\n",
              "</div>"
            ],
            "text/plain": [
              "                   A         B         C  D    F    E\n",
              "2021-01-01  0.000000  0.000000 -1.627366  5  5.0  1.0\n",
              "2021-01-02 -1.398138  1.357975  1.332683  5  1.0  1.0\n",
              "2021-01-03 -1.112411  1.077338  0.279864  5  2.0  5.0\n",
              "2021-01-04  0.160868 -0.817583  0.748370  5  3.0  5.0"
            ]
          },
          "execution_count": 70,
          "metadata": {
            "tags": []
          },
          "output_type": "execute_result"
        }
      ],
      "source": [
        "df1.fillna(value=5)"
      ]
    },
    {
      "cell_type": "code",
      "execution_count": null,
      "metadata": {
        "colab": {
          "base_uri": "https://localhost:8080/"
        },
        "id": "_ZVhJgYcP2oG",
        "outputId": "0f8f3de1-4036-4a67-b888-802a279a525a"
      },
      "outputs": [
        {
          "data": {
            "text/html": [
              "<div>\n",
              "<style scoped>\n",
              "    .dataframe tbody tr th:only-of-type {\n",
              "        vertical-align: middle;\n",
              "    }\n",
              "\n",
              "    .dataframe tbody tr th {\n",
              "        vertical-align: top;\n",
              "    }\n",
              "\n",
              "    .dataframe thead th {\n",
              "        text-align: right;\n",
              "    }\n",
              "</style>\n",
              "<table border=\"1\" class=\"dataframe\">\n",
              "  <thead>\n",
              "    <tr style=\"text-align: right;\">\n",
              "      <th></th>\n",
              "      <th>A</th>\n",
              "      <th>B</th>\n",
              "      <th>C</th>\n",
              "      <th>D</th>\n",
              "      <th>F</th>\n",
              "      <th>E</th>\n",
              "    </tr>\n",
              "  </thead>\n",
              "  <tbody>\n",
              "    <tr>\n",
              "      <th>2021-01-01</th>\n",
              "      <td>0.000000</td>\n",
              "      <td>0.000000</td>\n",
              "      <td>-1.627366</td>\n",
              "      <td>5</td>\n",
              "      <td>2.0</td>\n",
              "      <td>1.0</td>\n",
              "    </tr>\n",
              "    <tr>\n",
              "      <th>2021-01-02</th>\n",
              "      <td>-1.398138</td>\n",
              "      <td>1.357975</td>\n",
              "      <td>1.332683</td>\n",
              "      <td>5</td>\n",
              "      <td>1.0</td>\n",
              "      <td>1.0</td>\n",
              "    </tr>\n",
              "    <tr>\n",
              "      <th>2021-01-03</th>\n",
              "      <td>-1.112411</td>\n",
              "      <td>1.077338</td>\n",
              "      <td>0.279864</td>\n",
              "      <td>5</td>\n",
              "      <td>2.0</td>\n",
              "      <td>1.0</td>\n",
              "    </tr>\n",
              "    <tr>\n",
              "      <th>2021-01-04</th>\n",
              "      <td>0.160868</td>\n",
              "      <td>-0.817583</td>\n",
              "      <td>0.748370</td>\n",
              "      <td>5</td>\n",
              "      <td>3.0</td>\n",
              "      <td>1.0</td>\n",
              "    </tr>\n",
              "  </tbody>\n",
              "</table>\n",
              "</div>"
            ],
            "text/plain": [
              "                   A         B         C  D    F    E\n",
              "2021-01-01  0.000000  0.000000 -1.627366  5  2.0  1.0\n",
              "2021-01-02 -1.398138  1.357975  1.332683  5  1.0  1.0\n",
              "2021-01-03 -1.112411  1.077338  0.279864  5  2.0  1.0\n",
              "2021-01-04  0.160868 -0.817583  0.748370  5  3.0  1.0"
            ]
          },
          "execution_count": 71,
          "metadata": {
            "tags": []
          },
          "output_type": "execute_result"
        }
      ],
      "source": [
        "df1.fillna(df1.mean())\n"
      ]
    },
    {
      "cell_type": "markdown",
      "metadata": {
        "id": "DpUEkGT4P2oQ"
      },
      "source": [
        "Contabilizando o número de dados ausentes"
      ]
    },
    {
      "cell_type": "code",
      "execution_count": null,
      "metadata": {
        "colab": {
          "base_uri": "https://localhost:8080/"
        },
        "id": "S_vE-dzkP2oS",
        "outputId": "3253cc5f-c1d1-43cf-d3f4-0d20fdeba01c"
      },
      "outputs": [
        {
          "data": {
            "text/plain": [
              "A    0\n",
              "B    0\n",
              "C    0\n",
              "D    0\n",
              "F    1\n",
              "E    2\n",
              "dtype: int64"
            ]
          },
          "execution_count": 72,
          "metadata": {
            "tags": []
          },
          "output_type": "execute_result"
        }
      ],
      "source": [
        "df1.isna().sum()"
      ]
    },
    {
      "cell_type": "markdown",
      "metadata": {
        "id": "DiqhBt9X5sPF"
      },
      "source": [
        "### Veja mais sobre dados ausentes no pandas [aqui](https://pandas.pydata.org/pandas-docs/stable/user_guide/missing_data.html)"
      ]
    },
    {
      "cell_type": "markdown",
      "metadata": {
        "id": "c86KO-O5P2oZ"
      },
      "source": [
        "## Operações"
      ]
    },
    {
      "cell_type": "markdown",
      "metadata": {
        "id": "q4cAsAzHP2oc"
      },
      "source": [
        "### Estatísticas\n",
        "\n",
        "As operações em geral excluem dados ausentes."
      ]
    },
    {
      "cell_type": "markdown",
      "metadata": {
        "id": "4kGNvKE3P2of"
      },
      "source": [
        "Executando uma estatística descritiva"
      ]
    },
    {
      "cell_type": "code",
      "execution_count": null,
      "metadata": {
        "colab": {
          "base_uri": "https://localhost:8080/"
        },
        "id": "FbpNynPVP2oi",
        "outputId": "63e7f4d0-2f9a-4c16-e2b4-b505695897f0"
      },
      "outputs": [
        {
          "data": {
            "text/plain": [
              "A   -0.620929\n",
              "B   -0.070036\n",
              "C    0.042856\n",
              "D    5.000000\n",
              "F    3.000000\n",
              "dtype: float64"
            ]
          },
          "execution_count": 73,
          "metadata": {
            "tags": []
          },
          "output_type": "execute_result"
        }
      ],
      "source": [
        "df.mean()"
      ]
    },
    {
      "cell_type": "markdown",
      "metadata": {
        "id": "kT-dj3OJP2ou"
      },
      "source": [
        "Mesma operação no outro eixo"
      ]
    },
    {
      "cell_type": "code",
      "execution_count": null,
      "metadata": {
        "colab": {
          "base_uri": "https://localhost:8080/"
        },
        "id": "mSXcd38RP2ox",
        "outputId": "783b9e47-2d57-42ed-a43b-eb49175c21dc"
      },
      "outputs": [
        {
          "data": {
            "text/plain": [
              "A   -0.620929\n",
              "B   -0.070036\n",
              "C    0.042856\n",
              "D    5.000000\n",
              "F    3.000000\n",
              "dtype: float64"
            ]
          },
          "execution_count": 74,
          "metadata": {
            "tags": []
          },
          "output_type": "execute_result"
        }
      ],
      "source": [
        "df.mean(axis=0)"
      ]
    },
    {
      "cell_type": "markdown",
      "metadata": {
        "id": "ZVLpjrA3P2o7"
      },
      "source": [
        "Operar com objetos que possuem dimensionalidade diferente e precisam de alinhamento. Além disso, o pandas transmite automaticamente ao longo da dimensão especificada."
      ]
    },
    {
      "cell_type": "code",
      "execution_count": null,
      "metadata": {
        "colab": {
          "base_uri": "https://localhost:8080/"
        },
        "id": "vk6QrB3dP2pA",
        "outputId": "cd9b060a-17c6-412a-fce9-8f3d0b09d92f"
      },
      "outputs": [
        {
          "data": {
            "text/plain": [
              "2021-01-01    NaN\n",
              "2021-01-02    NaN\n",
              "2021-01-03    1.0\n",
              "2021-01-04    3.0\n",
              "2021-01-05    5.0\n",
              "2021-01-06    NaN\n",
              "Freq: D, dtype: float64"
            ]
          },
          "execution_count": 75,
          "metadata": {
            "tags": []
          },
          "output_type": "execute_result"
        }
      ],
      "source": [
        "s = pd.Series([1,3,5,np.nan,6,8], index=dates).shift(2)\n",
        "s"
      ]
    },
    {
      "cell_type": "code",
      "execution_count": null,
      "metadata": {
        "colab": {
          "base_uri": "https://localhost:8080/",
          "height": 225
        },
        "id": "56eclDPFP2pP",
        "outputId": "e4e2bc9e-add8-4e6e-900f-98893b9b0e7c"
      },
      "outputs": [
        {
          "data": {
            "text/html": [
              "<div>\n",
              "<style scoped>\n",
              "    .dataframe tbody tr th:only-of-type {\n",
              "        vertical-align: middle;\n",
              "    }\n",
              "\n",
              "    .dataframe tbody tr th {\n",
              "        vertical-align: top;\n",
              "    }\n",
              "\n",
              "    .dataframe thead th {\n",
              "        text-align: right;\n",
              "    }\n",
              "</style>\n",
              "<table border=\"1\" class=\"dataframe\">\n",
              "  <thead>\n",
              "    <tr style=\"text-align: right;\">\n",
              "      <th></th>\n",
              "      <th>A</th>\n",
              "      <th>B</th>\n",
              "      <th>C</th>\n",
              "      <th>D</th>\n",
              "      <th>F</th>\n",
              "    </tr>\n",
              "  </thead>\n",
              "  <tbody>\n",
              "    <tr>\n",
              "      <th>2021-01-01</th>\n",
              "      <td>NaN</td>\n",
              "      <td>NaN</td>\n",
              "      <td>NaN</td>\n",
              "      <td>NaN</td>\n",
              "      <td>NaN</td>\n",
              "    </tr>\n",
              "    <tr>\n",
              "      <th>2021-01-02</th>\n",
              "      <td>NaN</td>\n",
              "      <td>NaN</td>\n",
              "      <td>NaN</td>\n",
              "      <td>NaN</td>\n",
              "      <td>NaN</td>\n",
              "    </tr>\n",
              "    <tr>\n",
              "      <th>2021-01-03</th>\n",
              "      <td>-2.112411</td>\n",
              "      <td>0.077338</td>\n",
              "      <td>-0.720136</td>\n",
              "      <td>4.0</td>\n",
              "      <td>1.0</td>\n",
              "    </tr>\n",
              "    <tr>\n",
              "      <th>2021-01-04</th>\n",
              "      <td>-2.839132</td>\n",
              "      <td>-3.817583</td>\n",
              "      <td>-2.251630</td>\n",
              "      <td>2.0</td>\n",
              "      <td>0.0</td>\n",
              "    </tr>\n",
              "    <tr>\n",
              "      <th>2021-01-05</th>\n",
              "      <td>-4.638139</td>\n",
              "      <td>-7.782568</td>\n",
              "      <td>-5.048924</td>\n",
              "      <td>0.0</td>\n",
              "      <td>-1.0</td>\n",
              "    </tr>\n",
              "    <tr>\n",
              "      <th>2021-01-06</th>\n",
              "      <td>NaN</td>\n",
              "      <td>NaN</td>\n",
              "      <td>NaN</td>\n",
              "      <td>NaN</td>\n",
              "      <td>NaN</td>\n",
              "    </tr>\n",
              "  </tbody>\n",
              "</table>\n",
              "</div>"
            ],
            "text/plain": [
              "                   A         B         C    D    F\n",
              "2021-01-01       NaN       NaN       NaN  NaN  NaN\n",
              "2021-01-02       NaN       NaN       NaN  NaN  NaN\n",
              "2021-01-03 -2.112411  0.077338 -0.720136  4.0  1.0\n",
              "2021-01-04 -2.839132 -3.817583 -2.251630  2.0  0.0\n",
              "2021-01-05 -4.638139 -7.782568 -5.048924  0.0 -1.0\n",
              "2021-01-06       NaN       NaN       NaN  NaN  NaN"
            ]
          },
          "execution_count": 76,
          "metadata": {
            "tags": []
          },
          "output_type": "execute_result"
        }
      ],
      "source": [
        "df.sub(s, axis='index')"
      ]
    },
    {
      "cell_type": "markdown",
      "metadata": {
        "id": "O2GfLpNBP2pd"
      },
      "source": [
        "### Apply"
      ]
    },
    {
      "cell_type": "markdown",
      "metadata": {
        "id": "JCoxpWoBP2ph"
      },
      "source": [
        "Aplicando funções aos dados"
      ]
    },
    {
      "cell_type": "code",
      "execution_count": null,
      "metadata": {
        "colab": {
          "base_uri": "https://localhost:8080/",
          "height": 225
        },
        "id": "XSWZb9dgP2pj",
        "outputId": "b1e2a345-674c-4b1a-fa89-40544968a397"
      },
      "outputs": [
        {
          "data": {
            "text/html": [
              "<div>\n",
              "<style scoped>\n",
              "    .dataframe tbody tr th:only-of-type {\n",
              "        vertical-align: middle;\n",
              "    }\n",
              "\n",
              "    .dataframe tbody tr th {\n",
              "        vertical-align: top;\n",
              "    }\n",
              "\n",
              "    .dataframe thead th {\n",
              "        text-align: right;\n",
              "    }\n",
              "</style>\n",
              "<table border=\"1\" class=\"dataframe\">\n",
              "  <thead>\n",
              "    <tr style=\"text-align: right;\">\n",
              "      <th></th>\n",
              "      <th>A</th>\n",
              "      <th>B</th>\n",
              "      <th>C</th>\n",
              "      <th>D</th>\n",
              "      <th>F</th>\n",
              "    </tr>\n",
              "  </thead>\n",
              "  <tbody>\n",
              "    <tr>\n",
              "      <th>2021-01-01</th>\n",
              "      <td>0.000000</td>\n",
              "      <td>0.000000</td>\n",
              "      <td>-1.627366</td>\n",
              "      <td>5</td>\n",
              "      <td>NaN</td>\n",
              "    </tr>\n",
              "    <tr>\n",
              "      <th>2021-01-02</th>\n",
              "      <td>-1.398138</td>\n",
              "      <td>1.357975</td>\n",
              "      <td>-0.294684</td>\n",
              "      <td>10</td>\n",
              "      <td>1.0</td>\n",
              "    </tr>\n",
              "    <tr>\n",
              "      <th>2021-01-03</th>\n",
              "      <td>-2.510549</td>\n",
              "      <td>2.435312</td>\n",
              "      <td>-0.014819</td>\n",
              "      <td>15</td>\n",
              "      <td>3.0</td>\n",
              "    </tr>\n",
              "    <tr>\n",
              "      <th>2021-01-04</th>\n",
              "      <td>-2.349682</td>\n",
              "      <td>1.617729</td>\n",
              "      <td>0.733550</td>\n",
              "      <td>20</td>\n",
              "      <td>6.0</td>\n",
              "    </tr>\n",
              "    <tr>\n",
              "      <th>2021-01-05</th>\n",
              "      <td>-1.987821</td>\n",
              "      <td>-1.164839</td>\n",
              "      <td>0.684626</td>\n",
              "      <td>25</td>\n",
              "      <td>10.0</td>\n",
              "    </tr>\n",
              "    <tr>\n",
              "      <th>2021-01-06</th>\n",
              "      <td>-3.725575</td>\n",
              "      <td>-0.420216</td>\n",
              "      <td>0.257137</td>\n",
              "      <td>30</td>\n",
              "      <td>15.0</td>\n",
              "    </tr>\n",
              "  </tbody>\n",
              "</table>\n",
              "</div>"
            ],
            "text/plain": [
              "                   A         B         C   D     F\n",
              "2021-01-01  0.000000  0.000000 -1.627366   5   NaN\n",
              "2021-01-02 -1.398138  1.357975 -0.294684  10   1.0\n",
              "2021-01-03 -2.510549  2.435312 -0.014819  15   3.0\n",
              "2021-01-04 -2.349682  1.617729  0.733550  20   6.0\n",
              "2021-01-05 -1.987821 -1.164839  0.684626  25  10.0\n",
              "2021-01-06 -3.725575 -0.420216  0.257137  30  15.0"
            ]
          },
          "execution_count": 77,
          "metadata": {
            "tags": []
          },
          "output_type": "execute_result"
        }
      ],
      "source": [
        "df.apply(np.cumsum)"
      ]
    },
    {
      "cell_type": "code",
      "execution_count": null,
      "metadata": {
        "colab": {
          "base_uri": "https://localhost:8080/",
          "height": 225
        },
        "id": "JsFTMvnOP2pp",
        "outputId": "e7182bb2-7cbd-4c3a-af79-1b3e8849e99f"
      },
      "outputs": [
        {
          "data": {
            "text/html": [
              "<div>\n",
              "<style scoped>\n",
              "    .dataframe tbody tr th:only-of-type {\n",
              "        vertical-align: middle;\n",
              "    }\n",
              "\n",
              "    .dataframe tbody tr th {\n",
              "        vertical-align: top;\n",
              "    }\n",
              "\n",
              "    .dataframe thead th {\n",
              "        text-align: right;\n",
              "    }\n",
              "</style>\n",
              "<table border=\"1\" class=\"dataframe\">\n",
              "  <thead>\n",
              "    <tr style=\"text-align: right;\">\n",
              "      <th></th>\n",
              "      <th>A</th>\n",
              "      <th>B</th>\n",
              "      <th>C</th>\n",
              "      <th>D</th>\n",
              "      <th>F</th>\n",
              "    </tr>\n",
              "  </thead>\n",
              "  <tbody>\n",
              "    <tr>\n",
              "      <th>2021-01-01</th>\n",
              "      <td>10.000000</td>\n",
              "      <td>10.000000</td>\n",
              "      <td>8.372634</td>\n",
              "      <td>15</td>\n",
              "      <td>NaN</td>\n",
              "    </tr>\n",
              "    <tr>\n",
              "      <th>2021-01-02</th>\n",
              "      <td>8.601862</td>\n",
              "      <td>11.357975</td>\n",
              "      <td>11.332683</td>\n",
              "      <td>15</td>\n",
              "      <td>11.0</td>\n",
              "    </tr>\n",
              "    <tr>\n",
              "      <th>2021-01-03</th>\n",
              "      <td>8.887589</td>\n",
              "      <td>11.077338</td>\n",
              "      <td>10.279864</td>\n",
              "      <td>15</td>\n",
              "      <td>12.0</td>\n",
              "    </tr>\n",
              "    <tr>\n",
              "      <th>2021-01-04</th>\n",
              "      <td>10.160868</td>\n",
              "      <td>9.182417</td>\n",
              "      <td>10.748370</td>\n",
              "      <td>15</td>\n",
              "      <td>13.0</td>\n",
              "    </tr>\n",
              "    <tr>\n",
              "      <th>2021-01-05</th>\n",
              "      <td>10.361861</td>\n",
              "      <td>7.217432</td>\n",
              "      <td>9.951076</td>\n",
              "      <td>15</td>\n",
              "      <td>14.0</td>\n",
              "    </tr>\n",
              "    <tr>\n",
              "      <th>2021-01-06</th>\n",
              "      <td>8.262246</td>\n",
              "      <td>10.744623</td>\n",
              "      <td>9.572511</td>\n",
              "      <td>15</td>\n",
              "      <td>15.0</td>\n",
              "    </tr>\n",
              "  </tbody>\n",
              "</table>\n",
              "</div>"
            ],
            "text/plain": [
              "                    A          B          C   D     F\n",
              "2021-01-01  10.000000  10.000000   8.372634  15   NaN\n",
              "2021-01-02   8.601862  11.357975  11.332683  15  11.0\n",
              "2021-01-03   8.887589  11.077338  10.279864  15  12.0\n",
              "2021-01-04  10.160868   9.182417  10.748370  15  13.0\n",
              "2021-01-05  10.361861   7.217432   9.951076  15  14.0\n",
              "2021-01-06   8.262246  10.744623   9.572511  15  15.0"
            ]
          },
          "execution_count": 80,
          "metadata": {
            "tags": []
          },
          "output_type": "execute_result"
        }
      ],
      "source": [
        "df.apply(lambda x: x+10)"
      ]
    },
    {
      "cell_type": "code",
      "execution_count": null,
      "metadata": {
        "colab": {
          "base_uri": "https://localhost:8080/"
        },
        "id": "r7JfTwX2TaJl",
        "outputId": "cde26e2c-4943-41c7-c94f-fbc6aef65b56"
      },
      "outputs": [
        {
          "data": {
            "text/plain": [
              "A    2.099615\n",
              "B    4.140543\n",
              "C    2.960049\n",
              "D    0.000000\n",
              "F    4.000000\n",
              "dtype: float64"
            ]
          },
          "execution_count": 83,
          "metadata": {
            "tags": []
          },
          "output_type": "execute_result"
        }
      ],
      "source": [
        "df.apply(lambda x: x.max() - x.min())"
      ]
    },
    {
      "cell_type": "markdown",
      "metadata": {
        "id": "ukmW2rbkP2p1"
      },
      "source": [
        "### Histograma\n",
        "\n",
        "Veja mais sobre histogramas e discretização [aqui](http://pandas.pydata.org/pandas-docs/stable/basics.html#basics-discretization)"
      ]
    },
    {
      "cell_type": "code",
      "execution_count": null,
      "metadata": {
        "colab": {
          "base_uri": "https://localhost:8080/"
        },
        "id": "oyXUTxJUP2p3",
        "outputId": "0ac9708e-40a5-42ae-ca18-a8e7c19d4371"
      },
      "outputs": [
        {
          "data": {
            "text/plain": [
              "0    4\n",
              "1    2\n",
              "2    4\n",
              "3    4\n",
              "4    2\n",
              "5    4\n",
              "6    3\n",
              "7    0\n",
              "8    1\n",
              "9    4\n",
              "dtype: int64"
            ]
          },
          "execution_count": 84,
          "metadata": {
            "tags": []
          },
          "output_type": "execute_result"
        }
      ],
      "source": [
        "s = pd.Series(np.random.randint(0, 7, size=10))\n",
        "s"
      ]
    },
    {
      "cell_type": "code",
      "execution_count": null,
      "metadata": {
        "colab": {
          "base_uri": "https://localhost:8080/"
        },
        "id": "qRTFe3MNP2qR",
        "outputId": "e3bfdc01-0ef1-4869-f3c3-5932b62d06cf"
      },
      "outputs": [
        {
          "data": {
            "text/plain": [
              "4    5\n",
              "2    2\n",
              "3    1\n",
              "1    1\n",
              "0    1\n",
              "dtype: int64"
            ]
          },
          "execution_count": 85,
          "metadata": {
            "tags": []
          },
          "output_type": "execute_result"
        }
      ],
      "source": [
        "s.value_counts()"
      ]
    },
    {
      "cell_type": "code",
      "execution_count": null,
      "metadata": {
        "colab": {
          "base_uri": "https://localhost:8080/"
        },
        "id": "GB8e6cq60_Jo",
        "outputId": "de6ff294-dc65-4e98-9e4a-108ecc2970d4"
      },
      "outputs": [
        {
          "data": {
            "text/plain": [
              "0    4\n",
              "dtype: int64"
            ]
          },
          "execution_count": 86,
          "metadata": {
            "tags": []
          },
          "output_type": "execute_result"
        }
      ],
      "source": [
        "s.mode()"
      ]
    },
    {
      "cell_type": "markdown",
      "metadata": {
        "id": "Y-uxsgFdP2qe"
      },
      "source": [
        "### Métodos de String\n",
        "\n",
        "A classe pandas.Series é equipada com um conjunto de métodos de processamento de string no atributo str que facilita a operação em cada elemento da matriz, como no trecho de código abaixo. Observe que a correspondência de padrões em str geralmente usa [expressões regulares](https://docs.python.org/2/library/re.html) por padrão (e em alguns casos sempre os usa). Veja mais sobre isso [aqui](http://pandas.pydata.org/pandas-docs/stable/text.html#text-string-methods)."
      ]
    },
    {
      "cell_type": "code",
      "execution_count": null,
      "metadata": {
        "id": "uCFdm8MnP2qn"
      },
      "outputs": [],
      "source": [
        "s = pd.Series(['A', 'B', 'C', 'Aaba', 'Baca', np.nan, 'CABA', 'dog', 'cat'])"
      ]
    },
    {
      "cell_type": "code",
      "execution_count": null,
      "metadata": {
        "colab": {
          "base_uri": "https://localhost:8080/"
        },
        "id": "sbbunEM7P2qz",
        "outputId": "af42592f-8b7d-4c0d-abba-5686fe80d154"
      },
      "outputs": [
        {
          "data": {
            "text/plain": [
              "0       a\n",
              "1       b\n",
              "2       c\n",
              "3    aaba\n",
              "4    baca\n",
              "5     NaN\n",
              "6    caba\n",
              "7     dog\n",
              "8     cat\n",
              "dtype: object"
            ]
          },
          "execution_count": 88,
          "metadata": {
            "tags": []
          },
          "output_type": "execute_result"
        }
      ],
      "source": [
        "s.str.lower()"
      ]
    },
    {
      "cell_type": "markdown",
      "metadata": {
        "id": "g5sTQGY5P2rK"
      },
      "source": [
        "## Junção de dados (merge)"
      ]
    },
    {
      "cell_type": "markdown",
      "metadata": {
        "id": "aVsdYs0aP2rT"
      },
      "source": [
        "### Concat\n",
        "\n",
        "O pandas fornece vários recursos para combinar facilmente objetos do tipo Series ou DataFrame. Veja mais sobre o assunto [aqui](http://pandas.pydata.org/pandas-docs/stable/merging.html#merging)"
      ]
    },
    {
      "cell_type": "markdown",
      "metadata": {
        "id": "EN3pQzwbP2rY"
      },
      "source": [
        "Concatenando objetos pandas com a função [concat()](https://pandas.pydata.org/pandas-docs/stable/reference/api/pandas.concat.html):"
      ]
    },
    {
      "cell_type": "code",
      "execution_count": null,
      "metadata": {
        "colab": {
          "base_uri": "https://localhost:8080/",
          "height": 343
        },
        "id": "2s7ZCDLAP2rc",
        "outputId": "2d5d9b25-88c6-4a6a-86d2-ee334a49571b"
      },
      "outputs": [
        {
          "data": {
            "text/html": [
              "<div>\n",
              "<style scoped>\n",
              "    .dataframe tbody tr th:only-of-type {\n",
              "        vertical-align: middle;\n",
              "    }\n",
              "\n",
              "    .dataframe tbody tr th {\n",
              "        vertical-align: top;\n",
              "    }\n",
              "\n",
              "    .dataframe thead th {\n",
              "        text-align: right;\n",
              "    }\n",
              "</style>\n",
              "<table border=\"1\" class=\"dataframe\">\n",
              "  <thead>\n",
              "    <tr style=\"text-align: right;\">\n",
              "      <th></th>\n",
              "      <th>0</th>\n",
              "      <th>1</th>\n",
              "      <th>2</th>\n",
              "      <th>3</th>\n",
              "    </tr>\n",
              "  </thead>\n",
              "  <tbody>\n",
              "    <tr>\n",
              "      <th>0</th>\n",
              "      <td>-0.822681</td>\n",
              "      <td>0.105498</td>\n",
              "      <td>-0.880144</td>\n",
              "      <td>0.624851</td>\n",
              "    </tr>\n",
              "    <tr>\n",
              "      <th>1</th>\n",
              "      <td>-0.122335</td>\n",
              "      <td>0.420090</td>\n",
              "      <td>0.226788</td>\n",
              "      <td>-0.976632</td>\n",
              "    </tr>\n",
              "    <tr>\n",
              "      <th>2</th>\n",
              "      <td>-0.881455</td>\n",
              "      <td>-0.338627</td>\n",
              "      <td>-1.565977</td>\n",
              "      <td>-0.565096</td>\n",
              "    </tr>\n",
              "    <tr>\n",
              "      <th>3</th>\n",
              "      <td>-0.588502</td>\n",
              "      <td>0.329187</td>\n",
              "      <td>0.480840</td>\n",
              "      <td>0.528021</td>\n",
              "    </tr>\n",
              "    <tr>\n",
              "      <th>4</th>\n",
              "      <td>-0.100207</td>\n",
              "      <td>-0.167735</td>\n",
              "      <td>-0.400072</td>\n",
              "      <td>-0.879844</td>\n",
              "    </tr>\n",
              "    <tr>\n",
              "      <th>5</th>\n",
              "      <td>1.948331</td>\n",
              "      <td>-1.821540</td>\n",
              "      <td>2.259392</td>\n",
              "      <td>0.878093</td>\n",
              "    </tr>\n",
              "    <tr>\n",
              "      <th>6</th>\n",
              "      <td>0.043457</td>\n",
              "      <td>-0.576342</td>\n",
              "      <td>0.716589</td>\n",
              "      <td>0.226333</td>\n",
              "    </tr>\n",
              "    <tr>\n",
              "      <th>7</th>\n",
              "      <td>0.226104</td>\n",
              "      <td>-0.198665</td>\n",
              "      <td>-0.118780</td>\n",
              "      <td>1.081068</td>\n",
              "    </tr>\n",
              "    <tr>\n",
              "      <th>8</th>\n",
              "      <td>-2.107969</td>\n",
              "      <td>0.964420</td>\n",
              "      <td>-1.612563</td>\n",
              "      <td>-2.063254</td>\n",
              "    </tr>\n",
              "    <tr>\n",
              "      <th>9</th>\n",
              "      <td>0.544788</td>\n",
              "      <td>-0.104359</td>\n",
              "      <td>0.549531</td>\n",
              "      <td>-0.294255</td>\n",
              "    </tr>\n",
              "  </tbody>\n",
              "</table>\n",
              "</div>"
            ],
            "text/plain": [
              "          0         1         2         3\n",
              "0 -0.822681  0.105498 -0.880144  0.624851\n",
              "1 -0.122335  0.420090  0.226788 -0.976632\n",
              "2 -0.881455 -0.338627 -1.565977 -0.565096\n",
              "3 -0.588502  0.329187  0.480840  0.528021\n",
              "4 -0.100207 -0.167735 -0.400072 -0.879844\n",
              "5  1.948331 -1.821540  2.259392  0.878093\n",
              "6  0.043457 -0.576342  0.716589  0.226333\n",
              "7  0.226104 -0.198665 -0.118780  1.081068\n",
              "8 -2.107969  0.964420 -1.612563 -2.063254\n",
              "9  0.544788 -0.104359  0.549531 -0.294255"
            ]
          },
          "execution_count": 89,
          "metadata": {
            "tags": []
          },
          "output_type": "execute_result"
        }
      ],
      "source": [
        "df = pd.DataFrame(np.random.randn(10, 4))\n",
        "df"
      ]
    },
    {
      "cell_type": "code",
      "execution_count": null,
      "metadata": {
        "colab": {
          "base_uri": "https://localhost:8080/"
        },
        "id": "0H8p_GX4P2sF",
        "outputId": "0f5705d4-5533-4605-da99-d97fd80d84eb"
      },
      "outputs": [
        {
          "data": {
            "text/plain": [
              "[          0         1         2         3\n",
              " 0 -0.822681  0.105498 -0.880144  0.624851\n",
              " 1 -0.122335  0.420090  0.226788 -0.976632\n",
              " 2 -0.881455 -0.338627 -1.565977 -0.565096,\n",
              "           0         1         2         3\n",
              " 3 -0.588502  0.329187  0.480840  0.528021\n",
              " 4 -0.100207 -0.167735 -0.400072 -0.879844\n",
              " 5  1.948331 -1.821540  2.259392  0.878093\n",
              " 6  0.043457 -0.576342  0.716589  0.226333,\n",
              "           0         1         2         3\n",
              " 7  0.226104 -0.198665 -0.118780  1.081068\n",
              " 8 -2.107969  0.964420 -1.612563 -2.063254\n",
              " 9  0.544788 -0.104359  0.549531 -0.294255]"
            ]
          },
          "execution_count": 91,
          "metadata": {
            "tags": []
          },
          "output_type": "execute_result"
        }
      ],
      "source": [
        "# separando pem pedaços\n",
        "pieces = [df[:3], df[3:7], df[7:]]\n",
        "pieces"
      ]
    },
    {
      "cell_type": "code",
      "execution_count": null,
      "metadata": {
        "colab": {
          "base_uri": "https://localhost:8080/",
          "height": 343
        },
        "id": "RNQoQpvWP2sO",
        "outputId": "4a289b6e-2bdc-46d2-b29a-9fbe7dec74c9"
      },
      "outputs": [
        {
          "data": {
            "text/html": [
              "<div>\n",
              "<style scoped>\n",
              "    .dataframe tbody tr th:only-of-type {\n",
              "        vertical-align: middle;\n",
              "    }\n",
              "\n",
              "    .dataframe tbody tr th {\n",
              "        vertical-align: top;\n",
              "    }\n",
              "\n",
              "    .dataframe thead th {\n",
              "        text-align: right;\n",
              "    }\n",
              "</style>\n",
              "<table border=\"1\" class=\"dataframe\">\n",
              "  <thead>\n",
              "    <tr style=\"text-align: right;\">\n",
              "      <th></th>\n",
              "      <th>0</th>\n",
              "      <th>1</th>\n",
              "      <th>2</th>\n",
              "      <th>3</th>\n",
              "    </tr>\n",
              "  </thead>\n",
              "  <tbody>\n",
              "    <tr>\n",
              "      <th>0</th>\n",
              "      <td>-0.822681</td>\n",
              "      <td>0.105498</td>\n",
              "      <td>-0.880144</td>\n",
              "      <td>0.624851</td>\n",
              "    </tr>\n",
              "    <tr>\n",
              "      <th>1</th>\n",
              "      <td>-0.122335</td>\n",
              "      <td>0.420090</td>\n",
              "      <td>0.226788</td>\n",
              "      <td>-0.976632</td>\n",
              "    </tr>\n",
              "    <tr>\n",
              "      <th>2</th>\n",
              "      <td>-0.881455</td>\n",
              "      <td>-0.338627</td>\n",
              "      <td>-1.565977</td>\n",
              "      <td>-0.565096</td>\n",
              "    </tr>\n",
              "    <tr>\n",
              "      <th>3</th>\n",
              "      <td>-0.588502</td>\n",
              "      <td>0.329187</td>\n",
              "      <td>0.480840</td>\n",
              "      <td>0.528021</td>\n",
              "    </tr>\n",
              "    <tr>\n",
              "      <th>4</th>\n",
              "      <td>-0.100207</td>\n",
              "      <td>-0.167735</td>\n",
              "      <td>-0.400072</td>\n",
              "      <td>-0.879844</td>\n",
              "    </tr>\n",
              "    <tr>\n",
              "      <th>5</th>\n",
              "      <td>1.948331</td>\n",
              "      <td>-1.821540</td>\n",
              "      <td>2.259392</td>\n",
              "      <td>0.878093</td>\n",
              "    </tr>\n",
              "    <tr>\n",
              "      <th>6</th>\n",
              "      <td>0.043457</td>\n",
              "      <td>-0.576342</td>\n",
              "      <td>0.716589</td>\n",
              "      <td>0.226333</td>\n",
              "    </tr>\n",
              "    <tr>\n",
              "      <th>7</th>\n",
              "      <td>0.226104</td>\n",
              "      <td>-0.198665</td>\n",
              "      <td>-0.118780</td>\n",
              "      <td>1.081068</td>\n",
              "    </tr>\n",
              "    <tr>\n",
              "      <th>8</th>\n",
              "      <td>-2.107969</td>\n",
              "      <td>0.964420</td>\n",
              "      <td>-1.612563</td>\n",
              "      <td>-2.063254</td>\n",
              "    </tr>\n",
              "    <tr>\n",
              "      <th>9</th>\n",
              "      <td>0.544788</td>\n",
              "      <td>-0.104359</td>\n",
              "      <td>0.549531</td>\n",
              "      <td>-0.294255</td>\n",
              "    </tr>\n",
              "  </tbody>\n",
              "</table>\n",
              "</div>"
            ],
            "text/plain": [
              "          0         1         2         3\n",
              "0 -0.822681  0.105498 -0.880144  0.624851\n",
              "1 -0.122335  0.420090  0.226788 -0.976632\n",
              "2 -0.881455 -0.338627 -1.565977 -0.565096\n",
              "3 -0.588502  0.329187  0.480840  0.528021\n",
              "4 -0.100207 -0.167735 -0.400072 -0.879844\n",
              "5  1.948331 -1.821540  2.259392  0.878093\n",
              "6  0.043457 -0.576342  0.716589  0.226333\n",
              "7  0.226104 -0.198665 -0.118780  1.081068\n",
              "8 -2.107969  0.964420 -1.612563 -2.063254\n",
              "9  0.544788 -0.104359  0.549531 -0.294255"
            ]
          },
          "execution_count": 92,
          "metadata": {
            "tags": []
          },
          "output_type": "execute_result"
        }
      ],
      "source": [
        "pd.concat(pieces)"
      ]
    },
    {
      "cell_type": "markdown",
      "metadata": {
        "id": "cwX66N_bP2tU"
      },
      "source": [
        "### Append\n",
        "\n",
        "A função [append()](http://pandas.pydata.org/pandas-docs/stable/merging.html#merging-concatenation) adiciona linhas ao DataFrame."
      ]
    },
    {
      "cell_type": "code",
      "execution_count": null,
      "metadata": {
        "colab": {
          "base_uri": "https://localhost:8080/",
          "height": 284
        },
        "id": "1yfQiPzpP2tY",
        "outputId": "35534d3d-d3ef-481f-d1de-240b182811d3"
      },
      "outputs": [
        {
          "data": {
            "text/html": [
              "<div>\n",
              "<style scoped>\n",
              "    .dataframe tbody tr th:only-of-type {\n",
              "        vertical-align: middle;\n",
              "    }\n",
              "\n",
              "    .dataframe tbody tr th {\n",
              "        vertical-align: top;\n",
              "    }\n",
              "\n",
              "    .dataframe thead th {\n",
              "        text-align: right;\n",
              "    }\n",
              "</style>\n",
              "<table border=\"1\" class=\"dataframe\">\n",
              "  <thead>\n",
              "    <tr style=\"text-align: right;\">\n",
              "      <th></th>\n",
              "      <th>A</th>\n",
              "      <th>B</th>\n",
              "      <th>C</th>\n",
              "      <th>D</th>\n",
              "    </tr>\n",
              "  </thead>\n",
              "  <tbody>\n",
              "    <tr>\n",
              "      <th>0</th>\n",
              "      <td>-0.228773</td>\n",
              "      <td>0.675981</td>\n",
              "      <td>-1.556783</td>\n",
              "      <td>-1.368156</td>\n",
              "    </tr>\n",
              "    <tr>\n",
              "      <th>1</th>\n",
              "      <td>1.343811</td>\n",
              "      <td>2.034173</td>\n",
              "      <td>1.342487</td>\n",
              "      <td>0.046779</td>\n",
              "    </tr>\n",
              "    <tr>\n",
              "      <th>2</th>\n",
              "      <td>0.297079</td>\n",
              "      <td>0.336546</td>\n",
              "      <td>0.190927</td>\n",
              "      <td>-0.598467</td>\n",
              "    </tr>\n",
              "    <tr>\n",
              "      <th>3</th>\n",
              "      <td>-1.059843</td>\n",
              "      <td>-2.094762</td>\n",
              "      <td>-0.233837</td>\n",
              "      <td>1.100466</td>\n",
              "    </tr>\n",
              "    <tr>\n",
              "      <th>4</th>\n",
              "      <td>1.835650</td>\n",
              "      <td>-2.704121</td>\n",
              "      <td>0.783679</td>\n",
              "      <td>0.726539</td>\n",
              "    </tr>\n",
              "    <tr>\n",
              "      <th>5</th>\n",
              "      <td>-0.968118</td>\n",
              "      <td>1.510893</td>\n",
              "      <td>-2.037371</td>\n",
              "      <td>-0.539794</td>\n",
              "    </tr>\n",
              "    <tr>\n",
              "      <th>6</th>\n",
              "      <td>1.148837</td>\n",
              "      <td>0.829680</td>\n",
              "      <td>0.418864</td>\n",
              "      <td>0.037541</td>\n",
              "    </tr>\n",
              "    <tr>\n",
              "      <th>7</th>\n",
              "      <td>0.576737</td>\n",
              "      <td>-0.504965</td>\n",
              "      <td>1.383578</td>\n",
              "      <td>0.208051</td>\n",
              "    </tr>\n",
              "  </tbody>\n",
              "</table>\n",
              "</div>"
            ],
            "text/plain": [
              "          A         B         C         D\n",
              "0 -0.228773  0.675981 -1.556783 -1.368156\n",
              "1  1.343811  2.034173  1.342487  0.046779\n",
              "2  0.297079  0.336546  0.190927 -0.598467\n",
              "3 -1.059843 -2.094762 -0.233837  1.100466\n",
              "4  1.835650 -2.704121  0.783679  0.726539\n",
              "5 -0.968118  1.510893 -2.037371 -0.539794\n",
              "6  1.148837  0.829680  0.418864  0.037541\n",
              "7  0.576737 -0.504965  1.383578  0.208051"
            ]
          },
          "execution_count": 93,
          "metadata": {
            "tags": []
          },
          "output_type": "execute_result"
        }
      ],
      "source": [
        "df = pd.DataFrame(np.random.randn(8, 4), columns=['A','B','C','D'])\n",
        "df"
      ]
    },
    {
      "cell_type": "code",
      "execution_count": null,
      "metadata": {
        "colab": {
          "base_uri": "https://localhost:8080/"
        },
        "id": "4l1hFvbWP2tl",
        "outputId": "85f8550c-bb80-4b6e-bf9e-71192b330175"
      },
      "outputs": [
        {
          "data": {
            "text/plain": [
              "A   -1.059843\n",
              "B   -2.094762\n",
              "C   -0.233837\n",
              "D    1.100466\n",
              "Name: 3, dtype: float64"
            ]
          },
          "execution_count": 94,
          "metadata": {
            "tags": []
          },
          "output_type": "execute_result"
        }
      ],
      "source": [
        "s = df.iloc[3]\n",
        "s"
      ]
    },
    {
      "cell_type": "code",
      "execution_count": null,
      "metadata": {
        "colab": {
          "base_uri": "https://localhost:8080/",
          "height": 314
        },
        "id": "GxRO2Cn3P2ts",
        "outputId": "010ad51c-84f2-4d4f-c3ff-77ae870a0721"
      },
      "outputs": [
        {
          "data": {
            "text/html": [
              "<div>\n",
              "<style scoped>\n",
              "    .dataframe tbody tr th:only-of-type {\n",
              "        vertical-align: middle;\n",
              "    }\n",
              "\n",
              "    .dataframe tbody tr th {\n",
              "        vertical-align: top;\n",
              "    }\n",
              "\n",
              "    .dataframe thead th {\n",
              "        text-align: right;\n",
              "    }\n",
              "</style>\n",
              "<table border=\"1\" class=\"dataframe\">\n",
              "  <thead>\n",
              "    <tr style=\"text-align: right;\">\n",
              "      <th></th>\n",
              "      <th>A</th>\n",
              "      <th>B</th>\n",
              "      <th>C</th>\n",
              "      <th>D</th>\n",
              "    </tr>\n",
              "  </thead>\n",
              "  <tbody>\n",
              "    <tr>\n",
              "      <th>0</th>\n",
              "      <td>-0.228773</td>\n",
              "      <td>0.675981</td>\n",
              "      <td>-1.556783</td>\n",
              "      <td>-1.368156</td>\n",
              "    </tr>\n",
              "    <tr>\n",
              "      <th>1</th>\n",
              "      <td>1.343811</td>\n",
              "      <td>2.034173</td>\n",
              "      <td>1.342487</td>\n",
              "      <td>0.046779</td>\n",
              "    </tr>\n",
              "    <tr>\n",
              "      <th>2</th>\n",
              "      <td>0.297079</td>\n",
              "      <td>0.336546</td>\n",
              "      <td>0.190927</td>\n",
              "      <td>-0.598467</td>\n",
              "    </tr>\n",
              "    <tr>\n",
              "      <th>3</th>\n",
              "      <td>-1.059843</td>\n",
              "      <td>-2.094762</td>\n",
              "      <td>-0.233837</td>\n",
              "      <td>1.100466</td>\n",
              "    </tr>\n",
              "    <tr>\n",
              "      <th>4</th>\n",
              "      <td>1.835650</td>\n",
              "      <td>-2.704121</td>\n",
              "      <td>0.783679</td>\n",
              "      <td>0.726539</td>\n",
              "    </tr>\n",
              "    <tr>\n",
              "      <th>5</th>\n",
              "      <td>-0.968118</td>\n",
              "      <td>1.510893</td>\n",
              "      <td>-2.037371</td>\n",
              "      <td>-0.539794</td>\n",
              "    </tr>\n",
              "    <tr>\n",
              "      <th>6</th>\n",
              "      <td>1.148837</td>\n",
              "      <td>0.829680</td>\n",
              "      <td>0.418864</td>\n",
              "      <td>0.037541</td>\n",
              "    </tr>\n",
              "    <tr>\n",
              "      <th>7</th>\n",
              "      <td>0.576737</td>\n",
              "      <td>-0.504965</td>\n",
              "      <td>1.383578</td>\n",
              "      <td>0.208051</td>\n",
              "    </tr>\n",
              "    <tr>\n",
              "      <th>8</th>\n",
              "      <td>-1.059843</td>\n",
              "      <td>-2.094762</td>\n",
              "      <td>-0.233837</td>\n",
              "      <td>1.100466</td>\n",
              "    </tr>\n",
              "  </tbody>\n",
              "</table>\n",
              "</div>"
            ],
            "text/plain": [
              "          A         B         C         D\n",
              "0 -0.228773  0.675981 -1.556783 -1.368156\n",
              "1  1.343811  2.034173  1.342487  0.046779\n",
              "2  0.297079  0.336546  0.190927 -0.598467\n",
              "3 -1.059843 -2.094762 -0.233837  1.100466\n",
              "4  1.835650 -2.704121  0.783679  0.726539\n",
              "5 -0.968118  1.510893 -2.037371 -0.539794\n",
              "6  1.148837  0.829680  0.418864  0.037541\n",
              "7  0.576737 -0.504965  1.383578  0.208051\n",
              "8 -1.059843 -2.094762 -0.233837  1.100466"
            ]
          },
          "execution_count": 97,
          "metadata": {
            "tags": []
          },
          "output_type": "execute_result"
        }
      ],
      "source": [
        "df.append(s, ignore_index=True)"
      ]
    },
    {
      "cell_type": "markdown",
      "metadata": {
        "id": "kO_45L80P2tz"
      },
      "source": [
        "## Agrupando\n",
        "\n",
        "O “group by” se refere a um processo que envolve uma ou mais das seguintes etapas\n",
        "\n",
        "* **Dividir** os dados em grupos com base em algum critério;\n",
        "* **Aplicar** uma função a cada grupo independentemente;\n",
        "* **Combinar** os resultados em uma estrutura de dados.\n",
        "\n",
        "Veja mais detalhes sobre essa funcionalidade e suas aplicações [aqui](http://pandas.pydata.org/pandas-docs/stable/groupby.html#groupby)"
      ]
    },
    {
      "cell_type": "code",
      "execution_count": null,
      "metadata": {
        "colab": {
          "base_uri": "https://localhost:8080/",
          "height": 284
        },
        "id": "KKTB8LrbP2t1",
        "outputId": "2cb596b5-293e-495c-9eb4-bc707fb9bf1c"
      },
      "outputs": [
        {
          "data": {
            "text/html": [
              "<div>\n",
              "<style scoped>\n",
              "    .dataframe tbody tr th:only-of-type {\n",
              "        vertical-align: middle;\n",
              "    }\n",
              "\n",
              "    .dataframe tbody tr th {\n",
              "        vertical-align: top;\n",
              "    }\n",
              "\n",
              "    .dataframe thead th {\n",
              "        text-align: right;\n",
              "    }\n",
              "</style>\n",
              "<table border=\"1\" class=\"dataframe\">\n",
              "  <thead>\n",
              "    <tr style=\"text-align: right;\">\n",
              "      <th></th>\n",
              "      <th>A</th>\n",
              "      <th>B</th>\n",
              "      <th>C</th>\n",
              "      <th>D</th>\n",
              "    </tr>\n",
              "  </thead>\n",
              "  <tbody>\n",
              "    <tr>\n",
              "      <th>0</th>\n",
              "      <td>foo</td>\n",
              "      <td>one</td>\n",
              "      <td>0.698006</td>\n",
              "      <td>0.085026</td>\n",
              "    </tr>\n",
              "    <tr>\n",
              "      <th>1</th>\n",
              "      <td>bar</td>\n",
              "      <td>one</td>\n",
              "      <td>0.229601</td>\n",
              "      <td>1.358706</td>\n",
              "    </tr>\n",
              "    <tr>\n",
              "      <th>2</th>\n",
              "      <td>foo</td>\n",
              "      <td>two</td>\n",
              "      <td>0.812084</td>\n",
              "      <td>-1.750834</td>\n",
              "    </tr>\n",
              "    <tr>\n",
              "      <th>3</th>\n",
              "      <td>bar</td>\n",
              "      <td>three</td>\n",
              "      <td>0.432848</td>\n",
              "      <td>1.994084</td>\n",
              "    </tr>\n",
              "    <tr>\n",
              "      <th>4</th>\n",
              "      <td>foo</td>\n",
              "      <td>two</td>\n",
              "      <td>0.468760</td>\n",
              "      <td>0.146625</td>\n",
              "    </tr>\n",
              "    <tr>\n",
              "      <th>5</th>\n",
              "      <td>bar</td>\n",
              "      <td>two</td>\n",
              "      <td>-0.582234</td>\n",
              "      <td>-0.215452</td>\n",
              "    </tr>\n",
              "    <tr>\n",
              "      <th>6</th>\n",
              "      <td>foo</td>\n",
              "      <td>one</td>\n",
              "      <td>0.012611</td>\n",
              "      <td>-0.082342</td>\n",
              "    </tr>\n",
              "    <tr>\n",
              "      <th>7</th>\n",
              "      <td>foo</td>\n",
              "      <td>three</td>\n",
              "      <td>0.260924</td>\n",
              "      <td>-0.813225</td>\n",
              "    </tr>\n",
              "  </tbody>\n",
              "</table>\n",
              "</div>"
            ],
            "text/plain": [
              "     A      B         C         D\n",
              "0  foo    one  0.698006  0.085026\n",
              "1  bar    one  0.229601  1.358706\n",
              "2  foo    two  0.812084 -1.750834\n",
              "3  bar  three  0.432848  1.994084\n",
              "4  foo    two  0.468760  0.146625\n",
              "5  bar    two -0.582234 -0.215452\n",
              "6  foo    one  0.012611 -0.082342\n",
              "7  foo  three  0.260924 -0.813225"
            ]
          },
          "execution_count": 98,
          "metadata": {
            "tags": []
          },
          "output_type": "execute_result"
        }
      ],
      "source": [
        "df = pd.DataFrame({'A' : ['foo', 'bar', 'foo', 'bar', 'foo', 'bar', 'foo', 'foo'],\n",
        "                                    'B' : ['one', 'one', 'two', 'three','two', 'two', 'one', 'three'],\n",
        "                                    'C' : np.random.randn(8),\n",
        "                                     'D' : np.random.randn(8)})\n",
        "df"
      ]
    },
    {
      "cell_type": "markdown",
      "metadata": {
        "id": "pRZOMW6lP2uM"
      },
      "source": [
        "Agrupar e depois aplicar a função sum() aos grupos resultantes."
      ]
    },
    {
      "cell_type": "code",
      "execution_count": null,
      "metadata": {
        "colab": {
          "base_uri": "https://localhost:8080/",
          "height": 136
        },
        "id": "8zUgHZ3_P2uR",
        "outputId": "dfea39ca-65b1-49ed-ff29-aeb30aa43fd0"
      },
      "outputs": [
        {
          "data": {
            "text/html": [
              "<div>\n",
              "<style scoped>\n",
              "    .dataframe tbody tr th:only-of-type {\n",
              "        vertical-align: middle;\n",
              "    }\n",
              "\n",
              "    .dataframe tbody tr th {\n",
              "        vertical-align: top;\n",
              "    }\n",
              "\n",
              "    .dataframe thead th {\n",
              "        text-align: right;\n",
              "    }\n",
              "</style>\n",
              "<table border=\"1\" class=\"dataframe\">\n",
              "  <thead>\n",
              "    <tr style=\"text-align: right;\">\n",
              "      <th></th>\n",
              "      <th>C</th>\n",
              "      <th>D</th>\n",
              "    </tr>\n",
              "    <tr>\n",
              "      <th>A</th>\n",
              "      <th></th>\n",
              "      <th></th>\n",
              "    </tr>\n",
              "  </thead>\n",
              "  <tbody>\n",
              "    <tr>\n",
              "      <th>bar</th>\n",
              "      <td>0.080215</td>\n",
              "      <td>3.137338</td>\n",
              "    </tr>\n",
              "    <tr>\n",
              "      <th>foo</th>\n",
              "      <td>2.252386</td>\n",
              "      <td>-2.414751</td>\n",
              "    </tr>\n",
              "  </tbody>\n",
              "</table>\n",
              "</div>"
            ],
            "text/plain": [
              "            C         D\n",
              "A                      \n",
              "bar  0.080215  3.137338\n",
              "foo  2.252386 -2.414751"
            ]
          },
          "execution_count": 99,
          "metadata": {
            "tags": []
          },
          "output_type": "execute_result"
        }
      ],
      "source": [
        "df.groupby('A').sum()"
      ]
    },
    {
      "cell_type": "code",
      "execution_count": null,
      "metadata": {
        "colab": {
          "base_uri": "https://localhost:8080/",
          "height": 254
        },
        "id": "GFohB0QzP2uZ",
        "outputId": "f5ba42a8-5d0e-42cf-bffb-0bf7c0f76b77"
      },
      "outputs": [
        {
          "data": {
            "text/html": [
              "<div>\n",
              "<style scoped>\n",
              "    .dataframe tbody tr th:only-of-type {\n",
              "        vertical-align: middle;\n",
              "    }\n",
              "\n",
              "    .dataframe tbody tr th {\n",
              "        vertical-align: top;\n",
              "    }\n",
              "\n",
              "    .dataframe thead th {\n",
              "        text-align: right;\n",
              "    }\n",
              "</style>\n",
              "<table border=\"1\" class=\"dataframe\">\n",
              "  <thead>\n",
              "    <tr style=\"text-align: right;\">\n",
              "      <th></th>\n",
              "      <th></th>\n",
              "      <th>C</th>\n",
              "      <th>D</th>\n",
              "    </tr>\n",
              "    <tr>\n",
              "      <th>A</th>\n",
              "      <th>B</th>\n",
              "      <th></th>\n",
              "      <th></th>\n",
              "    </tr>\n",
              "  </thead>\n",
              "  <tbody>\n",
              "    <tr>\n",
              "      <th rowspan=\"3\" valign=\"top\">bar</th>\n",
              "      <th>one</th>\n",
              "      <td>0.229601</td>\n",
              "      <td>1.358706</td>\n",
              "    </tr>\n",
              "    <tr>\n",
              "      <th>three</th>\n",
              "      <td>0.432848</td>\n",
              "      <td>1.994084</td>\n",
              "    </tr>\n",
              "    <tr>\n",
              "      <th>two</th>\n",
              "      <td>-0.582234</td>\n",
              "      <td>-0.215452</td>\n",
              "    </tr>\n",
              "    <tr>\n",
              "      <th rowspan=\"3\" valign=\"top\">foo</th>\n",
              "      <th>one</th>\n",
              "      <td>0.710617</td>\n",
              "      <td>0.002684</td>\n",
              "    </tr>\n",
              "    <tr>\n",
              "      <th>three</th>\n",
              "      <td>0.260924</td>\n",
              "      <td>-0.813225</td>\n",
              "    </tr>\n",
              "    <tr>\n",
              "      <th>two</th>\n",
              "      <td>1.280845</td>\n",
              "      <td>-1.604209</td>\n",
              "    </tr>\n",
              "  </tbody>\n",
              "</table>\n",
              "</div>"
            ],
            "text/plain": [
              "                  C         D\n",
              "A   B                        \n",
              "bar one    0.229601  1.358706\n",
              "    three  0.432848  1.994084\n",
              "    two   -0.582234 -0.215452\n",
              "foo one    0.710617  0.002684\n",
              "    three  0.260924 -0.813225\n",
              "    two    1.280845 -1.604209"
            ]
          },
          "execution_count": 100,
          "metadata": {
            "tags": []
          },
          "output_type": "execute_result"
        }
      ],
      "source": [
        "df.groupby(['A','B']).sum()"
      ]
    },
    {
      "cell_type": "markdown",
      "metadata": {
        "id": "bUJnRLWcP2ug"
      },
      "source": [
        "## Reshaping\n",
        "\n",
        "Veja mais detalhes nas seções [Hierarchical Indexing](http://pandas.pydata.org/pandas-docs/stable/advanced.html#advanced-hierarchical) e [Reshaping](http://pandas.pydata.org/pandas-docs/stable/reshaping.html#reshaping-stacking) da documentação do pandas."
      ]
    },
    {
      "cell_type": "markdown",
      "metadata": {
        "id": "Pb2Wf4iiP2v6"
      },
      "source": [
        "### Tabelas Dinâmicas\n",
        "\n",
        "Mais detalhes e exemplos de tabelas dinâmicas [aqui](http://pandas.pydata.org/pandas-docs/stable/reshaping.html#reshaping-pivot)."
      ]
    },
    {
      "cell_type": "code",
      "execution_count": null,
      "metadata": {
        "colab": {
          "base_uri": "https://localhost:8080/",
          "height": 402
        },
        "id": "zrDSWWjsP2v8",
        "outputId": "a10d715a-af6d-4cf2-f878-4ba306a9c58a"
      },
      "outputs": [
        {
          "data": {
            "text/html": [
              "<div>\n",
              "<style scoped>\n",
              "    .dataframe tbody tr th:only-of-type {\n",
              "        vertical-align: middle;\n",
              "    }\n",
              "\n",
              "    .dataframe tbody tr th {\n",
              "        vertical-align: top;\n",
              "    }\n",
              "\n",
              "    .dataframe thead th {\n",
              "        text-align: right;\n",
              "    }\n",
              "</style>\n",
              "<table border=\"1\" class=\"dataframe\">\n",
              "  <thead>\n",
              "    <tr style=\"text-align: right;\">\n",
              "      <th></th>\n",
              "      <th>A</th>\n",
              "      <th>B</th>\n",
              "      <th>C</th>\n",
              "      <th>D</th>\n",
              "      <th>E</th>\n",
              "    </tr>\n",
              "  </thead>\n",
              "  <tbody>\n",
              "    <tr>\n",
              "      <th>0</th>\n",
              "      <td>one</td>\n",
              "      <td>A</td>\n",
              "      <td>foo</td>\n",
              "      <td>-1.037241</td>\n",
              "      <td>-0.355795</td>\n",
              "    </tr>\n",
              "    <tr>\n",
              "      <th>1</th>\n",
              "      <td>one</td>\n",
              "      <td>B</td>\n",
              "      <td>foo</td>\n",
              "      <td>0.664293</td>\n",
              "      <td>0.299103</td>\n",
              "    </tr>\n",
              "    <tr>\n",
              "      <th>2</th>\n",
              "      <td>two</td>\n",
              "      <td>C</td>\n",
              "      <td>foo</td>\n",
              "      <td>-0.176389</td>\n",
              "      <td>0.613374</td>\n",
              "    </tr>\n",
              "    <tr>\n",
              "      <th>3</th>\n",
              "      <td>three</td>\n",
              "      <td>A</td>\n",
              "      <td>bar</td>\n",
              "      <td>-1.751464</td>\n",
              "      <td>-0.975407</td>\n",
              "    </tr>\n",
              "    <tr>\n",
              "      <th>4</th>\n",
              "      <td>one</td>\n",
              "      <td>B</td>\n",
              "      <td>bar</td>\n",
              "      <td>1.006006</td>\n",
              "      <td>0.206167</td>\n",
              "    </tr>\n",
              "    <tr>\n",
              "      <th>5</th>\n",
              "      <td>one</td>\n",
              "      <td>C</td>\n",
              "      <td>bar</td>\n",
              "      <td>-0.488613</td>\n",
              "      <td>0.720931</td>\n",
              "    </tr>\n",
              "    <tr>\n",
              "      <th>6</th>\n",
              "      <td>two</td>\n",
              "      <td>A</td>\n",
              "      <td>foo</td>\n",
              "      <td>1.127507</td>\n",
              "      <td>0.881193</td>\n",
              "    </tr>\n",
              "    <tr>\n",
              "      <th>7</th>\n",
              "      <td>three</td>\n",
              "      <td>B</td>\n",
              "      <td>foo</td>\n",
              "      <td>-0.819294</td>\n",
              "      <td>0.745160</td>\n",
              "    </tr>\n",
              "    <tr>\n",
              "      <th>8</th>\n",
              "      <td>one</td>\n",
              "      <td>C</td>\n",
              "      <td>foo</td>\n",
              "      <td>0.504097</td>\n",
              "      <td>-0.016461</td>\n",
              "    </tr>\n",
              "    <tr>\n",
              "      <th>9</th>\n",
              "      <td>one</td>\n",
              "      <td>A</td>\n",
              "      <td>bar</td>\n",
              "      <td>-1.532179</td>\n",
              "      <td>0.106713</td>\n",
              "    </tr>\n",
              "    <tr>\n",
              "      <th>10</th>\n",
              "      <td>two</td>\n",
              "      <td>B</td>\n",
              "      <td>bar</td>\n",
              "      <td>-0.018882</td>\n",
              "      <td>-2.030769</td>\n",
              "    </tr>\n",
              "    <tr>\n",
              "      <th>11</th>\n",
              "      <td>three</td>\n",
              "      <td>C</td>\n",
              "      <td>bar</td>\n",
              "      <td>0.417182</td>\n",
              "      <td>-0.237150</td>\n",
              "    </tr>\n",
              "  </tbody>\n",
              "</table>\n",
              "</div>"
            ],
            "text/plain": [
              "        A  B    C         D         E\n",
              "0     one  A  foo -1.037241 -0.355795\n",
              "1     one  B  foo  0.664293  0.299103\n",
              "2     two  C  foo -0.176389  0.613374\n",
              "3   three  A  bar -1.751464 -0.975407\n",
              "4     one  B  bar  1.006006  0.206167\n",
              "5     one  C  bar -0.488613  0.720931\n",
              "6     two  A  foo  1.127507  0.881193\n",
              "7   three  B  foo -0.819294  0.745160\n",
              "8     one  C  foo  0.504097 -0.016461\n",
              "9     one  A  bar -1.532179  0.106713\n",
              "10    two  B  bar -0.018882 -2.030769\n",
              "11  three  C  bar  0.417182 -0.237150"
            ]
          },
          "execution_count": 102,
          "metadata": {
            "tags": []
          },
          "output_type": "execute_result"
        }
      ],
      "source": [
        "df = pd.DataFrame({'A' : ['one', 'one', 'two', 'three'] * 3,\n",
        "                                    'B' : ['A', 'B', 'C'] * 4,\n",
        "                                    'C' : ['foo', 'foo', 'foo', 'bar', 'bar', 'bar'] * 2,\n",
        "                                    'D' : np.random.randn(12),\n",
        "                                    'E' : np.random.randn(12)})\n",
        "df"
      ]
    },
    {
      "cell_type": "markdown",
      "metadata": {
        "id": "x5fawg1hP2wJ"
      },
      "source": [
        "Podemos produzir tabelas dinâmicas a partir desses dados com muita facilidade:"
      ]
    },
    {
      "cell_type": "code",
      "execution_count": null,
      "metadata": {
        "colab": {
          "base_uri": "https://localhost:8080/",
          "height": 343
        },
        "id": "NbudMecGP2wL",
        "outputId": "ef9df8c2-e5da-474a-d491-bf32694e9730"
      },
      "outputs": [
        {
          "data": {
            "text/html": [
              "<div>\n",
              "<style scoped>\n",
              "    .dataframe tbody tr th:only-of-type {\n",
              "        vertical-align: middle;\n",
              "    }\n",
              "\n",
              "    .dataframe tbody tr th {\n",
              "        vertical-align: top;\n",
              "    }\n",
              "\n",
              "    .dataframe thead th {\n",
              "        text-align: right;\n",
              "    }\n",
              "</style>\n",
              "<table border=\"1\" class=\"dataframe\">\n",
              "  <thead>\n",
              "    <tr style=\"text-align: right;\">\n",
              "      <th></th>\n",
              "      <th>C</th>\n",
              "      <th>bar</th>\n",
              "      <th>foo</th>\n",
              "    </tr>\n",
              "    <tr>\n",
              "      <th>A</th>\n",
              "      <th>B</th>\n",
              "      <th></th>\n",
              "      <th></th>\n",
              "    </tr>\n",
              "  </thead>\n",
              "  <tbody>\n",
              "    <tr>\n",
              "      <th rowspan=\"3\" valign=\"top\">one</th>\n",
              "      <th>A</th>\n",
              "      <td>-1.532179</td>\n",
              "      <td>-1.037241</td>\n",
              "    </tr>\n",
              "    <tr>\n",
              "      <th>B</th>\n",
              "      <td>1.006006</td>\n",
              "      <td>0.664293</td>\n",
              "    </tr>\n",
              "    <tr>\n",
              "      <th>C</th>\n",
              "      <td>-0.488613</td>\n",
              "      <td>0.504097</td>\n",
              "    </tr>\n",
              "    <tr>\n",
              "      <th rowspan=\"3\" valign=\"top\">three</th>\n",
              "      <th>A</th>\n",
              "      <td>-1.751464</td>\n",
              "      <td>NaN</td>\n",
              "    </tr>\n",
              "    <tr>\n",
              "      <th>B</th>\n",
              "      <td>NaN</td>\n",
              "      <td>-0.819294</td>\n",
              "    </tr>\n",
              "    <tr>\n",
              "      <th>C</th>\n",
              "      <td>0.417182</td>\n",
              "      <td>NaN</td>\n",
              "    </tr>\n",
              "    <tr>\n",
              "      <th rowspan=\"3\" valign=\"top\">two</th>\n",
              "      <th>A</th>\n",
              "      <td>NaN</td>\n",
              "      <td>1.127507</td>\n",
              "    </tr>\n",
              "    <tr>\n",
              "      <th>B</th>\n",
              "      <td>-0.018882</td>\n",
              "      <td>NaN</td>\n",
              "    </tr>\n",
              "    <tr>\n",
              "      <th>C</th>\n",
              "      <td>NaN</td>\n",
              "      <td>-0.176389</td>\n",
              "    </tr>\n",
              "  </tbody>\n",
              "</table>\n",
              "</div>"
            ],
            "text/plain": [
              "C             bar       foo\n",
              "A     B                    \n",
              "one   A -1.532179 -1.037241\n",
              "      B  1.006006  0.664293\n",
              "      C -0.488613  0.504097\n",
              "three A -1.751464       NaN\n",
              "      B       NaN -0.819294\n",
              "      C  0.417182       NaN\n",
              "two   A       NaN  1.127507\n",
              "      B -0.018882       NaN\n",
              "      C       NaN -0.176389"
            ]
          },
          "execution_count": 103,
          "metadata": {
            "tags": []
          },
          "output_type": "execute_result"
        }
      ],
      "source": [
        "pd.pivot_table(df, values='D', index=['A', 'B'], columns=['C'])"
      ]
    },
    {
      "cell_type": "markdown",
      "metadata": {
        "id": "stiuJbPAP2zj"
      },
      "source": [
        "## Categóricos"
      ]
    },
    {
      "cell_type": "markdown",
      "metadata": {
        "id": "4G92sOufP2zl"
      },
      "source": [
        "Desde a versão 0.15, os pandas podem incluir dados categóricos em um DataFrame. Para uma documentação completa, visite as seções [categorical introduction](http://pandas.pydata.org/pandas-docs/stable/categorical.html#categorical) e [API documentation](http://pandas.pydata.org/pandas-docs/stable/api.html#api-categorical)."
      ]
    },
    {
      "cell_type": "code",
      "execution_count": null,
      "metadata": {
        "colab": {
          "base_uri": "https://localhost:8080/",
          "height": 225
        },
        "id": "zCMSGOXhP2zv",
        "outputId": "a57c9e5f-9cde-4ec8-8cca-f07c96b7caef"
      },
      "outputs": [
        {
          "data": {
            "text/html": [
              "<div>\n",
              "<style scoped>\n",
              "    .dataframe tbody tr th:only-of-type {\n",
              "        vertical-align: middle;\n",
              "    }\n",
              "\n",
              "    .dataframe tbody tr th {\n",
              "        vertical-align: top;\n",
              "    }\n",
              "\n",
              "    .dataframe thead th {\n",
              "        text-align: right;\n",
              "    }\n",
              "</style>\n",
              "<table border=\"1\" class=\"dataframe\">\n",
              "  <thead>\n",
              "    <tr style=\"text-align: right;\">\n",
              "      <th></th>\n",
              "      <th>id</th>\n",
              "      <th>raw_grade</th>\n",
              "    </tr>\n",
              "  </thead>\n",
              "  <tbody>\n",
              "    <tr>\n",
              "      <th>0</th>\n",
              "      <td>1</td>\n",
              "      <td>a</td>\n",
              "    </tr>\n",
              "    <tr>\n",
              "      <th>1</th>\n",
              "      <td>2</td>\n",
              "      <td>b</td>\n",
              "    </tr>\n",
              "    <tr>\n",
              "      <th>2</th>\n",
              "      <td>3</td>\n",
              "      <td>b</td>\n",
              "    </tr>\n",
              "    <tr>\n",
              "      <th>3</th>\n",
              "      <td>4</td>\n",
              "      <td>a</td>\n",
              "    </tr>\n",
              "    <tr>\n",
              "      <th>4</th>\n",
              "      <td>5</td>\n",
              "      <td>a</td>\n",
              "    </tr>\n",
              "    <tr>\n",
              "      <th>5</th>\n",
              "      <td>6</td>\n",
              "      <td>e</td>\n",
              "    </tr>\n",
              "  </tbody>\n",
              "</table>\n",
              "</div>"
            ],
            "text/plain": [
              "   id raw_grade\n",
              "0   1         a\n",
              "1   2         b\n",
              "2   3         b\n",
              "3   4         a\n",
              "4   5         a\n",
              "5   6         e"
            ]
          },
          "execution_count": 105,
          "metadata": {
            "tags": []
          },
          "output_type": "execute_result"
        }
      ],
      "source": [
        "df = pd.DataFrame({\"id\":[1,2,3,4,5,6], \"raw_grade\":['a', 'b', 'b', 'a', 'a', 'e']})\n",
        "df"
      ]
    },
    {
      "cell_type": "markdown",
      "metadata": {
        "id": "OHKWuLK6P20D"
      },
      "source": [
        "Converta as notas em um tipo de dados categórico."
      ]
    },
    {
      "cell_type": "code",
      "execution_count": null,
      "metadata": {
        "id": "aIoZf1dbBydQ"
      },
      "outputs": [],
      "source": [
        "df[\"grade\"] = df[\"raw_grade\"].astype(\"category\")"
      ]
    },
    {
      "cell_type": "code",
      "execution_count": null,
      "metadata": {
        "colab": {
          "base_uri": "https://localhost:8080/",
          "height": 225
        },
        "id": "ggt_KhERP20j",
        "outputId": "75f61cd5-1c59-448c-93aa-1a2512c44563"
      },
      "outputs": [
        {
          "data": {
            "text/html": [
              "<div>\n",
              "<style scoped>\n",
              "    .dataframe tbody tr th:only-of-type {\n",
              "        vertical-align: middle;\n",
              "    }\n",
              "\n",
              "    .dataframe tbody tr th {\n",
              "        vertical-align: top;\n",
              "    }\n",
              "\n",
              "    .dataframe thead th {\n",
              "        text-align: right;\n",
              "    }\n",
              "</style>\n",
              "<table border=\"1\" class=\"dataframe\">\n",
              "  <thead>\n",
              "    <tr style=\"text-align: right;\">\n",
              "      <th></th>\n",
              "      <th>id</th>\n",
              "      <th>raw_grade</th>\n",
              "      <th>grade</th>\n",
              "    </tr>\n",
              "  </thead>\n",
              "  <tbody>\n",
              "    <tr>\n",
              "      <th>0</th>\n",
              "      <td>1</td>\n",
              "      <td>a</td>\n",
              "      <td>very good</td>\n",
              "    </tr>\n",
              "    <tr>\n",
              "      <th>1</th>\n",
              "      <td>2</td>\n",
              "      <td>b</td>\n",
              "      <td>good</td>\n",
              "    </tr>\n",
              "    <tr>\n",
              "      <th>2</th>\n",
              "      <td>3</td>\n",
              "      <td>b</td>\n",
              "      <td>good</td>\n",
              "    </tr>\n",
              "    <tr>\n",
              "      <th>3</th>\n",
              "      <td>4</td>\n",
              "      <td>a</td>\n",
              "      <td>very good</td>\n",
              "    </tr>\n",
              "    <tr>\n",
              "      <th>4</th>\n",
              "      <td>5</td>\n",
              "      <td>a</td>\n",
              "      <td>very good</td>\n",
              "    </tr>\n",
              "    <tr>\n",
              "      <th>5</th>\n",
              "      <td>6</td>\n",
              "      <td>e</td>\n",
              "      <td>very bad</td>\n",
              "    </tr>\n",
              "  </tbody>\n",
              "</table>\n",
              "</div>"
            ],
            "text/plain": [
              "   id raw_grade      grade\n",
              "0   1         a  very good\n",
              "1   2         b       good\n",
              "2   3         b       good\n",
              "3   4         a  very good\n",
              "4   5         a  very good\n",
              "5   6         e   very bad"
            ]
          },
          "execution_count": 108,
          "metadata": {
            "tags": []
          },
          "output_type": "execute_result"
        }
      ],
      "source": [
        "df[\"grade\"].cat.categories = [\"very good\", \"good\", \"very bad\"]\n",
        "df"
      ]
    },
    {
      "cell_type": "code",
      "execution_count": null,
      "metadata": {
        "colab": {
          "base_uri": "https://localhost:8080/"
        },
        "id": "ixnM2SEqP20Q",
        "outputId": "015c3360-0a36-4444-ecda-4f9c88768858"
      },
      "outputs": [
        {
          "data": {
            "text/plain": [
              "0    very good\n",
              "1         good\n",
              "2         good\n",
              "3    very good\n",
              "4    very good\n",
              "5     very bad\n",
              "Name: grade, dtype: category\n",
              "Categories (3, object): [very good, good, very bad]"
            ]
          },
          "execution_count": 109,
          "metadata": {
            "tags": []
          },
          "output_type": "execute_result"
        }
      ],
      "source": [
        "df[\"grade\"]"
      ]
    },
    {
      "cell_type": "markdown",
      "metadata": {
        "id": "IMplOmHqP20g"
      },
      "source": [
        "Renomeie as categorias para nomes mais significativos (a função Series.cat.categories() é do tipo inplace!)"
      ]
    },
    {
      "cell_type": "markdown",
      "metadata": {
        "id": "vg5hrNpVP202"
      },
      "source": [
        "Reordene as categorias e adicione simultaneamente as categorias ausentes (o método em Series.cat retornam uma nova série por padrão)."
      ]
    },
    {
      "cell_type": "code",
      "execution_count": null,
      "metadata": {
        "id": "g1XucZkXP204"
      },
      "outputs": [],
      "source": [
        "df[\"grade\"] = df[\"grade\"].cat.set_categories([\"very bad\", \"bad\", \"medium\", \"good\", \"very good\"])"
      ]
    },
    {
      "cell_type": "code",
      "execution_count": null,
      "metadata": {
        "colab": {
          "base_uri": "https://localhost:8080/"
        },
        "id": "MZ1knSz3P21A",
        "outputId": "851d3d1e-f90f-4d4b-a59f-5add39e40db8"
      },
      "outputs": [
        {
          "data": {
            "text/plain": [
              "0    very good\n",
              "1         good\n",
              "2         good\n",
              "3    very good\n",
              "4    very good\n",
              "5     very bad\n",
              "Name: grade, dtype: category\n",
              "Categories (5, object): [very bad, bad, medium, good, very good]"
            ]
          },
          "execution_count": 111,
          "metadata": {
            "tags": []
          },
          "output_type": "execute_result"
        }
      ],
      "source": [
        "df[\"grade\"]"
      ]
    },
    {
      "cell_type": "markdown",
      "metadata": {
        "id": "lF3CajjpP21M"
      },
      "source": [
        "A ordenação é por ordem nas categorias, não por ordem lexical."
      ]
    },
    {
      "cell_type": "code",
      "execution_count": null,
      "metadata": {
        "colab": {
          "base_uri": "https://localhost:8080/",
          "height": 225
        },
        "id": "PvSh2rTLP21P",
        "outputId": "180dbb3b-b4d7-4c69-b71a-125ba3111371"
      },
      "outputs": [
        {
          "data": {
            "text/html": [
              "<div>\n",
              "<style scoped>\n",
              "    .dataframe tbody tr th:only-of-type {\n",
              "        vertical-align: middle;\n",
              "    }\n",
              "\n",
              "    .dataframe tbody tr th {\n",
              "        vertical-align: top;\n",
              "    }\n",
              "\n",
              "    .dataframe thead th {\n",
              "        text-align: right;\n",
              "    }\n",
              "</style>\n",
              "<table border=\"1\" class=\"dataframe\">\n",
              "  <thead>\n",
              "    <tr style=\"text-align: right;\">\n",
              "      <th></th>\n",
              "      <th>id</th>\n",
              "      <th>raw_grade</th>\n",
              "      <th>grade</th>\n",
              "    </tr>\n",
              "  </thead>\n",
              "  <tbody>\n",
              "    <tr>\n",
              "      <th>5</th>\n",
              "      <td>6</td>\n",
              "      <td>e</td>\n",
              "      <td>very bad</td>\n",
              "    </tr>\n",
              "    <tr>\n",
              "      <th>1</th>\n",
              "      <td>2</td>\n",
              "      <td>b</td>\n",
              "      <td>good</td>\n",
              "    </tr>\n",
              "    <tr>\n",
              "      <th>2</th>\n",
              "      <td>3</td>\n",
              "      <td>b</td>\n",
              "      <td>good</td>\n",
              "    </tr>\n",
              "    <tr>\n",
              "      <th>0</th>\n",
              "      <td>1</td>\n",
              "      <td>a</td>\n",
              "      <td>very good</td>\n",
              "    </tr>\n",
              "    <tr>\n",
              "      <th>3</th>\n",
              "      <td>4</td>\n",
              "      <td>a</td>\n",
              "      <td>very good</td>\n",
              "    </tr>\n",
              "    <tr>\n",
              "      <th>4</th>\n",
              "      <td>5</td>\n",
              "      <td>a</td>\n",
              "      <td>very good</td>\n",
              "    </tr>\n",
              "  </tbody>\n",
              "</table>\n",
              "</div>"
            ],
            "text/plain": [
              "   id raw_grade      grade\n",
              "5   6         e   very bad\n",
              "1   2         b       good\n",
              "2   3         b       good\n",
              "0   1         a  very good\n",
              "3   4         a  very good\n",
              "4   5         a  very good"
            ]
          },
          "execution_count": 112,
          "metadata": {
            "tags": []
          },
          "output_type": "execute_result"
        }
      ],
      "source": [
        "df.sort_values(by=\"grade\")"
      ]
    },
    {
      "cell_type": "markdown",
      "metadata": {
        "id": "ysktWta7P21V"
      },
      "source": [
        "O resultado de um agrupamento por uma coluna categórica também mostra categorias vazias."
      ]
    },
    {
      "cell_type": "code",
      "execution_count": null,
      "metadata": {
        "colab": {
          "base_uri": "https://localhost:8080/"
        },
        "id": "LQOBDPHUP21X",
        "outputId": "5d8ef5ff-1775-4c98-d279-4b0ff0a494bd"
      },
      "outputs": [
        {
          "data": {
            "text/plain": [
              "grade\n",
              "very bad     1\n",
              "bad          0\n",
              "medium       0\n",
              "good         2\n",
              "very good    3\n",
              "dtype: int64"
            ]
          },
          "execution_count": 113,
          "metadata": {
            "tags": []
          },
          "output_type": "execute_result"
        }
      ],
      "source": [
        "df.groupby(\"grade\").size()"
      ]
    },
    {
      "cell_type": "markdown",
      "metadata": {
        "id": "_toNpYNbP21e"
      },
      "source": [
        "## Visualização gráfica dos dados (plotagem\n",
        "\n",
        "Visite a seção [Plotting](http://pandas.pydata.org/pandas-docs/stable/visualization.html#visualization) da documentação do pandas."
      ]
    },
    {
      "cell_type": "code",
      "execution_count": null,
      "metadata": {
        "id": "8bajP2bBP21i"
      },
      "outputs": [],
      "source": [
        "ts = pd.Series(np.random.randn(1000), index=pd.date_range('1/1/2000', periods=1000))"
      ]
    },
    {
      "cell_type": "code",
      "execution_count": null,
      "metadata": {
        "id": "tbF9FjoIP21r"
      },
      "outputs": [],
      "source": [
        "ts = ts.cumsum()"
      ]
    },
    {
      "cell_type": "code",
      "execution_count": null,
      "metadata": {
        "colab": {
          "base_uri": "https://localhost:8080/",
          "height": 297
        },
        "id": "L-pcDaiuP21y",
        "outputId": "87f9933a-a034-4e31-f761-b914edfb83a7"
      },
      "outputs": [
        {
          "data": {
            "text/plain": [
              "<matplotlib.axes._subplots.AxesSubplot at 0x7fcdb3c8e6d0>"
            ]
          },
          "execution_count": 116,
          "metadata": {
            "tags": []
          },
          "output_type": "execute_result"
        },
        {
          "data": {
            "image/png": "[encoded data removed]",
            "text/plain": [
              "<Figure size 432x288 with 1 Axes>"
            ]
          },
          "metadata": {
            "tags": []
          },
          "output_type": "display_data"
        }
      ],
      "source": [
        "ts.plot()"
      ]
    },
    {
      "cell_type": "markdown",
      "metadata": {
        "id": "Neuu7RbDP216"
      },
      "source": [
        "No DataFrame, a função plot() nos permite plotar todas as colunas com rótulos:"
      ]
    },
    {
      "cell_type": "code",
      "execution_count": null,
      "metadata": {
        "id": "DSLDHQAiP22J"
      },
      "outputs": [],
      "source": [
        "df = pd.DataFrame(np.random.randn(1000, 4), index=ts.index,\n",
        "                  columns=['A', 'B', 'C', 'D'])"
      ]
    },
    {
      "cell_type": "code",
      "execution_count": null,
      "metadata": {
        "id": "gmljHcYtP22R"
      },
      "outputs": [],
      "source": [
        "df = df.cumsum()"
      ]
    },
    {
      "cell_type": "code",
      "execution_count": null,
      "metadata": {
        "colab": {
          "base_uri": "https://localhost:8080/",
          "height": 314
        },
        "id": "GxmaJga1P22n",
        "outputId": "b68ae795-222a-45de-c6f8-4b82d086ea2a"
      },
      "outputs": [
        {
          "data": {
            "text/plain": [
              "<matplotlib.legend.Legend at 0x7fcdb13898d0>"
            ]
          },
          "execution_count": 119,
          "metadata": {
            "tags": []
          },
          "output_type": "execute_result"
        },
        {
          "data": {
            "text/plain": [
              "<Figure size 432x288 with 0 Axes>"
            ]
          },
          "metadata": {
            "tags": []
          },
          "output_type": "display_data"
        },
        {
          "data": {
            "image/png": "[encoded data removed]",
            "text/plain": [
              "<Figure size 432x288 with 1 Axes>"
            ]
          },
          "metadata": {
            "tags": []
          },
          "output_type": "display_data"
        }
      ],
      "source": [
        "plt.figure(); df.plot(); plt.legend(loc='best')"
      ]
    },
    {
      "cell_type": "markdown",
      "metadata": {
        "id": "YjOEiK2KP22t"
      },
      "source": [
        "## Getting Data In/Out"
      ]
    },
    {
      "cell_type": "markdown",
      "metadata": {
        "id": "B26NI3yAP22v"
      },
      "source": [
        "### CSV\n",
        "[Escrevendo em um aquivo CSV](http://pandas.pydata.org/pandas-docs/stable/io.html#io-store-in-csv)"
      ]
    },
    {
      "cell_type": "code",
      "execution_count": null,
      "metadata": {
        "id": "zTbWWZufP22x"
      },
      "outputs": [],
      "source": [
        "df.to_csv('foo.csv')"
      ]
    },
    {
      "cell_type": "markdown",
      "metadata": {
        "id": "zhMkuq4vP223"
      },
      "source": [
        "[Lendo de um arquivo csv](http://pandas.pydata.org/pandas-docs/stable/io.html#io-read-csv-table)"
      ]
    },
    {
      "cell_type": "code",
      "execution_count": null,
      "metadata": {
        "colab": {
          "base_uri": "https://localhost:8080/",
          "height": 1000
        },
        "id": "aUtso241P224",
        "outputId": "e9add274-71c1-453c-efd1-874666e311e8"
      },
      "outputs": [
        {
          "data": {
            "text/html": [
              "<div>\n",
              "<style scoped>\n",
              "    .dataframe tbody tr th:only-of-type {\n",
              "        vertical-align: middle;\n",
              "    }\n",
              "\n",
              "    .dataframe tbody tr th {\n",
              "        vertical-align: top;\n",
              "    }\n",
              "\n",
              "    .dataframe thead th {\n",
              "        text-align: right;\n",
              "    }\n",
              "</style>\n",
              "<table border=\"1\" class=\"dataframe\">\n",
              "  <thead>\n",
              "    <tr style=\"text-align: right;\">\n",
              "      <th></th>\n",
              "      <th>Unnamed: 0</th>\n",
              "      <th>A</th>\n",
              "      <th>B</th>\n",
              "      <th>C</th>\n",
              "      <th>D</th>\n",
              "    </tr>\n",
              "  </thead>\n",
              "  <tbody>\n",
              "    <tr>\n",
              "      <th>0</th>\n",
              "      <td>2000-01-01</td>\n",
              "      <td>-1.477020</td>\n",
              "      <td>-0.527529</td>\n",
              "      <td>-0.036027</td>\n",
              "      <td>0.784341</td>\n",
              "    </tr>\n",
              "    <tr>\n",
              "      <th>1</th>\n",
              "      <td>2000-01-02</td>\n",
              "      <td>-0.311771</td>\n",
              "      <td>-1.098093</td>\n",
              "      <td>-1.543949</td>\n",
              "      <td>0.592547</td>\n",
              "    </tr>\n",
              "    <tr>\n",
              "      <th>2</th>\n",
              "      <td>2000-01-03</td>\n",
              "      <td>-1.253529</td>\n",
              "      <td>-1.646134</td>\n",
              "      <td>0.226626</td>\n",
              "      <td>0.632994</td>\n",
              "    </tr>\n",
              "    <tr>\n",
              "      <th>3</th>\n",
              "      <td>2000-01-04</td>\n",
              "      <td>-2.552555</td>\n",
              "      <td>-0.401140</td>\n",
              "      <td>1.407640</td>\n",
              "      <td>0.666701</td>\n",
              "    </tr>\n",
              "    <tr>\n",
              "      <th>4</th>\n",
              "      <td>2000-01-05</td>\n",
              "      <td>-2.442198</td>\n",
              "      <td>-0.606283</td>\n",
              "      <td>1.606549</td>\n",
              "      <td>0.476352</td>\n",
              "    </tr>\n",
              "    <tr>\n",
              "      <th>5</th>\n",
              "      <td>2000-01-06</td>\n",
              "      <td>-3.694426</td>\n",
              "      <td>-1.054839</td>\n",
              "      <td>0.633908</td>\n",
              "      <td>0.787278</td>\n",
              "    </tr>\n",
              "    <tr>\n",
              "      <th>6</th>\n",
              "      <td>2000-01-07</td>\n",
              "      <td>-4.833544</td>\n",
              "      <td>-1.097215</td>\n",
              "      <td>0.214558</td>\n",
              "      <td>0.452135</td>\n",
              "    </tr>\n",
              "    <tr>\n",
              "      <th>7</th>\n",
              "      <td>2000-01-08</td>\n",
              "      <td>-5.633861</td>\n",
              "      <td>-1.555339</td>\n",
              "      <td>0.522771</td>\n",
              "      <td>0.556776</td>\n",
              "    </tr>\n",
              "    <tr>\n",
              "      <th>8</th>\n",
              "      <td>2000-01-09</td>\n",
              "      <td>-7.107693</td>\n",
              "      <td>-1.377898</td>\n",
              "      <td>0.857425</td>\n",
              "      <td>0.081930</td>\n",
              "    </tr>\n",
              "    <tr>\n",
              "      <th>9</th>\n",
              "      <td>2000-01-10</td>\n",
              "      <td>-5.168906</td>\n",
              "      <td>-0.670639</td>\n",
              "      <td>0.925410</td>\n",
              "      <td>-0.312119</td>\n",
              "    </tr>\n",
              "    <tr>\n",
              "      <th>10</th>\n",
              "      <td>2000-01-11</td>\n",
              "      <td>-5.631806</td>\n",
              "      <td>-0.817775</td>\n",
              "      <td>-0.180806</td>\n",
              "      <td>-0.327483</td>\n",
              "    </tr>\n",
              "    <tr>\n",
              "      <th>11</th>\n",
              "      <td>2000-01-12</td>\n",
              "      <td>-4.528715</td>\n",
              "      <td>-0.732561</td>\n",
              "      <td>-0.391951</td>\n",
              "      <td>0.333096</td>\n",
              "    </tr>\n",
              "    <tr>\n",
              "      <th>12</th>\n",
              "      <td>2000-01-13</td>\n",
              "      <td>-4.036885</td>\n",
              "      <td>-1.014247</td>\n",
              "      <td>-0.066303</td>\n",
              "      <td>0.233355</td>\n",
              "    </tr>\n",
              "    <tr>\n",
              "      <th>13</th>\n",
              "      <td>2000-01-14</td>\n",
              "      <td>-4.285021</td>\n",
              "      <td>-0.328730</td>\n",
              "      <td>-0.370302</td>\n",
              "      <td>0.199103</td>\n",
              "    </tr>\n",
              "    <tr>\n",
              "      <th>14</th>\n",
              "      <td>2000-01-15</td>\n",
              "      <td>-5.863973</td>\n",
              "      <td>-0.716161</td>\n",
              "      <td>-1.727700</td>\n",
              "      <td>-0.935397</td>\n",
              "    </tr>\n",
              "    <tr>\n",
              "      <th>15</th>\n",
              "      <td>2000-01-16</td>\n",
              "      <td>-6.600670</td>\n",
              "      <td>-1.311529</td>\n",
              "      <td>-2.491114</td>\n",
              "      <td>-0.527505</td>\n",
              "    </tr>\n",
              "    <tr>\n",
              "      <th>16</th>\n",
              "      <td>2000-01-17</td>\n",
              "      <td>-7.900888</td>\n",
              "      <td>-1.555013</td>\n",
              "      <td>-3.226951</td>\n",
              "      <td>0.137687</td>\n",
              "    </tr>\n",
              "    <tr>\n",
              "      <th>17</th>\n",
              "      <td>2000-01-18</td>\n",
              "      <td>-8.185424</td>\n",
              "      <td>-1.179048</td>\n",
              "      <td>-4.405749</td>\n",
              "      <td>-0.614204</td>\n",
              "    </tr>\n",
              "    <tr>\n",
              "      <th>18</th>\n",
              "      <td>2000-01-19</td>\n",
              "      <td>-6.960213</td>\n",
              "      <td>-0.701734</td>\n",
              "      <td>-5.022709</td>\n",
              "      <td>-0.596623</td>\n",
              "    </tr>\n",
              "    <tr>\n",
              "      <th>19</th>\n",
              "      <td>2000-01-20</td>\n",
              "      <td>-8.213977</td>\n",
              "      <td>-0.875634</td>\n",
              "      <td>-5.219667</td>\n",
              "      <td>-0.085907</td>\n",
              "    </tr>\n",
              "    <tr>\n",
              "      <th>20</th>\n",
              "      <td>2000-01-21</td>\n",
              "      <td>-7.755342</td>\n",
              "      <td>-1.133396</td>\n",
              "      <td>-4.312365</td>\n",
              "      <td>-2.120063</td>\n",
              "    </tr>\n",
              "    <tr>\n",
              "      <th>21</th>\n",
              "      <td>2000-01-22</td>\n",
              "      <td>-5.824708</td>\n",
              "      <td>-0.932780</td>\n",
              "      <td>-3.511975</td>\n",
              "      <td>-2.636282</td>\n",
              "    </tr>\n",
              "    <tr>\n",
              "      <th>22</th>\n",
              "      <td>2000-01-23</td>\n",
              "      <td>-4.722663</td>\n",
              "      <td>-1.220231</td>\n",
              "      <td>-5.064615</td>\n",
              "      <td>-3.161963</td>\n",
              "    </tr>\n",
              "    <tr>\n",
              "      <th>23</th>\n",
              "      <td>2000-01-24</td>\n",
              "      <td>-4.903891</td>\n",
              "      <td>-2.193689</td>\n",
              "      <td>-3.491779</td>\n",
              "      <td>-2.889865</td>\n",
              "    </tr>\n",
              "    <tr>\n",
              "      <th>24</th>\n",
              "      <td>2000-01-25</td>\n",
              "      <td>-4.461841</td>\n",
              "      <td>-2.882504</td>\n",
              "      <td>-4.135228</td>\n",
              "      <td>-3.067188</td>\n",
              "    </tr>\n",
              "    <tr>\n",
              "      <th>25</th>\n",
              "      <td>2000-01-26</td>\n",
              "      <td>-3.319641</td>\n",
              "      <td>-2.282706</td>\n",
              "      <td>-2.929683</td>\n",
              "      <td>-3.221025</td>\n",
              "    </tr>\n",
              "    <tr>\n",
              "      <th>26</th>\n",
              "      <td>2000-01-27</td>\n",
              "      <td>-3.895894</td>\n",
              "      <td>-2.596585</td>\n",
              "      <td>-3.270967</td>\n",
              "      <td>-3.246774</td>\n",
              "    </tr>\n",
              "    <tr>\n",
              "      <th>27</th>\n",
              "      <td>2000-01-28</td>\n",
              "      <td>-4.320790</td>\n",
              "      <td>-2.732788</td>\n",
              "      <td>-2.797245</td>\n",
              "      <td>-3.726529</td>\n",
              "    </tr>\n",
              "    <tr>\n",
              "      <th>28</th>\n",
              "      <td>2000-01-29</td>\n",
              "      <td>-2.927793</td>\n",
              "      <td>-1.591465</td>\n",
              "      <td>-1.086487</td>\n",
              "      <td>-5.112578</td>\n",
              "    </tr>\n",
              "    <tr>\n",
              "      <th>29</th>\n",
              "      <td>2000-01-30</td>\n",
              "      <td>-2.098786</td>\n",
              "      <td>-2.488066</td>\n",
              "      <td>-0.804424</td>\n",
              "      <td>-6.249397</td>\n",
              "    </tr>\n",
              "    <tr>\n",
              "      <th>...</th>\n",
              "      <td>...</td>\n",
              "      <td>...</td>\n",
              "      <td>...</td>\n",
              "      <td>...</td>\n",
              "      <td>...</td>\n",
              "    </tr>\n",
              "    <tr>\n",
              "      <th>970</th>\n",
              "      <td>2002-08-28</td>\n",
              "      <td>2.259311</td>\n",
              "      <td>45.130141</td>\n",
              "      <td>-19.692639</td>\n",
              "      <td>-39.176207</td>\n",
              "    </tr>\n",
              "    <tr>\n",
              "      <th>971</th>\n",
              "      <td>2002-08-29</td>\n",
              "      <td>3.387657</td>\n",
              "      <td>45.139104</td>\n",
              "      <td>-18.819457</td>\n",
              "      <td>-39.078879</td>\n",
              "    </tr>\n",
              "    <tr>\n",
              "      <th>972</th>\n",
              "      <td>2002-08-30</td>\n",
              "      <td>2.524330</td>\n",
              "      <td>44.562304</td>\n",
              "      <td>-19.751202</td>\n",
              "      <td>-40.391036</td>\n",
              "    </tr>\n",
              "    <tr>\n",
              "      <th>973</th>\n",
              "      <td>2002-08-31</td>\n",
              "      <td>2.379595</td>\n",
              "      <td>44.165152</td>\n",
              "      <td>-20.950253</td>\n",
              "      <td>-40.856768</td>\n",
              "    </tr>\n",
              "    <tr>\n",
              "      <th>974</th>\n",
              "      <td>2002-09-01</td>\n",
              "      <td>3.116566</td>\n",
              "      <td>46.244133</td>\n",
              "      <td>-18.912162</td>\n",
              "      <td>-41.774556</td>\n",
              "    </tr>\n",
              "    <tr>\n",
              "      <th>975</th>\n",
              "      <td>2002-09-02</td>\n",
              "      <td>3.735474</td>\n",
              "      <td>46.113884</td>\n",
              "      <td>-18.154587</td>\n",
              "      <td>-40.902224</td>\n",
              "    </tr>\n",
              "    <tr>\n",
              "      <th>976</th>\n",
              "      <td>2002-09-03</td>\n",
              "      <td>3.210302</td>\n",
              "      <td>45.281658</td>\n",
              "      <td>-17.348647</td>\n",
              "      <td>-40.358695</td>\n",
              "    </tr>\n",
              "    <tr>\n",
              "      <th>977</th>\n",
              "      <td>2002-09-04</td>\n",
              "      <td>3.392476</td>\n",
              "      <td>44.506133</td>\n",
              "      <td>-16.914733</td>\n",
              "      <td>-41.096192</td>\n",
              "    </tr>\n",
              "    <tr>\n",
              "      <th>978</th>\n",
              "      <td>2002-09-05</td>\n",
              "      <td>0.636469</td>\n",
              "      <td>44.408066</td>\n",
              "      <td>-18.184979</td>\n",
              "      <td>-39.704831</td>\n",
              "    </tr>\n",
              "    <tr>\n",
              "      <th>979</th>\n",
              "      <td>2002-09-06</td>\n",
              "      <td>-1.513000</td>\n",
              "      <td>44.860149</td>\n",
              "      <td>-19.374962</td>\n",
              "      <td>-39.087302</td>\n",
              "    </tr>\n",
              "    <tr>\n",
              "      <th>980</th>\n",
              "      <td>2002-09-07</td>\n",
              "      <td>0.324473</td>\n",
              "      <td>44.792172</td>\n",
              "      <td>-19.563523</td>\n",
              "      <td>-38.801555</td>\n",
              "    </tr>\n",
              "    <tr>\n",
              "      <th>981</th>\n",
              "      <td>2002-09-08</td>\n",
              "      <td>-0.040550</td>\n",
              "      <td>45.142953</td>\n",
              "      <td>-18.823901</td>\n",
              "      <td>-39.708270</td>\n",
              "    </tr>\n",
              "    <tr>\n",
              "      <th>982</th>\n",
              "      <td>2002-09-09</td>\n",
              "      <td>1.057410</td>\n",
              "      <td>47.372522</td>\n",
              "      <td>-19.608536</td>\n",
              "      <td>-39.024438</td>\n",
              "    </tr>\n",
              "    <tr>\n",
              "      <th>983</th>\n",
              "      <td>2002-09-10</td>\n",
              "      <td>0.081595</td>\n",
              "      <td>48.802213</td>\n",
              "      <td>-18.897118</td>\n",
              "      <td>-39.888005</td>\n",
              "    </tr>\n",
              "    <tr>\n",
              "      <th>984</th>\n",
              "      <td>2002-09-11</td>\n",
              "      <td>1.272865</td>\n",
              "      <td>48.039290</td>\n",
              "      <td>-19.299100</td>\n",
              "      <td>-39.621758</td>\n",
              "    </tr>\n",
              "    <tr>\n",
              "      <th>985</th>\n",
              "      <td>2002-09-12</td>\n",
              "      <td>1.258910</td>\n",
              "      <td>47.626425</td>\n",
              "      <td>-21.875000</td>\n",
              "      <td>-38.201059</td>\n",
              "    </tr>\n",
              "    <tr>\n",
              "      <th>986</th>\n",
              "      <td>2002-09-13</td>\n",
              "      <td>2.048806</td>\n",
              "      <td>46.374573</td>\n",
              "      <td>-20.847134</td>\n",
              "      <td>-39.295497</td>\n",
              "    </tr>\n",
              "    <tr>\n",
              "      <th>987</th>\n",
              "      <td>2002-09-14</td>\n",
              "      <td>1.576396</td>\n",
              "      <td>45.338543</td>\n",
              "      <td>-19.746102</td>\n",
              "      <td>-39.785541</td>\n",
              "    </tr>\n",
              "    <tr>\n",
              "      <th>988</th>\n",
              "      <td>2002-09-15</td>\n",
              "      <td>1.473485</td>\n",
              "      <td>48.003426</td>\n",
              "      <td>-20.712401</td>\n",
              "      <td>-39.591811</td>\n",
              "    </tr>\n",
              "    <tr>\n",
              "      <th>989</th>\n",
              "      <td>2002-09-16</td>\n",
              "      <td>2.725016</td>\n",
              "      <td>47.913844</td>\n",
              "      <td>-19.926838</td>\n",
              "      <td>-40.409593</td>\n",
              "    </tr>\n",
              "    <tr>\n",
              "      <th>990</th>\n",
              "      <td>2002-09-17</td>\n",
              "      <td>2.880763</td>\n",
              "      <td>47.524985</td>\n",
              "      <td>-20.083093</td>\n",
              "      <td>-38.767505</td>\n",
              "    </tr>\n",
              "    <tr>\n",
              "      <th>991</th>\n",
              "      <td>2002-09-18</td>\n",
              "      <td>4.501894</td>\n",
              "      <td>48.607696</td>\n",
              "      <td>-20.891093</td>\n",
              "      <td>-39.361209</td>\n",
              "    </tr>\n",
              "    <tr>\n",
              "      <th>992</th>\n",
              "      <td>2002-09-19</td>\n",
              "      <td>5.161062</td>\n",
              "      <td>48.730677</td>\n",
              "      <td>-19.981360</td>\n",
              "      <td>-38.015424</td>\n",
              "    </tr>\n",
              "    <tr>\n",
              "      <th>993</th>\n",
              "      <td>2002-09-20</td>\n",
              "      <td>5.845148</td>\n",
              "      <td>47.605847</td>\n",
              "      <td>-19.558731</td>\n",
              "      <td>-37.413373</td>\n",
              "    </tr>\n",
              "    <tr>\n",
              "      <th>994</th>\n",
              "      <td>2002-09-21</td>\n",
              "      <td>4.121585</td>\n",
              "      <td>47.252611</td>\n",
              "      <td>-18.672245</td>\n",
              "      <td>-38.407171</td>\n",
              "    </tr>\n",
              "    <tr>\n",
              "      <th>995</th>\n",
              "      <td>2002-09-22</td>\n",
              "      <td>3.242136</td>\n",
              "      <td>46.532894</td>\n",
              "      <td>-17.384664</td>\n",
              "      <td>-37.505430</td>\n",
              "    </tr>\n",
              "    <tr>\n",
              "      <th>996</th>\n",
              "      <td>2002-09-23</td>\n",
              "      <td>2.344230</td>\n",
              "      <td>46.371375</td>\n",
              "      <td>-18.172075</td>\n",
              "      <td>-38.156979</td>\n",
              "    </tr>\n",
              "    <tr>\n",
              "      <th>997</th>\n",
              "      <td>2002-09-24</td>\n",
              "      <td>1.197374</td>\n",
              "      <td>46.034344</td>\n",
              "      <td>-19.109790</td>\n",
              "      <td>-36.742475</td>\n",
              "    </tr>\n",
              "    <tr>\n",
              "      <th>998</th>\n",
              "      <td>2002-09-25</td>\n",
              "      <td>1.768192</td>\n",
              "      <td>46.346920</td>\n",
              "      <td>-18.501118</td>\n",
              "      <td>-35.944919</td>\n",
              "    </tr>\n",
              "    <tr>\n",
              "      <th>999</th>\n",
              "      <td>2002-09-26</td>\n",
              "      <td>2.453351</td>\n",
              "      <td>44.887244</td>\n",
              "      <td>-18.553375</td>\n",
              "      <td>-35.320342</td>\n",
              "    </tr>\n",
              "  </tbody>\n",
              "</table>\n",
              "<p>1000 rows × 5 columns</p>\n",
              "</div>"
            ],
            "text/plain": [
              "     Unnamed: 0         A          B          C          D\n",
              "0    2000-01-01 -1.477020  -0.527529  -0.036027   0.784341\n",
              "1    2000-01-02 -0.311771  -1.098093  -1.543949   0.592547\n",
              "2    2000-01-03 -1.253529  -1.646134   0.226626   0.632994\n",
              "3    2000-01-04 -2.552555  -0.401140   1.407640   0.666701\n",
              "4    2000-01-05 -2.442198  -0.606283   1.606549   0.476352\n",
              "5    2000-01-06 -3.694426  -1.054839   0.633908   0.787278\n",
              "6    2000-01-07 -4.833544  -1.097215   0.214558   0.452135\n",
              "7    2000-01-08 -5.633861  -1.555339   0.522771   0.556776\n",
              "8    2000-01-09 -7.107693  -1.377898   0.857425   0.081930\n",
              "9    2000-01-10 -5.168906  -0.670639   0.925410  -0.312119\n",
              "10   2000-01-11 -5.631806  -0.817775  -0.180806  -0.327483\n",
              "11   2000-01-12 -4.528715  -0.732561  -0.391951   0.333096\n",
              "12   2000-01-13 -4.036885  -1.014247  -0.066303   0.233355\n",
              "13   2000-01-14 -4.285021  -0.328730  -0.370302   0.199103\n",
              "14   2000-01-15 -5.863973  -0.716161  -1.727700  -0.935397\n",
              "15   2000-01-16 -6.600670  -1.311529  -2.491114  -0.527505\n",
              "16   2000-01-17 -7.900888  -1.555013  -3.226951   0.137687\n",
              "17   2000-01-18 -8.185424  -1.179048  -4.405749  -0.614204\n",
              "18   2000-01-19 -6.960213  -0.701734  -5.022709  -0.596623\n",
              "19   2000-01-20 -8.213977  -0.875634  -5.219667  -0.085907\n",
              "20   2000-01-21 -7.755342  -1.133396  -4.312365  -2.120063\n",
              "21   2000-01-22 -5.824708  -0.932780  -3.511975  -2.636282\n",
              "22   2000-01-23 -4.722663  -1.220231  -5.064615  -3.161963\n",
              "23   2000-01-24 -4.903891  -2.193689  -3.491779  -2.889865\n",
              "24   2000-01-25 -4.461841  -2.882504  -4.135228  -3.067188\n",
              "25   2000-01-26 -3.319641  -2.282706  -2.929683  -3.221025\n",
              "26   2000-01-27 -3.895894  -2.596585  -3.270967  -3.246774\n",
              "27   2000-01-28 -4.320790  -2.732788  -2.797245  -3.726529\n",
              "28   2000-01-29 -2.927793  -1.591465  -1.086487  -5.112578\n",
              "29   2000-01-30 -2.098786  -2.488066  -0.804424  -6.249397\n",
              "..          ...       ...        ...        ...        ...\n",
              "970  2002-08-28  2.259311  45.130141 -19.692639 -39.176207\n",
              "971  2002-08-29  3.387657  45.139104 -18.819457 -39.078879\n",
              "972  2002-08-30  2.524330  44.562304 -19.751202 -40.391036\n",
              "973  2002-08-31  2.379595  44.165152 -20.950253 -40.856768\n",
              "974  2002-09-01  3.116566  46.244133 -18.912162 -41.774556\n",
              "975  2002-09-02  3.735474  46.113884 -18.154587 -40.902224\n",
              "976  2002-09-03  3.210302  45.281658 -17.348647 -40.358695\n",
              "977  2002-09-04  3.392476  44.506133 -16.914733 -41.096192\n",
              "978  2002-09-05  0.636469  44.408066 -18.184979 -39.704831\n",
              "979  2002-09-06 -1.513000  44.860149 -19.374962 -39.087302\n",
              "980  2002-09-07  0.324473  44.792172 -19.563523 -38.801555\n",
              "981  2002-09-08 -0.040550  45.142953 -18.823901 -39.708270\n",
              "982  2002-09-09  1.057410  47.372522 -19.608536 -39.024438\n",
              "983  2002-09-10  0.081595  48.802213 -18.897118 -39.888005\n",
              "984  2002-09-11  1.272865  48.039290 -19.299100 -39.621758\n",
              "985  2002-09-12  1.258910  47.626425 -21.875000 -38.201059\n",
              "986  2002-09-13  2.048806  46.374573 -20.847134 -39.295497\n",
              "987  2002-09-14  1.576396  45.338543 -19.746102 -39.785541\n",
              "988  2002-09-15  1.473485  48.003426 -20.712401 -39.591811\n",
              "989  2002-09-16  2.725016  47.913844 -19.926838 -40.409593\n",
              "990  2002-09-17  2.880763  47.524985 -20.083093 -38.767505\n",
              "991  2002-09-18  4.501894  48.607696 -20.891093 -39.361209\n",
              "992  2002-09-19  5.161062  48.730677 -19.981360 -38.015424\n",
              "993  2002-09-20  5.845148  47.605847 -19.558731 -37.413373\n",
              "994  2002-09-21  4.121585  47.252611 -18.672245 -38.407171\n",
              "995  2002-09-22  3.242136  46.532894 -17.384664 -37.505430\n",
              "996  2002-09-23  2.344230  46.371375 -18.172075 -38.156979\n",
              "997  2002-09-24  1.197374  46.034344 -19.109790 -36.742475\n",
              "998  2002-09-25  1.768192  46.346920 -18.501118 -35.944919\n",
              "999  2002-09-26  2.453351  44.887244 -18.553375 -35.320342\n",
              "\n",
              "[1000 rows x 5 columns]"
            ]
          },
          "execution_count": 121,
          "metadata": {
            "tags": []
          },
          "output_type": "execute_result"
        }
      ],
      "source": [
        "pd.read_csv('foo.csv')"
      ]
    },
    {
      "cell_type": "markdown",
      "metadata": {
        "id": "h1upsa0_P22-"
      },
      "source": [
        "### HDF5\n",
        "Lendo e escrevendo em [HDFStores](http://pandas.pydata.org/pandas-docs/stable/io.html#io-hdf5)\n",
        "\n",
        "Escrevendo em um HDF5"
      ]
    },
    {
      "cell_type": "code",
      "execution_count": null,
      "metadata": {
        "id": "OCroul7qP23A"
      },
      "outputs": [],
      "source": [
        "df.to_hdf('foo.h5','df')"
      ]
    },
    {
      "cell_type": "markdown",
      "metadata": {
        "id": "t0WSte4GP23M"
      },
      "source": [
        "Lendo de um HDF5 "
      ]
    },
    {
      "cell_type": "code",
      "execution_count": null,
      "metadata": {
        "colab": {
          "base_uri": "https://localhost:8080/",
          "height": 1000
        },
        "id": "rd-ReIpJP23P",
        "outputId": "7bcd1d73-c627-4de9-c2eb-57af8c178a58"
      },
      "outputs": [
        {
          "data": {
            "text/html": [
              "<div>\n",
              "<style scoped>\n",
              "    .dataframe tbody tr th:only-of-type {\n",
              "        vertical-align: middle;\n",
              "    }\n",
              "\n",
              "    .dataframe tbody tr th {\n",
              "        vertical-align: top;\n",
              "    }\n",
              "\n",
              "    .dataframe thead th {\n",
              "        text-align: right;\n",
              "    }\n",
              "</style>\n",
              "<table border=\"1\" class=\"dataframe\">\n",
              "  <thead>\n",
              "    <tr style=\"text-align: right;\">\n",
              "      <th></th>\n",
              "      <th>A</th>\n",
              "      <th>B</th>\n",
              "      <th>C</th>\n",
              "      <th>D</th>\n",
              "    </tr>\n",
              "  </thead>\n",
              "  <tbody>\n",
              "    <tr>\n",
              "      <th>2000-01-01</th>\n",
              "      <td>-1.477020</td>\n",
              "      <td>-0.527529</td>\n",
              "      <td>-0.036027</td>\n",
              "      <td>0.784341</td>\n",
              "    </tr>\n",
              "    <tr>\n",
              "      <th>2000-01-02</th>\n",
              "      <td>-0.311771</td>\n",
              "      <td>-1.098093</td>\n",
              "      <td>-1.543949</td>\n",
              "      <td>0.592547</td>\n",
              "    </tr>\n",
              "    <tr>\n",
              "      <th>2000-01-03</th>\n",
              "      <td>-1.253529</td>\n",
              "      <td>-1.646134</td>\n",
              "      <td>0.226626</td>\n",
              "      <td>0.632994</td>\n",
              "    </tr>\n",
              "    <tr>\n",
              "      <th>2000-01-04</th>\n",
              "      <td>-2.552555</td>\n",
              "      <td>-0.401140</td>\n",
              "      <td>1.407640</td>\n",
              "      <td>0.666701</td>\n",
              "    </tr>\n",
              "    <tr>\n",
              "      <th>2000-01-05</th>\n",
              "      <td>-2.442198</td>\n",
              "      <td>-0.606283</td>\n",
              "      <td>1.606549</td>\n",
              "      <td>0.476352</td>\n",
              "    </tr>\n",
              "    <tr>\n",
              "      <th>2000-01-06</th>\n",
              "      <td>-3.694426</td>\n",
              "      <td>-1.054839</td>\n",
              "      <td>0.633908</td>\n",
              "      <td>0.787278</td>\n",
              "    </tr>\n",
              "    <tr>\n",
              "      <th>2000-01-07</th>\n",
              "      <td>-4.833544</td>\n",
              "      <td>-1.097215</td>\n",
              "      <td>0.214558</td>\n",
              "      <td>0.452135</td>\n",
              "    </tr>\n",
              "    <tr>\n",
              "      <th>2000-01-08</th>\n",
              "      <td>-5.633861</td>\n",
              "      <td>-1.555339</td>\n",
              "      <td>0.522771</td>\n",
              "      <td>0.556776</td>\n",
              "    </tr>\n",
              "    <tr>\n",
              "      <th>2000-01-09</th>\n",
              "      <td>-7.107693</td>\n",
              "      <td>-1.377898</td>\n",
              "      <td>0.857425</td>\n",
              "      <td>0.081930</td>\n",
              "    </tr>\n",
              "    <tr>\n",
              "      <th>2000-01-10</th>\n",
              "      <td>-5.168906</td>\n",
              "      <td>-0.670639</td>\n",
              "      <td>0.925410</td>\n",
              "      <td>-0.312119</td>\n",
              "    </tr>\n",
              "    <tr>\n",
              "      <th>2000-01-11</th>\n",
              "      <td>-5.631806</td>\n",
              "      <td>-0.817775</td>\n",
              "      <td>-0.180806</td>\n",
              "      <td>-0.327483</td>\n",
              "    </tr>\n",
              "    <tr>\n",
              "      <th>2000-01-12</th>\n",
              "      <td>-4.528715</td>\n",
              "      <td>-0.732561</td>\n",
              "      <td>-0.391951</td>\n",
              "      <td>0.333096</td>\n",
              "    </tr>\n",
              "    <tr>\n",
              "      <th>2000-01-13</th>\n",
              "      <td>-4.036885</td>\n",
              "      <td>-1.014247</td>\n",
              "      <td>-0.066303</td>\n",
              "      <td>0.233355</td>\n",
              "    </tr>\n",
              "    <tr>\n",
              "      <th>2000-01-14</th>\n",
              "      <td>-4.285021</td>\n",
              "      <td>-0.328730</td>\n",
              "      <td>-0.370302</td>\n",
              "      <td>0.199103</td>\n",
              "    </tr>\n",
              "    <tr>\n",
              "      <th>2000-01-15</th>\n",
              "      <td>-5.863973</td>\n",
              "      <td>-0.716161</td>\n",
              "      <td>-1.727700</td>\n",
              "      <td>-0.935397</td>\n",
              "    </tr>\n",
              "    <tr>\n",
              "      <th>2000-01-16</th>\n",
              "      <td>-6.600670</td>\n",
              "      <td>-1.311529</td>\n",
              "      <td>-2.491114</td>\n",
              "      <td>-0.527505</td>\n",
              "    </tr>\n",
              "    <tr>\n",
              "      <th>2000-01-17</th>\n",
              "      <td>-7.900888</td>\n",
              "      <td>-1.555013</td>\n",
              "      <td>-3.226951</td>\n",
              "      <td>0.137687</td>\n",
              "    </tr>\n",
              "    <tr>\n",
              "      <th>2000-01-18</th>\n",
              "      <td>-8.185424</td>\n",
              "      <td>-1.179048</td>\n",
              "      <td>-4.405749</td>\n",
              "      <td>-0.614204</td>\n",
              "    </tr>\n",
              "    <tr>\n",
              "      <th>2000-01-19</th>\n",
              "      <td>-6.960213</td>\n",
              "      <td>-0.701734</td>\n",
              "      <td>-5.022709</td>\n",
              "      <td>-0.596623</td>\n",
              "    </tr>\n",
              "    <tr>\n",
              "      <th>2000-01-20</th>\n",
              "      <td>-8.213977</td>\n",
              "      <td>-0.875634</td>\n",
              "      <td>-5.219667</td>\n",
              "      <td>-0.085907</td>\n",
              "    </tr>\n",
              "    <tr>\n",
              "      <th>2000-01-21</th>\n",
              "      <td>-7.755342</td>\n",
              "      <td>-1.133396</td>\n",
              "      <td>-4.312365</td>\n",
              "      <td>-2.120063</td>\n",
              "    </tr>\n",
              "    <tr>\n",
              "      <th>2000-01-22</th>\n",
              "      <td>-5.824708</td>\n",
              "      <td>-0.932780</td>\n",
              "      <td>-3.511975</td>\n",
              "      <td>-2.636282</td>\n",
              "    </tr>\n",
              "    <tr>\n",
              "      <th>2000-01-23</th>\n",
              "      <td>-4.722663</td>\n",
              "      <td>-1.220231</td>\n",
              "      <td>-5.064615</td>\n",
              "      <td>-3.161963</td>\n",
              "    </tr>\n",
              "    <tr>\n",
              "      <th>2000-01-24</th>\n",
              "      <td>-4.903891</td>\n",
              "      <td>-2.193689</td>\n",
              "      <td>-3.491779</td>\n",
              "      <td>-2.889865</td>\n",
              "    </tr>\n",
              "    <tr>\n",
              "      <th>2000-01-25</th>\n",
              "      <td>-4.461841</td>\n",
              "      <td>-2.882504</td>\n",
              "      <td>-4.135228</td>\n",
              "      <td>-3.067188</td>\n",
              "    </tr>\n",
              "    <tr>\n",
              "      <th>2000-01-26</th>\n",
              "      <td>-3.319641</td>\n",
              "      <td>-2.282706</td>\n",
              "      <td>-2.929683</td>\n",
              "      <td>-3.221025</td>\n",
              "    </tr>\n",
              "    <tr>\n",
              "      <th>2000-01-27</th>\n",
              "      <td>-3.895894</td>\n",
              "      <td>-2.596585</td>\n",
              "      <td>-3.270967</td>\n",
              "      <td>-3.246774</td>\n",
              "    </tr>\n",
              "    <tr>\n",
              "      <th>2000-01-28</th>\n",
              "      <td>-4.320790</td>\n",
              "      <td>-2.732788</td>\n",
              "      <td>-2.797245</td>\n",
              "      <td>-3.726529</td>\n",
              "    </tr>\n",
              "    <tr>\n",
              "      <th>2000-01-29</th>\n",
              "      <td>-2.927793</td>\n",
              "      <td>-1.591465</td>\n",
              "      <td>-1.086487</td>\n",
              "      <td>-5.112578</td>\n",
              "    </tr>\n",
              "    <tr>\n",
              "      <th>2000-01-30</th>\n",
              "      <td>-2.098786</td>\n",
              "      <td>-2.488066</td>\n",
              "      <td>-0.804424</td>\n",
              "      <td>-6.249397</td>\n",
              "    </tr>\n",
              "    <tr>\n",
              "      <th>...</th>\n",
              "      <td>...</td>\n",
              "      <td>...</td>\n",
              "      <td>...</td>\n",
              "      <td>...</td>\n",
              "    </tr>\n",
              "    <tr>\n",
              "      <th>2002-08-28</th>\n",
              "      <td>2.259311</td>\n",
              "      <td>45.130141</td>\n",
              "      <td>-19.692639</td>\n",
              "      <td>-39.176207</td>\n",
              "    </tr>\n",
              "    <tr>\n",
              "      <th>2002-08-29</th>\n",
              "      <td>3.387657</td>\n",
              "      <td>45.139104</td>\n",
              "      <td>-18.819457</td>\n",
              "      <td>-39.078879</td>\n",
              "    </tr>\n",
              "    <tr>\n",
              "      <th>2002-08-30</th>\n",
              "      <td>2.524330</td>\n",
              "      <td>44.562304</td>\n",
              "      <td>-19.751202</td>\n",
              "      <td>-40.391036</td>\n",
              "    </tr>\n",
              "    <tr>\n",
              "      <th>2002-08-31</th>\n",
              "      <td>2.379595</td>\n",
              "      <td>44.165152</td>\n",
              "      <td>-20.950253</td>\n",
              "      <td>-40.856768</td>\n",
              "    </tr>\n",
              "    <tr>\n",
              "      <th>2002-09-01</th>\n",
              "      <td>3.116566</td>\n",
              "      <td>46.244133</td>\n",
              "      <td>-18.912162</td>\n",
              "      <td>-41.774556</td>\n",
              "    </tr>\n",
              "    <tr>\n",
              "      <th>2002-09-02</th>\n",
              "      <td>3.735474</td>\n",
              "      <td>46.113884</td>\n",
              "      <td>-18.154587</td>\n",
              "      <td>-40.902224</td>\n",
              "    </tr>\n",
              "    <tr>\n",
              "      <th>2002-09-03</th>\n",
              "      <td>3.210302</td>\n",
              "      <td>45.281658</td>\n",
              "      <td>-17.348647</td>\n",
              "      <td>-40.358695</td>\n",
              "    </tr>\n",
              "    <tr>\n",
              "      <th>2002-09-04</th>\n",
              "      <td>3.392476</td>\n",
              "      <td>44.506133</td>\n",
              "      <td>-16.914733</td>\n",
              "      <td>-41.096192</td>\n",
              "    </tr>\n",
              "    <tr>\n",
              "      <th>2002-09-05</th>\n",
              "      <td>0.636469</td>\n",
              "      <td>44.408066</td>\n",
              "      <td>-18.184979</td>\n",
              "      <td>-39.704831</td>\n",
              "    </tr>\n",
              "    <tr>\n",
              "      <th>2002-09-06</th>\n",
              "      <td>-1.513000</td>\n",
              "      <td>44.860149</td>\n",
              "      <td>-19.374962</td>\n",
              "      <td>-39.087302</td>\n",
              "    </tr>\n",
              "    <tr>\n",
              "      <th>2002-09-07</th>\n",
              "      <td>0.324473</td>\n",
              "      <td>44.792172</td>\n",
              "      <td>-19.563523</td>\n",
              "      <td>-38.801555</td>\n",
              "    </tr>\n",
              "    <tr>\n",
              "      <th>2002-09-08</th>\n",
              "      <td>-0.040550</td>\n",
              "      <td>45.142953</td>\n",
              "      <td>-18.823901</td>\n",
              "      <td>-39.708270</td>\n",
              "    </tr>\n",
              "    <tr>\n",
              "      <th>2002-09-09</th>\n",
              "      <td>1.057410</td>\n",
              "      <td>47.372522</td>\n",
              "      <td>-19.608536</td>\n",
              "      <td>-39.024438</td>\n",
              "    </tr>\n",
              "    <tr>\n",
              "      <th>2002-09-10</th>\n",
              "      <td>0.081595</td>\n",
              "      <td>48.802213</td>\n",
              "      <td>-18.897118</td>\n",
              "      <td>-39.888005</td>\n",
              "    </tr>\n",
              "    <tr>\n",
              "      <th>2002-09-11</th>\n",
              "      <td>1.272865</td>\n",
              "      <td>48.039290</td>\n",
              "      <td>-19.299100</td>\n",
              "      <td>-39.621758</td>\n",
              "    </tr>\n",
              "    <tr>\n",
              "      <th>2002-09-12</th>\n",
              "      <td>1.258910</td>\n",
              "      <td>47.626425</td>\n",
              "      <td>-21.875000</td>\n",
              "      <td>-38.201059</td>\n",
              "    </tr>\n",
              "    <tr>\n",
              "      <th>2002-09-13</th>\n",
              "      <td>2.048806</td>\n",
              "      <td>46.374573</td>\n",
              "      <td>-20.847134</td>\n",
              "      <td>-39.295497</td>\n",
              "    </tr>\n",
              "    <tr>\n",
              "      <th>2002-09-14</th>\n",
              "      <td>1.576396</td>\n",
              "      <td>45.338543</td>\n",
              "      <td>-19.746102</td>\n",
              "      <td>-39.785541</td>\n",
              "    </tr>\n",
              "    <tr>\n",
              "      <th>2002-09-15</th>\n",
              "      <td>1.473485</td>\n",
              "      <td>48.003426</td>\n",
              "      <td>-20.712401</td>\n",
              "      <td>-39.591811</td>\n",
              "    </tr>\n",
              "    <tr>\n",
              "      <th>2002-09-16</th>\n",
              "      <td>2.725016</td>\n",
              "      <td>47.913844</td>\n",
              "      <td>-19.926838</td>\n",
              "      <td>-40.409593</td>\n",
              "    </tr>\n",
              "    <tr>\n",
              "      <th>2002-09-17</th>\n",
              "      <td>2.880763</td>\n",
              "      <td>47.524985</td>\n",
              "      <td>-20.083093</td>\n",
              "      <td>-38.767505</td>\n",
              "    </tr>\n",
              "    <tr>\n",
              "      <th>2002-09-18</th>\n",
              "      <td>4.501894</td>\n",
              "      <td>48.607696</td>\n",
              "      <td>-20.891093</td>\n",
              "      <td>-39.361209</td>\n",
              "    </tr>\n",
              "    <tr>\n",
              "      <th>2002-09-19</th>\n",
              "      <td>5.161062</td>\n",
              "      <td>48.730677</td>\n",
              "      <td>-19.981360</td>\n",
              "      <td>-38.015424</td>\n",
              "    </tr>\n",
              "    <tr>\n",
              "      <th>2002-09-20</th>\n",
              "      <td>5.845148</td>\n",
              "      <td>47.605847</td>\n",
              "      <td>-19.558731</td>\n",
              "      <td>-37.413373</td>\n",
              "    </tr>\n",
              "    <tr>\n",
              "      <th>2002-09-21</th>\n",
              "      <td>4.121585</td>\n",
              "      <td>47.252611</td>\n",
              "      <td>-18.672245</td>\n",
              "      <td>-38.407171</td>\n",
              "    </tr>\n",
              "    <tr>\n",
              "      <th>2002-09-22</th>\n",
              "      <td>3.242136</td>\n",
              "      <td>46.532894</td>\n",
              "      <td>-17.384664</td>\n",
              "      <td>-37.505430</td>\n",
              "    </tr>\n",
              "    <tr>\n",
              "      <th>2002-09-23</th>\n",
              "      <td>2.344230</td>\n",
              "      <td>46.371375</td>\n",
              "      <td>-18.172075</td>\n",
              "      <td>-38.156979</td>\n",
              "    </tr>\n",
              "    <tr>\n",
              "      <th>2002-09-24</th>\n",
              "      <td>1.197374</td>\n",
              "      <td>46.034344</td>\n",
              "      <td>-19.109790</td>\n",
              "      <td>-36.742475</td>\n",
              "    </tr>\n",
              "    <tr>\n",
              "      <th>2002-09-25</th>\n",
              "      <td>1.768192</td>\n",
              "      <td>46.346920</td>\n",
              "      <td>-18.501118</td>\n",
              "      <td>-35.944919</td>\n",
              "    </tr>\n",
              "    <tr>\n",
              "      <th>2002-09-26</th>\n",
              "      <td>2.453351</td>\n",
              "      <td>44.887244</td>\n",
              "      <td>-18.553375</td>\n",
              "      <td>-35.320342</td>\n",
              "    </tr>\n",
              "  </tbody>\n",
              "</table>\n",
              "<p>1000 rows × 4 columns</p>\n",
              "</div>"
            ],
            "text/plain": [
              "                   A          B          C          D\n",
              "2000-01-01 -1.477020  -0.527529  -0.036027   0.784341\n",
              "2000-01-02 -0.311771  -1.098093  -1.543949   0.592547\n",
              "2000-01-03 -1.253529  -1.646134   0.226626   0.632994\n",
              "2000-01-04 -2.552555  -0.401140   1.407640   0.666701\n",
              "2000-01-05 -2.442198  -0.606283   1.606549   0.476352\n",
              "2000-01-06 -3.694426  -1.054839   0.633908   0.787278\n",
              "2000-01-07 -4.833544  -1.097215   0.214558   0.452135\n",
              "2000-01-08 -5.633861  -1.555339   0.522771   0.556776\n",
              "2000-01-09 -7.107693  -1.377898   0.857425   0.081930\n",
              "2000-01-10 -5.168906  -0.670639   0.925410  -0.312119\n",
              "2000-01-11 -5.631806  -0.817775  -0.180806  -0.327483\n",
              "2000-01-12 -4.528715  -0.732561  -0.391951   0.333096\n",
              "2000-01-13 -4.036885  -1.014247  -0.066303   0.233355\n",
              "2000-01-14 -4.285021  -0.328730  -0.370302   0.199103\n",
              "2000-01-15 -5.863973  -0.716161  -1.727700  -0.935397\n",
              "2000-01-16 -6.600670  -1.311529  -2.491114  -0.527505\n",
              "2000-01-17 -7.900888  -1.555013  -3.226951   0.137687\n",
              "2000-01-18 -8.185424  -1.179048  -4.405749  -0.614204\n",
              "2000-01-19 -6.960213  -0.701734  -5.022709  -0.596623\n",
              "2000-01-20 -8.213977  -0.875634  -5.219667  -0.085907\n",
              "2000-01-21 -7.755342  -1.133396  -4.312365  -2.120063\n",
              "2000-01-22 -5.824708  -0.932780  -3.511975  -2.636282\n",
              "2000-01-23 -4.722663  -1.220231  -5.064615  -3.161963\n",
              "2000-01-24 -4.903891  -2.193689  -3.491779  -2.889865\n",
              "2000-01-25 -4.461841  -2.882504  -4.135228  -3.067188\n",
              "2000-01-26 -3.319641  -2.282706  -2.929683  -3.221025\n",
              "2000-01-27 -3.895894  -2.596585  -3.270967  -3.246774\n",
              "2000-01-28 -4.320790  -2.732788  -2.797245  -3.726529\n",
              "2000-01-29 -2.927793  -1.591465  -1.086487  -5.112578\n",
              "2000-01-30 -2.098786  -2.488066  -0.804424  -6.249397\n",
              "...              ...        ...        ...        ...\n",
              "2002-08-28  2.259311  45.130141 -19.692639 -39.176207\n",
              "2002-08-29  3.387657  45.139104 -18.819457 -39.078879\n",
              "2002-08-30  2.524330  44.562304 -19.751202 -40.391036\n",
              "2002-08-31  2.379595  44.165152 -20.950253 -40.856768\n",
              "2002-09-01  3.116566  46.244133 -18.912162 -41.774556\n",
              "2002-09-02  3.735474  46.113884 -18.154587 -40.902224\n",
              "2002-09-03  3.210302  45.281658 -17.348647 -40.358695\n",
              "2002-09-04  3.392476  44.506133 -16.914733 -41.096192\n",
              "2002-09-05  0.636469  44.408066 -18.184979 -39.704831\n",
              "2002-09-06 -1.513000  44.860149 -19.374962 -39.087302\n",
              "2002-09-07  0.324473  44.792172 -19.563523 -38.801555\n",
              "2002-09-08 -0.040550  45.142953 -18.823901 -39.708270\n",
              "2002-09-09  1.057410  47.372522 -19.608536 -39.024438\n",
              "2002-09-10  0.081595  48.802213 -18.897118 -39.888005\n",
              "2002-09-11  1.272865  48.039290 -19.299100 -39.621758\n",
              "2002-09-12  1.258910  47.626425 -21.875000 -38.201059\n",
              "2002-09-13  2.048806  46.374573 -20.847134 -39.295497\n",
              "2002-09-14  1.576396  45.338543 -19.746102 -39.785541\n",
              "2002-09-15  1.473485  48.003426 -20.712401 -39.591811\n",
              "2002-09-16  2.725016  47.913844 -19.926838 -40.409593\n",
              "2002-09-17  2.880763  47.524985 -20.083093 -38.767505\n",
              "2002-09-18  4.501894  48.607696 -20.891093 -39.361209\n",
              "2002-09-19  5.161062  48.730677 -19.981360 -38.015424\n",
              "2002-09-20  5.845148  47.605847 -19.558731 -37.413373\n",
              "2002-09-21  4.121585  47.252611 -18.672245 -38.407171\n",
              "2002-09-22  3.242136  46.532894 -17.384664 -37.505430\n",
              "2002-09-23  2.344230  46.371375 -18.172075 -38.156979\n",
              "2002-09-24  1.197374  46.034344 -19.109790 -36.742475\n",
              "2002-09-25  1.768192  46.346920 -18.501118 -35.944919\n",
              "2002-09-26  2.453351  44.887244 -18.553375 -35.320342\n",
              "\n",
              "[1000 rows x 4 columns]"
            ]
          },
          "execution_count": 123,
          "metadata": {
            "tags": []
          },
          "output_type": "execute_result"
        }
      ],
      "source": [
        "pd.read_hdf('foo.h5','df')"
      ]
    },
    {
      "cell_type": "markdown",
      "metadata": {
        "id": "Yx5Tt6tFP23Y"
      },
      "source": [
        "### Excel\n",
        "\n",
        "Lendo e escrevendo arquivos do [MS Excel](http://pandas.pydata.org/pandas-docs/stable/io.html#io-excel)\n",
        "\n",
        "Escrevendo em um arquvio excel"
      ]
    },
    {
      "cell_type": "code",
      "execution_count": null,
      "metadata": {
        "id": "NfhMgNxxP23Z"
      },
      "outputs": [],
      "source": [
        "df.to_excel('foo.xlsx', sheet_name='Sheet1')"
      ]
    },
    {
      "cell_type": "markdown",
      "metadata": {
        "id": "Zuhs5-tjP23g"
      },
      "source": [
        "Lendo de um arquivo excel"
      ]
    },
    {
      "cell_type": "code",
      "execution_count": null,
      "metadata": {
        "id": "Z5Mq2Lg6P23h"
      },
      "outputs": [],
      "source": [
        "pd.read_excel('foo.xlsx', 'Sheet1', index_col=None, na_values=['NA'])"
      ]
    }
  ],
  "metadata": {
    "colab": {
      "collapsed_sections": [
        "2ZDkVwr5P2S1",
        "Tk6PkFT2P2Tc",
        "Zb093FyQebUF",
        "aeIiUXaNP2Xc",
        "sJHDFukveviv",
        "rzwv706pP2Z5",
        "UVPw75X7P2aK",
        "H0FYEMpAP2bi",
        "aAnDdLrDP2eH",
        "13A3qu_frWLP",
        "D6hq9880P2iY",
        "pIcY94_RP2ki",
        "vvcoq7YyP2nI",
        "DiqhBt9X5sPF",
        "q4cAsAzHP2oc",
        "O2GfLpNBP2pd",
        "ukmW2rbkP2p1",
        "Y-uxsgFdP2qe",
        "aVsdYs0aP2rT",
        "kO_45L80P2tz",
        "bUJnRLWcP2ug"
      ],
      "name": "10-minutes-to-pandas.ipynb",
      "provenance": []
    },
    "kernelspec": {
      "display_name": "Python 2",
      "language": "python",
      "name": "python2"
    },
    "language_info": {
      "codemirror_mode": {
        "name": "ipython",
        "version": 2
      },
      "file_extension": ".py",
      "mimetype": "text/x-python",
      "name": "python",
      "nbconvert_exporter": "python",
      "pygments_lexer": "ipython2",
      "version": "2.7.12"
    }
  },
  "nbformat": 4,
  "nbformat_minor": 0
}